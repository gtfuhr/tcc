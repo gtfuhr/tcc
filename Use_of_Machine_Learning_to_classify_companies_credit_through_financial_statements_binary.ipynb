{
 "cells": [
  {
   "cell_type": "markdown",
   "metadata": {
    "id": "cFJAze_G9KMH"
   },
   "source": [
    "# Merging of finantial states with ratings"
   ]
  },
  {
   "cell_type": "code",
   "execution_count": null,
   "metadata": {
    "colab": {
     "base_uri": "https://localhost:8080/",
     "height": 232
    },
    "id": "iD0VXHsS9Jaz",
    "outputId": "60a29117-21b7-4fe3-f98f-5e76628bf9bb"
   },
   "outputs": [],
   "source": [
    "#!/usr/bin/env python\n",
    "# coding: utf-8\n",
    "\n",
    "import pickle\n",
    "from collections import defaultdict\n",
    "import sys\n",
    "from itertools import groupby\n",
    "import numpy as np\n",
    "import pandas as pd\n",
    "from collections import Counter\n",
    "import gc\n",
    "from io import StringIO\n",
    "import datetime\n",
    "\n",
    "def clear_issuer_name(name):\n",
    "    name = name.replace(' CORPORATION', '')\n",
    "    name = name.replace(' CORP', '')\n",
    "    name = name.replace(' GROUP', '')\n",
    "    name = name.replace(' INC', '')\n",
    "    name = name.replace(' CO', '')\n",
    "    name = name.replace(' S.A.', '')\n",
    "    name = name.replace(' SA', '')\n",
    "    name = name.replace(' LP', '')\n",
    "    name = name.replace(' LTD', '')\n",
    "    name = name.replace(' LLC', '')\n",
    "    name = name.replace(' /DE/', '')\n",
    "    name = name.replace(' /CAN/', '')\n",
    "    name = name.replace(' LP', '')\n",
    "    name = name.replace(' /MD/', '')\n",
    "    name = name.replace(', LP', '')\n",
    "    name = name.replace(', LP', '')\n",
    "    name = name.replace(' PLC', '')\n",
    "    name = name.replace(' LP', '')\n",
    "\n",
    "    if name.endswith('.'):\n",
    "        name = name.replace('.', '')\n",
    "\n",
    "    if name.endswith(','):\n",
    "        name = name.replace(',', '')\n",
    "\n",
    "    return name\n",
    "\n",
    "def get_feats(d, feats):\n",
    "    return {feat: getattr(d, feat) for feat in feats}\n",
    "\n",
    "def load_dataset(fin_data_path, rating_path='./datasets/ratings_for_upload.csv'):\n",
    "    print(fin_data_path, rating_path)\n",
    "\n",
    "    rating_feats = []\n",
    "    print('Loading rating data.')\n",
    "    ratings = pd.read_csv(rating_path)\n",
    "\n",
    "    rating_feats.append('rating_agency_name')\n",
    "    rating_feats.append('issuer_name')\n",
    "    rating_feats.append('rating_type')\n",
    "    rating_feats.append('rating')\n",
    "    rating_feats.append('rating_action_date')\n",
    "    rating_feats.append('file_creating_date')\n",
    "    rating_feats.append('maturity_date')\n",
    "    rating_feats.append('sec_category')\n",
    "    rating_feats.append('issuer_clean')\n",
    "\n",
    "    print('Loading financial num data.')\n",
    "    with open(f'./datasets/{fin_data_path}/num.txt') as op:\n",
    "        df_num = pd.read_csv(StringIO(op.read()),sep='\\t')\n",
    "\n",
    "    print('Loading financial sub data.')\n",
    "    with open(f'./datasets/{fin_data_path}/sub.txt') as op:\n",
    "        df_sub = pd.read_csv(StringIO(op.read()),sep='\\t')\n",
    "\n",
    "    adsh_to_name = dict(zip(df_sub.adsh, df_sub.name))\n",
    "\n",
    "    df_num['issuer_clean'] = df_num['adsh'].apply(adsh_to_name.get).apply(clear_issuer_name)\n",
    "\n",
    "    del df_sub\n",
    "\n",
    "    tbt = set([\"Standard & Poor's Ratings Services\", \"Moody's Investors Service\", \"Fitch Ratings\"])\n",
    "    ratings['issuer_clean'] = ratings['issuer_name'].astype(str).apply(str.upper).apply(clear_issuer_name)\n",
    "    _ratings = ratings[ratings['issuer_clean'].isin(set(df_num['issuer_clean']))].copy()\n",
    "    _ratings = _ratings[_ratings['rating_agency_name'].isin(tbt)].copy()\n",
    "    del ratings\n",
    "    ratings_per_company = {comp:[] for comp in _ratings['issuer_clean']}\n",
    "\n",
    "    for row in _ratings.itertuples(index=False):\n",
    "        ratings_per_company[getattr(row, 'issuer_clean')].append(get_feats(row, rating_feats))\n",
    "\n",
    "    _sec_num = df_num[df_num['issuer_clean'].isin(set(_ratings['issuer_clean']))].copy()\n",
    "\n",
    "    del _ratings\n",
    "    del df_num\n",
    "\n",
    "    fin_statements = {k: defaultdict(dict) for k in set(_sec_num['issuer_clean'])}\n",
    "\n",
    "    print('Loading fin statements.')\n",
    "\n",
    "    for row in _sec_num.itertuples(index=False):\n",
    "        tag = getattr(row, 'tag')\n",
    "        qtrs = getattr(row, 'qtrs')\n",
    "        dt = datetime.datetime.strptime(str(getattr(row, 'ddate')), '%Y%m%d')\n",
    "        clear_issuer = clear_issuer_name(adsh_to_name[getattr(row, 'adsh')])\n",
    "\n",
    "        fin_statements[clear_issuer][f'{dt.strftime(\"%Y_%m\")}_{qtrs}Q'][tag] = getattr(row, 'value')\n",
    "\n",
    "    del _sec_num\n",
    "\n",
    "    fin_statements_per_year = defaultdict(dict)\n",
    "\n",
    "    for k in fin_statements:\n",
    "        for year, group in groupby(sorted(fin_statements[k]), lambda s: s[:4]):\n",
    "            fin_statements_per_year[k][year] = {}\n",
    "\n",
    "            for statement in group:\n",
    "                fin_statements_per_year[k][year].update(fin_statements[k][statement])\n",
    "\n",
    "    dataset = []\n",
    "\n",
    "    print('Creating dataset rows.')\n",
    "\n",
    "    for cmp, ratings in ratings_per_company.items():\n",
    "\n",
    "        for r in ratings:\n",
    "            r_year = r['rating_action_date'][0:4]\n",
    "\n",
    "            if r_year not in fin_statements_per_year[cmp]:\n",
    "                continue\n",
    "\n",
    "            row = {}\n",
    "            row['company'] = cmp\n",
    "            row['rating'] = r['rating']\n",
    "            row['rating_type'] = r['rating_type']\n",
    "            row['rating_agency'] = r['rating_agency_name']\n",
    "            row['year'] = r_year\n",
    "\n",
    "            row.update(fin_statements_per_year[cmp][r_year])\n",
    "\n",
    "            dataset.append(row)\n",
    "\n",
    "    del ratings_per_company\n",
    "    del fin_statements\n",
    "    del fin_statements_per_year\n",
    "\n",
    "    return dataset\n",
    "\n",
    "run = False\n",
    "\n",
    "if run:\n",
    "    dataset = []\n",
    "    \n",
    "    #for year, quarter in ((i,j) for i in ['2015'] for j in ['4']):\n",
    "    for year, quarter in ((i,j) for i in range(2013,2016) for j in range(1,5)):\n",
    "        print(len(dataset))\n",
    "        print(f'{sys.getsizeof(dataset)*0.000001} Mbs\\n')\n",
    "        dataset.extend(load_dataset(f'{year}q{quarter}'))\n",
    "        print(len(dataset))\n",
    "        print(f'{sys.getsizeof(dataset)*0.000001} Mbs\\n')\n",
    "    \n",
    "        gc.collect()\n",
    "        with open('dataset.pk', 'wb') as handle:\n",
    "            pickle.dump(dataset, handle, protocol=pickle.HIGHEST_PROTOCOL)\n",
    "\n",
    "with open('dataset.pk', 'rb') as handle:\n",
    "    dataset = pickle.load(handle)\n",
    "\n",
    "datasets_hash = [hash(frozenset(row.items())) for row in dataset]\n",
    "_, idxs = np.unique(datasets_hash, return_index=True)\n",
    "\n",
    "np_dataset = np.array(dataset)\n",
    "unique_dataset = np_dataset[idxs]\n",
    "\n",
    "columns = []\n",
    "\n",
    "for row in unique_dataset:\n",
    "    columns.extend(row.keys())\n",
    "\n",
    "count_cols = Counter(columns)\n",
    "most_common = count_cols.most_common(100)\n",
    "common_cols = [x[0] for x in most_common]\n",
    "\n",
    "_data = []\n",
    "\n",
    "for row in unique_dataset:\n",
    "    _data.append({k:row.get(k, np.nan) for k in common_cols})\n",
    "\n",
    "df = pd.DataFrame.from_records(_data)\n",
    "df.to_csv('./datasets/dataset_ready.csv')"
   ]
  },
  {
   "cell_type": "markdown",
   "metadata": {
    "id": "Ccjcv0hCfkww"
   },
   "source": [
    "\n",
    "# Example of a Decision Tree\n",
    "\n"
   ]
  },
  {
   "cell_type": "code",
   "execution_count": null,
   "metadata": {
    "colab": {
     "base_uri": "https://localhost:8080/",
     "height": 676
    },
    "id": "9uc4Ivv5potz",
    "outputId": "daee7070-10af-431c-f811-6afce74b27af"
   },
   "outputs": [],
   "source": [
    "!pip install -U scikit-learn\n",
    "!pip install -U xgboost\n",
    "!pip install -U pandas"
   ]
  },
  {
   "cell_type": "code",
   "execution_count": null,
   "metadata": {
    "colab": {
     "base_uri": "https://localhost:8080/"
    },
    "id": "rff9Q1ABfqyt",
    "outputId": "afd007a3-a242-478d-8415-98abbc00a1aa"
   },
   "outputs": [
    {
     "data": {
      "text/plain": [
       "{'test_acc': 0.9444444444444444,\n",
       " 'test_f1': 0.9439974457215836,\n",
       " 'test_recall': 0.9444444444444444,\n",
       " 'train_acc': 1.0}"
      ]
     },
     "execution_count": 1,
     "metadata": {},
     "output_type": "execute_result"
    }
   ],
   "source": [
    "import sklearn as sk\n",
    "from sklearn.model_selection import train_test_split\n",
    "from sklearn.metrics import accuracy_score, f1_score, recall_score\n",
    "from sklearn.datasets import load_wine\n",
    "from sklearn.tree import DecisionTreeClassifier\n",
    "\n",
    "def test_clf(clf, X_train, X_test, y_train, y_test, binary=True):\n",
    "    score = {}\n",
    "  \n",
    "    y_test_pred = clf.predict(X_test)\n",
    "    y_train_pred = clf.predict(X_train)\n",
    "\n",
    "    score['test_acc'] = accuracy_score(y_test, y_test_pred)\n",
    "    score['train_acc'] = accuracy_score(y_train, y_train_pred)\n",
    "\n",
    "    if binary:\n",
    "      score['test_f1'] = f1_score(y_test, y_test_pred, average='binary')\n",
    "      score['test_recall'] = recall_score(y_test, y_test_pred, average='binary')\n",
    "\n",
    "    else:\n",
    "      score['test_f1'] = f1_score(y_test, y_test_pred, average='weighted')\n",
    "      score['test_recall'] = recall_score(y_test, y_test_pred, average='weighted')\n",
    "\n",
    "    return score\n",
    "\n",
    "\n",
    "wine_X, wine_y = load_wine(return_X_y=True)\n",
    "\n",
    "kwa = {}\n",
    "\n",
    "kwa['random_state'] = 42\n",
    "kwa['test_size'] = 0.2\n",
    "\n",
    "X_train, X_test, y_train, y_test = train_test_split(wine_X, wine_y, **kwa)\n",
    "tree = DecisionTreeClassifier()\n",
    "\n",
    "tree.fit(X_train, y_train)\n",
    "test_clf(tree, X_train, X_test, y_train, y_test, binary=False)"
   ]
  },
  {
   "cell_type": "code",
   "execution_count": null,
   "metadata": {
    "colab": {
     "base_uri": "https://localhost:8080/",
     "height": 53
    },
    "id": "WcRW859LkYsi",
    "outputId": "432364dd-54c3-44c3-c880-e3a57ff3bebe"
   },
   "outputs": [
    {
     "data": {
      "application/vnd.google.colaboratory.intrinsic+json": {
       "type": "string"
      },
      "text/plain": [
       "'Source.gv.pdf'"
      ]
     },
     "execution_count": 2,
     "metadata": {},
     "output_type": "execute_result"
    },
    {
     "data": {
      "text/plain": [
       "<Figure size 720x720 with 0 Axes>"
      ]
     },
     "metadata": {},
     "output_type": "display_data"
    }
   ],
   "source": [
    "from sklearn.tree import export_graphviz\n",
    "import matplotlib.pyplot as plt\n",
    "import graphviz\n",
    "\n",
    "plt.figure(figsize=(10,10))\n",
    "\n",
    "kwa = {}\n",
    "\n",
    "kwa['decision_tree'] = tree\n",
    "kwa['out_file'] = None\n",
    "kwa['feature_names'] = load_wine()['feature_names']\n",
    "kwa['class_names'] = load_wine()['target_names']\n",
    "kwa['filled'] = True\n",
    "kwa['label'] = 'root'\n",
    "kwa['rounded'] = False\n",
    "kwa['leaves_parallel'] = False\n",
    "kwa['impurity'] = False\n",
    "kwa['special_characters'] = True\n",
    "kwa['proportion'] = False\n",
    "kwa['precision'] = 2\n",
    "kwa['rotate'] = False\n",
    "kwa['fontname'] = 'times'\n",
    "\n",
    "dot_data = export_graphviz(**kwa)\n",
    "\n",
    "graph = graphviz.Source(dot_data)\n",
    "\n",
    "graph.render(format='pdf', view=True)"
   ]
  },
  {
   "cell_type": "code",
   "execution_count": null,
   "metadata": {
    "colab": {
     "base_uri": "https://localhost:8080/",
     "height": 657
    },
    "id": "kc-9hUdgpgRt",
    "outputId": "a4fff0cf-ea65-4ccf-deb4-55fa9329dc68"
   },
   "outputs": [
    {
     "data": {
      "image/svg+xml": [
       "<?xml version=\"1.0\" encoding=\"UTF-8\" standalone=\"no\"?>\n",
       "<!DOCTYPE svg PUBLIC \"-//W3C//DTD SVG 1.1//EN\"\n",
       " \"http://www.w3.org/Graphics/SVG/1.1/DTD/svg11.dtd\">\n",
       "<!-- Generated by graphviz version 2.40.1 (20161225.0304)\n",
       " -->\n",
       "<!-- Title: Tree Pages: 1 -->\n",
       "<svg width=\"435pt\" height=\"477pt\"\n",
       " viewBox=\"0.00 0.00 435.00 477.00\" xmlns=\"http://www.w3.org/2000/svg\" xmlns:xlink=\"http://www.w3.org/1999/xlink\">\n",
       "<g id=\"graph0\" class=\"graph\" transform=\"scale(1 1) rotate(0) translate(4 473)\">\n",
       "<title>Tree</title>\n",
       "<polygon fill=\"#ffffff\" stroke=\"transparent\" points=\"-4,4 -4,-473 431,-473 431,4 -4,4\"/>\n",
       "<!-- 0 -->\n",
       "<g id=\"node1\" class=\"node\">\n",
       "<title>0</title>\n",
       "<polygon fill=\"#e7fcef\" stroke=\"#000000\" points=\"261,-469 118,-469 118,-401 261,-401 261,-469\"/>\n",
       "<text text-anchor=\"start\" x=\"126\" y=\"-453.8\" font-family=\"times\" font-size=\"14.00\" fill=\"#000000\">color_intensity ≤ 3.82</text>\n",
       "<text text-anchor=\"start\" x=\"147.5\" y=\"-438.8\" font-family=\"times\" font-size=\"14.00\" fill=\"#000000\">samples = 142</text>\n",
       "<text text-anchor=\"start\" x=\"131.5\" y=\"-423.8\" font-family=\"times\" font-size=\"14.00\" fill=\"#000000\">value = [45, 57, 40]</text>\n",
       "<text text-anchor=\"start\" x=\"147.5\" y=\"-408.8\" font-family=\"times\" font-size=\"14.00\" fill=\"#000000\">class = class_1</text>\n",
       "</g>\n",
       "<!-- 1 -->\n",
       "<g id=\"node2\" class=\"node\">\n",
       "<title>1</title>\n",
       "<polygon fill=\"#45e789\" stroke=\"#000000\" points=\"181,-365 68,-365 68,-297 181,-297 181,-365\"/>\n",
       "<text text-anchor=\"start\" x=\"76\" y=\"-349.8\" font-family=\"times\" font-size=\"14.00\" fill=\"#000000\">proline ≤ 1002.5</text>\n",
       "<text text-anchor=\"start\" x=\"116.5\" y=\"-334.8\" font-family=\"times\" font-size=\"14.00\" fill=\"#000000\">52</text>\n",
       "<text text-anchor=\"start\" x=\"97\" y=\"-319.8\" font-family=\"times\" font-size=\"14.00\" fill=\"#000000\">[3, 49, 0]</text>\n",
       "<text text-anchor=\"start\" x=\"103.5\" y=\"-304.8\" font-family=\"times\" font-size=\"14.00\" fill=\"#000000\">class_1</text>\n",
       "</g>\n",
       "<!-- 0&#45;&gt;1 -->\n",
       "<g id=\"edge1\" class=\"edge\">\n",
       "<title>0&#45;&gt;1</title>\n",
       "<path fill=\"none\" stroke=\"#000000\" d=\"M168.2166,-400.9465C162.7733,-392.2373 156.8516,-382.7626 151.175,-373.6801\"/>\n",
       "<polygon fill=\"#000000\" stroke=\"#000000\" points=\"154.0993,-371.755 145.8312,-365.13 148.1633,-375.465 154.0993,-371.755\"/>\n",
       "<text text-anchor=\"middle\" x=\"140.2098\" y=\"-385.7898\" font-family=\"times\" font-size=\"14.00\" fill=\"#000000\">True</text>\n",
       "</g>\n",
       "<!-- 6 -->\n",
       "<g id=\"node7\" class=\"node\">\n",
       "<title>6</title>\n",
       "<polygon fill=\"#fefaf7\" stroke=\"#000000\" points=\"309.5,-365 199.5,-365 199.5,-297 309.5,-297 309.5,-365\"/>\n",
       "<text text-anchor=\"start\" x=\"207.5\" y=\"-349.8\" font-family=\"times\" font-size=\"14.00\" fill=\"#000000\">flavanoids ≤ 1.4</text>\n",
       "<text text-anchor=\"start\" x=\"246.5\" y=\"-334.8\" font-family=\"times\" font-size=\"14.00\" fill=\"#000000\">90</text>\n",
       "<text text-anchor=\"start\" x=\"223.5\" y=\"-319.8\" font-family=\"times\" font-size=\"14.00\" fill=\"#000000\">[42, 8, 40]</text>\n",
       "<text text-anchor=\"start\" x=\"233.5\" y=\"-304.8\" font-family=\"times\" font-size=\"14.00\" fill=\"#000000\">class_0</text>\n",
       "</g>\n",
       "<!-- 0&#45;&gt;6 -->\n",
       "<g id=\"edge6\" class=\"edge\">\n",
       "<title>0&#45;&gt;6</title>\n",
       "<path fill=\"none\" stroke=\"#000000\" d=\"M210.7834,-400.9465C216.2267,-392.2373 222.1484,-382.7626 227.825,-373.6801\"/>\n",
       "<polygon fill=\"#000000\" stroke=\"#000000\" points=\"230.8367,-375.465 233.1688,-365.13 224.9007,-371.755 230.8367,-375.465\"/>\n",
       "<text text-anchor=\"middle\" x=\"238.7902\" y=\"-385.7898\" font-family=\"times\" font-size=\"14.00\" fill=\"#000000\">False</text>\n",
       "</g>\n",
       "<!-- 2 -->\n",
       "<g id=\"node3\" class=\"node\">\n",
       "<title>2</title>\n",
       "<polygon fill=\"#3de684\" stroke=\"#000000\" points=\"87,-261 10,-261 10,-193 87,-193 87,-261\"/>\n",
       "<text text-anchor=\"start\" x=\"18\" y=\"-245.8\" font-family=\"times\" font-size=\"14.00\" fill=\"#000000\">ash ≤ 3.07</text>\n",
       "<text text-anchor=\"start\" x=\"40.5\" y=\"-230.8\" font-family=\"times\" font-size=\"14.00\" fill=\"#000000\">50</text>\n",
       "<text text-anchor=\"start\" x=\"21\" y=\"-215.8\" font-family=\"times\" font-size=\"14.00\" fill=\"#000000\">[1, 49, 0]</text>\n",
       "<text text-anchor=\"start\" x=\"27.5\" y=\"-200.8\" font-family=\"times\" font-size=\"14.00\" fill=\"#000000\">class_1</text>\n",
       "</g>\n",
       "<!-- 1&#45;&gt;2 -->\n",
       "<g id=\"edge2\" class=\"edge\">\n",
       "<title>1&#45;&gt;2</title>\n",
       "<path fill=\"none\" stroke=\"#000000\" d=\"M99.6148,-296.9465C93.1847,-288.1475 86.1837,-278.5672 79.4841,-269.3993\"/>\n",
       "<polygon fill=\"#000000\" stroke=\"#000000\" points=\"82.1672,-267.1389 73.4412,-261.13 76.5155,-271.269 82.1672,-267.1389\"/>\n",
       "</g>\n",
       "<!-- 5 -->\n",
       "<g id=\"node6\" class=\"node\">\n",
       "<title>5</title>\n",
       "<polygon fill=\"#e58139\" stroke=\"#000000\" points=\"168,-253.5 105,-253.5 105,-200.5 168,-200.5 168,-253.5\"/>\n",
       "<text text-anchor=\"start\" x=\"132.5\" y=\"-238.3\" font-family=\"times\" font-size=\"14.00\" fill=\"#000000\">2</text>\n",
       "<text text-anchor=\"start\" x=\"113\" y=\"-223.3\" font-family=\"times\" font-size=\"14.00\" fill=\"#000000\">[2, 0, 0]</text>\n",
       "<text text-anchor=\"start\" x=\"115.5\" y=\"-208.3\" font-family=\"times\" font-size=\"14.00\" fill=\"#000000\">class_0</text>\n",
       "</g>\n",
       "<!-- 1&#45;&gt;5 -->\n",
       "<g id=\"edge5\" class=\"edge\">\n",
       "<title>1&#45;&gt;5</title>\n",
       "<path fill=\"none\" stroke=\"#000000\" d=\"M128.4292,-296.9465C129.6621,-286.2621 131.0278,-274.4254 132.2799,-263.5742\"/>\n",
       "<polygon fill=\"#000000\" stroke=\"#000000\" points=\"135.768,-263.8775 133.4374,-253.5422 128.8142,-263.075 135.768,-263.8775\"/>\n",
       "</g>\n",
       "<!-- 3 -->\n",
       "<g id=\"node4\" class=\"node\">\n",
       "<title>3</title>\n",
       "<polygon fill=\"#39e581\" stroke=\"#000000\" points=\"71,-149.5 0,-149.5 0,-96.5 71,-96.5 71,-149.5\"/>\n",
       "<text text-anchor=\"start\" x=\"27.5\" y=\"-134.3\" font-family=\"times\" font-size=\"14.00\" fill=\"#000000\">49</text>\n",
       "<text text-anchor=\"start\" x=\"8\" y=\"-119.3\" font-family=\"times\" font-size=\"14.00\" fill=\"#000000\">[0, 49, 0]</text>\n",
       "<text text-anchor=\"start\" x=\"14.5\" y=\"-104.3\" font-family=\"times\" font-size=\"14.00\" fill=\"#000000\">class_1</text>\n",
       "</g>\n",
       "<!-- 2&#45;&gt;3 -->\n",
       "<g id=\"edge3\" class=\"edge\">\n",
       "<title>2&#45;&gt;3</title>\n",
       "<path fill=\"none\" stroke=\"#000000\" d=\"M44.2433,-192.9465C42.9078,-182.2621 41.4282,-170.4254 40.0718,-159.5742\"/>\n",
       "<polygon fill=\"#000000\" stroke=\"#000000\" points=\"43.5312,-159.0308 38.8178,-149.5422 36.5852,-159.8991 43.5312,-159.0308\"/>\n",
       "</g>\n",
       "<!-- 4 -->\n",
       "<g id=\"node5\" class=\"node\">\n",
       "<title>4</title>\n",
       "<polygon fill=\"#e58139\" stroke=\"#000000\" points=\"152,-149.5 89,-149.5 89,-96.5 152,-96.5 152,-149.5\"/>\n",
       "<text text-anchor=\"start\" x=\"116.5\" y=\"-134.3\" font-family=\"times\" font-size=\"14.00\" fill=\"#000000\">1</text>\n",
       "<text text-anchor=\"start\" x=\"97\" y=\"-119.3\" font-family=\"times\" font-size=\"14.00\" fill=\"#000000\">[1, 0, 0]</text>\n",
       "<text text-anchor=\"start\" x=\"99.5\" y=\"-104.3\" font-family=\"times\" font-size=\"14.00\" fill=\"#000000\">class_0</text>\n",
       "</g>\n",
       "<!-- 2&#45;&gt;4 -->\n",
       "<g id=\"edge4\" class=\"edge\">\n",
       "<title>2&#45;&gt;4</title>\n",
       "<path fill=\"none\" stroke=\"#000000\" d=\"M72.0755,-192.9465C79.8537,-181.7113 88.5139,-169.2021 96.3355,-157.9043\"/>\n",
       "<polygon fill=\"#000000\" stroke=\"#000000\" points=\"99.3102,-159.7564 102.1247,-149.5422 93.5548,-155.7719 99.3102,-159.7564\"/>\n",
       "</g>\n",
       "<!-- 7 -->\n",
       "<g id=\"node8\" class=\"node\">\n",
       "<title>7</title>\n",
       "<polygon fill=\"#8139e5\" stroke=\"#000000\" points=\"279,-253.5 208,-253.5 208,-200.5 279,-200.5 279,-253.5\"/>\n",
       "<text text-anchor=\"start\" x=\"235.5\" y=\"-238.3\" font-family=\"times\" font-size=\"14.00\" fill=\"#000000\">40</text>\n",
       "<text text-anchor=\"start\" x=\"216\" y=\"-223.3\" font-family=\"times\" font-size=\"14.00\" fill=\"#000000\">[0, 0, 40]</text>\n",
       "<text text-anchor=\"start\" x=\"222.5\" y=\"-208.3\" font-family=\"times\" font-size=\"14.00\" fill=\"#000000\">class_2</text>\n",
       "</g>\n",
       "<!-- 6&#45;&gt;7 -->\n",
       "<g id=\"edge7\" class=\"edge\">\n",
       "<title>6&#45;&gt;7</title>\n",
       "<path fill=\"none\" stroke=\"#000000\" d=\"M250.8982,-296.9465C249.7681,-286.2621 248.5162,-274.4254 247.3684,-263.5742\"/>\n",
       "<polygon fill=\"#000000\" stroke=\"#000000\" points=\"250.8398,-263.1185 246.3073,-253.5422 243.8787,-263.8549 250.8398,-263.1185\"/>\n",
       "</g>\n",
       "<!-- 8 -->\n",
       "<g id=\"node9\" class=\"node\">\n",
       "<title>8</title>\n",
       "<polygon fill=\"#ea995f\" stroke=\"#000000\" points=\"403.5,-261 297.5,-261 297.5,-193 403.5,-193 403.5,-261\"/>\n",
       "<text text-anchor=\"start\" x=\"305.5\" y=\"-245.8\" font-family=\"times\" font-size=\"14.00\" fill=\"#000000\">proline ≤ 724.5</text>\n",
       "<text text-anchor=\"start\" x=\"342.5\" y=\"-230.8\" font-family=\"times\" font-size=\"14.00\" fill=\"#000000\">50</text>\n",
       "<text text-anchor=\"start\" x=\"323\" y=\"-215.8\" font-family=\"times\" font-size=\"14.00\" fill=\"#000000\">[42, 8, 0]</text>\n",
       "<text text-anchor=\"start\" x=\"329.5\" y=\"-200.8\" font-family=\"times\" font-size=\"14.00\" fill=\"#000000\">class_0</text>\n",
       "</g>\n",
       "<!-- 6&#45;&gt;8 -->\n",
       "<g id=\"edge8\" class=\"edge\">\n",
       "<title>6&#45;&gt;8</title>\n",
       "<path fill=\"none\" stroke=\"#000000\" d=\"M285.934,-296.9465C294.3047,-287.8782 303.4416,-277.9799 312.1383,-268.5585\"/>\n",
       "<polygon fill=\"#000000\" stroke=\"#000000\" points=\"314.7844,-270.852 318.9954,-261.13 309.6407,-266.1041 314.7844,-270.852\"/>\n",
       "</g>\n",
       "<!-- 9 -->\n",
       "<g id=\"node10\" class=\"node\">\n",
       "<title>9</title>\n",
       "<polygon fill=\"#52e891\" stroke=\"#000000\" points=\"338,-157 219,-157 219,-89 338,-89 338,-157\"/>\n",
       "<text text-anchor=\"start\" x=\"227\" y=\"-141.8\" font-family=\"times\" font-size=\"14.00\" fill=\"#000000\">malic_acid ≤ 3.92</text>\n",
       "<text text-anchor=\"start\" x=\"274.5\" y=\"-126.8\" font-family=\"times\" font-size=\"14.00\" fill=\"#000000\">9</text>\n",
       "<text text-anchor=\"start\" x=\"255\" y=\"-111.8\" font-family=\"times\" font-size=\"14.00\" fill=\"#000000\">[1, 8, 0]</text>\n",
       "<text text-anchor=\"start\" x=\"257.5\" y=\"-96.8\" font-family=\"times\" font-size=\"14.00\" fill=\"#000000\">class_1</text>\n",
       "</g>\n",
       "<!-- 8&#45;&gt;9 -->\n",
       "<g id=\"edge9\" class=\"edge\">\n",
       "<title>8&#45;&gt;9</title>\n",
       "<path fill=\"none\" stroke=\"#000000\" d=\"M326.9245,-192.9465C320.8329,-184.1475 314.2004,-174.5672 307.8534,-165.3993\"/>\n",
       "<polygon fill=\"#000000\" stroke=\"#000000\" points=\"310.6983,-163.3597 302.1285,-157.13 304.9429,-167.3442 310.6983,-163.3597\"/>\n",
       "</g>\n",
       "<!-- 12 -->\n",
       "<g id=\"node13\" class=\"node\">\n",
       "<title>12</title>\n",
       "<polygon fill=\"#e58139\" stroke=\"#000000\" points=\"427,-149.5 356,-149.5 356,-96.5 427,-96.5 427,-149.5\"/>\n",
       "<text text-anchor=\"start\" x=\"383.5\" y=\"-134.3\" font-family=\"times\" font-size=\"14.00\" fill=\"#000000\">41</text>\n",
       "<text text-anchor=\"start\" x=\"364\" y=\"-119.3\" font-family=\"times\" font-size=\"14.00\" fill=\"#000000\">[41, 0, 0]</text>\n",
       "<text text-anchor=\"start\" x=\"370.5\" y=\"-104.3\" font-family=\"times\" font-size=\"14.00\" fill=\"#000000\">class_0</text>\n",
       "</g>\n",
       "<!-- 8&#45;&gt;12 -->\n",
       "<g id=\"edge12\" class=\"edge\">\n",
       "<title>8&#45;&gt;12</title>\n",
       "<path fill=\"none\" stroke=\"#000000\" d=\"M363.9249,-192.9465C368.2239,-182.0418 372.9961,-169.9368 377.3454,-158.9043\"/>\n",
       "<polygon fill=\"#000000\" stroke=\"#000000\" points=\"380.6247,-160.129 381.0363,-149.5422 374.1125,-157.5617 380.6247,-160.129\"/>\n",
       "</g>\n",
       "<!-- 10 -->\n",
       "<g id=\"node11\" class=\"node\">\n",
       "<title>10</title>\n",
       "<polygon fill=\"#39e581\" stroke=\"#000000\" points=\"269,-53 206,-53 206,0 269,0 269,-53\"/>\n",
       "<text text-anchor=\"start\" x=\"233.5\" y=\"-37.8\" font-family=\"times\" font-size=\"14.00\" fill=\"#000000\">8</text>\n",
       "<text text-anchor=\"start\" x=\"214\" y=\"-22.8\" font-family=\"times\" font-size=\"14.00\" fill=\"#000000\">[0, 8, 0]</text>\n",
       "<text text-anchor=\"start\" x=\"216.5\" y=\"-7.8\" font-family=\"times\" font-size=\"14.00\" fill=\"#000000\">class_1</text>\n",
       "</g>\n",
       "<!-- 9&#45;&gt;10 -->\n",
       "<g id=\"edge10\" class=\"edge\">\n",
       "<title>9&#45;&gt;10</title>\n",
       "<path fill=\"none\" stroke=\"#000000\" d=\"M264.0449,-88.9777C260.4267,-80.4617 256.5326,-71.2963 252.8717,-62.6798\"/>\n",
       "<polygon fill=\"#000000\" stroke=\"#000000\" points=\"255.9964,-61.0836 248.8646,-53.2485 249.5538,-63.8209 255.9964,-61.0836\"/>\n",
       "</g>\n",
       "<!-- 11 -->\n",
       "<g id=\"node12\" class=\"node\">\n",
       "<title>11</title>\n",
       "<polygon fill=\"#e58139\" stroke=\"#000000\" points=\"350,-53 287,-53 287,0 350,0 350,-53\"/>\n",
       "<text text-anchor=\"start\" x=\"314.5\" y=\"-37.8\" font-family=\"times\" font-size=\"14.00\" fill=\"#000000\">1</text>\n",
       "<text text-anchor=\"start\" x=\"295\" y=\"-22.8\" font-family=\"times\" font-size=\"14.00\" fill=\"#000000\">[1, 0, 0]</text>\n",
       "<text text-anchor=\"start\" x=\"297.5\" y=\"-7.8\" font-family=\"times\" font-size=\"14.00\" fill=\"#000000\">class_0</text>\n",
       "</g>\n",
       "<!-- 9&#45;&gt;11 -->\n",
       "<g id=\"edge11\" class=\"edge\">\n",
       "<title>9&#45;&gt;11</title>\n",
       "<path fill=\"none\" stroke=\"#000000\" d=\"M292.6025,-88.9777C296.1324,-80.4617 299.9316,-71.2963 303.5032,-62.6798\"/>\n",
       "<polygon fill=\"#000000\" stroke=\"#000000\" points=\"306.8166,-63.8265 307.4125,-53.2485 300.3501,-61.1461 306.8166,-63.8265\"/>\n",
       "</g>\n",
       "</g>\n",
       "</svg>\n"
      ],
      "text/plain": [
       "<graphviz.files.Source at 0x7f2e7b168510>"
      ]
     },
     "execution_count": 4,
     "metadata": {},
     "output_type": "execute_result"
    }
   ],
   "source": [
    "graph"
   ]
  },
  {
   "cell_type": "markdown",
   "metadata": {
    "id": "0t9ceSCahdW7"
   },
   "source": []
  },
  {
   "cell_type": "markdown",
   "metadata": {
    "id": "59W0w4P-9a-5"
   },
   "source": [
    "# Modelling of the problem"
   ]
  },
  {
   "cell_type": "code",
   "execution_count": null,
   "metadata": {
    "colab": {
     "base_uri": "https://localhost:8080/"
    },
    "id": "ROqwQHYb9sKj",
    "outputId": "04fa3229-400b-4b00-cd9c-4469db359eff"
   },
   "outputs": [
    {
     "name": "stdout",
     "output_type": "stream",
     "text": [
      "Drive already mounted at /content/drive; to attempt to forcibly remount, call drive.mount(\"/content/drive\", force_remount=True).\n"
     ]
    }
   ],
   "source": [
    "from google.colab import drive\n",
    "drive.mount('/content/drive')"
   ]
  },
  {
   "cell_type": "code",
   "execution_count": null,
   "metadata": {
    "id": "SfzOSwvh-R0w"
   },
   "outputs": [],
   "source": [
    "import pickle\n",
    "from collections import defaultdict\n",
    "import sys\n",
    "from itertools import groupby\n",
    "import numpy as np\n",
    "import pandas as pd\n",
    "from collections import Counter\n",
    "import gc\n",
    "from io import StringIO\n",
    "import datetime\n",
    "\n",
    "dataset = pd.read_csv('/content/drive/MyDrive/tcc/dataset_ready.csv')"
   ]
  },
  {
   "cell_type": "code",
   "execution_count": null,
   "metadata": {
    "colab": {
     "base_uri": "https://localhost:8080/"
    },
    "id": "gWRYFrAP-sPN",
    "outputId": "e1e1aff9-7fdd-4790-917e-ec88bf65ea2b"
   },
   "outputs": [
    {
     "data": {
      "text/plain": [
       "{'(P)A2',\n",
       " '(P)A3',\n",
       " '(P)Aa2',\n",
       " '(P)Aa3',\n",
       " '(P)B1',\n",
       " '(P)B2',\n",
       " '(P)B3',\n",
       " '(P)Ba1',\n",
       " '(P)Ba2',\n",
       " '(P)Ba3',\n",
       " '(P)Baa1',\n",
       " '(P)Baa2',\n",
       " '(P)Baa3',\n",
       " '(P)C',\n",
       " '(P)Ca',\n",
       " '(P)Caa1',\n",
       " '(P)Caa2',\n",
       " '(P)Caa3',\n",
       " 'A',\n",
       " 'A (sf)',\n",
       " 'A+',\n",
       " 'A+prelim',\n",
       " 'A-',\n",
       " 'A- (sf)',\n",
       " 'A-1',\n",
       " 'A-1(HIGH)',\n",
       " 'A-1(LOW)',\n",
       " 'A-1(MID)',\n",
       " 'A-1+',\n",
       " 'A-1+prelim',\n",
       " 'A-1prelim',\n",
       " 'A-2',\n",
       " 'A-3',\n",
       " 'A-p',\n",
       " 'A-prelim',\n",
       " 'A1',\n",
       " 'A2',\n",
       " 'A2.ru',\n",
       " 'A3',\n",
       " 'A3.ru',\n",
       " 'AA',\n",
       " 'AA+',\n",
       " 'AA+prelim',\n",
       " 'AA-',\n",
       " 'AA-prelim',\n",
       " 'AA/A-1+',\n",
       " 'AAA',\n",
       " 'AAAm',\n",
       " 'AAAprelim',\n",
       " 'AAprelim',\n",
       " 'Aa1',\n",
       " 'Aa2',\n",
       " 'Aa3',\n",
       " 'Aaa',\n",
       " 'Ap',\n",
       " 'Aprelim',\n",
       " 'Aprelim (sf)',\n",
       " 'B',\n",
       " 'B+',\n",
       " 'B+prelim',\n",
       " 'B-',\n",
       " 'B-prelim',\n",
       " 'B1',\n",
       " 'B1-PD',\n",
       " 'B2',\n",
       " 'B2-PD',\n",
       " 'B3',\n",
       " 'B3-PD',\n",
       " 'BB',\n",
       " 'BB+',\n",
       " 'BB+prelim',\n",
       " 'BB-',\n",
       " 'BB-prelim',\n",
       " 'BBB',\n",
       " 'BBB+',\n",
       " 'BBB+(EXP)',\n",
       " 'BBB+p',\n",
       " 'BBB+prelim',\n",
       " 'BBB-',\n",
       " 'BBB- (sf)',\n",
       " 'BBB-(EXP)',\n",
       " 'BBB-prelim',\n",
       " 'BBB-prelim (sf)',\n",
       " 'BBBprelim',\n",
       " 'BBprelim',\n",
       " 'Ba1',\n",
       " 'Ba1-PD',\n",
       " 'Ba2',\n",
       " 'Ba2-PD',\n",
       " 'Ba3',\n",
       " 'Ba3-PD',\n",
       " 'Ba3.ru',\n",
       " 'Baa1',\n",
       " 'Baa2',\n",
       " 'Baa3',\n",
       " 'Baa3.ru',\n",
       " 'Bprelim',\n",
       " 'C',\n",
       " 'C-PD',\n",
       " 'CC',\n",
       " 'CC (sf)',\n",
       " 'CCC',\n",
       " 'CCC (sf)',\n",
       " 'CCC+',\n",
       " 'CCC+ (sf)',\n",
       " 'CCC+prelim',\n",
       " 'CCC-',\n",
       " 'CCC-prelim',\n",
       " 'CCCprelim',\n",
       " 'CCprelim',\n",
       " 'Ca',\n",
       " 'Ca-PD',\n",
       " 'Caa1',\n",
       " 'Caa1-PD',\n",
       " 'Caa2',\n",
       " 'Caa2-PD',\n",
       " 'Caa2.ru',\n",
       " 'Caa3',\n",
       " 'Caa3-PD',\n",
       " 'Cprelim',\n",
       " 'D',\n",
       " 'D-PD',\n",
       " 'Dprelim',\n",
       " 'F1',\n",
       " 'F1+',\n",
       " 'F2',\n",
       " 'F2(EXP)',\n",
       " 'F3',\n",
       " 'NP',\n",
       " 'NR',\n",
       " 'NRprelim',\n",
       " 'P-1',\n",
       " 'P-2',\n",
       " 'P-2prelim',\n",
       " 'P-3',\n",
       " 'P-3(High)',\n",
       " 'PIF',\n",
       " 'WD',\n",
       " 'WR',\n",
       " 'cnA-',\n",
       " 'cnB',\n",
       " 'cnBB',\n",
       " 'cnBB-',\n",
       " 'cnBBB+',\n",
       " 'zaA',\n",
       " 'zaA+',\n",
       " 'zaA-1',\n",
       " 'zaA-2',\n",
       " 'zaAA-'}"
      ]
     },
     "execution_count": 5,
     "metadata": {},
     "output_type": "execute_result"
    }
   ],
   "source": [
    "set(dataset['rating'])"
   ]
  },
  {
   "cell_type": "code",
   "execution_count": null,
   "metadata": {
    "colab": {
     "base_uri": "https://localhost:8080/"
    },
    "id": "wGbFqs8x-__j",
    "outputId": "e7717ea5-5700-4257-9c67-eb036c95d566"
   },
   "outputs": [
    {
     "data": {
      "text/plain": [
       "Instrument                                           28674\n",
       "Local Currency Preliminary LT                        28468\n",
       "Local Currency LT                                    12516\n",
       "Long Term Rating                                      9901\n",
       "Local Currency ST                                     5036\n",
       "Organization                                          1774\n",
       "Short Term Rating                                     1680\n",
       "Foreign Currency LT                                   1557\n",
       "Foreign Currency Preliminary LT                       1361\n",
       "Program                                                695\n",
       "S&P Published Underlying Rating                        589\n",
       "Foreign Currency ST                                    422\n",
       "Canada National Scale Commercial Paper                  85\n",
       "Local Currency Preliminary ST                           49\n",
       "Greater China Regional Scale LT                         26\n",
       "Sale                                                    24\n",
       "Foreign Currency Principal LT                           20\n",
       "Underlying Rating for Credit Program                    15\n",
       "South Africa National Scale LT                          12\n",
       "South Africa National Scale ST                          12\n",
       "Canada National Scale Preferred Share Preliminary       12\n",
       "Expected Short-Term Rating                              10\n",
       "Local Currency Principal LT                              8\n",
       "Canada National Scale Preferred Share                    6\n",
       "Name: rating_type, dtype: int64"
      ]
     },
     "execution_count": 6,
     "metadata": {},
     "output_type": "execute_result"
    }
   ],
   "source": [
    "dataset['rating_type'].value_counts()"
   ]
  },
  {
   "cell_type": "code",
   "execution_count": null,
   "metadata": {
    "id": "Mv4ozBoNAmgk"
   },
   "outputs": [],
   "source": [
    "eu_quality_step = {\n",
    "    'Aaa': \"1\", # Moody's Investors Service - Long-term\n",
    "    'Aa1': \"1\",\n",
    "    'Aa2': \"1\",\n",
    "    'Aa3': \"1\",\n",
    "    'A1': \"2\",\n",
    "    'A2': \"2\",\n",
    "    'A3': \"2\",\n",
    "    'Baa1': \"3\",\n",
    "    'Baa2': \"3\",\n",
    "    'Baa3': \"3\",\n",
    "    'Ba1': \"4\",\n",
    "    'Ba2': \"4\",\n",
    "    'Ba3': \"4\",\n",
    "    'B1': \"5\",\n",
    "    'B2': \"5\",\n",
    "    'B3': \"5\",\n",
    "    'Caa1': \"6\",\n",
    "    'Caa2': \"6\",\n",
    "    'Caa3': \"6\",\n",
    "    'Ca': \"6\",\n",
    "    'C': \"6\",\n",
    "    'P-1': \"1\", # Moody's Investors Service - Short-term\n",
    "    'P-2': \"1\",\n",
    "    'P-3': \"1\",\n",
    "    'Not Prime': \"1\",\n",
    "    'AAA': \"1\", # Fitch Ratings - Long-term\n",
    "    'AA+': \"1\",\n",
    "    'AA': \"1\",\n",
    "    'AA-': \"1\",\n",
    "    'A+': \"2\",\n",
    "    'A': \"2\",\n",
    "    'A-': \"2\",\n",
    "    'BBB+': \"3\",\n",
    "    'BBB': \"3\",\n",
    "    'BBB-': \"3\",\n",
    "    'BB+': \"4\",\n",
    "    'BB': \"4\",\n",
    "    'BB-': \"4\",\n",
    "    'B+': \"5\",\n",
    "    'B': \"5\",\n",
    "    'B-': \"5\",\n",
    "    'CCC+': \"6\",\n",
    "    'CCC': \"6\",\n",
    "    'CCC-': \"6\",\n",
    "    'CC': \"6\",\n",
    "    'C': \"6\",\n",
    "    'RD': \"6\", \n",
    "    'D': \"6\",\n",
    "    'F1+': \"1\", # Fitch Ratings - Short-term\n",
    "    'F1': \"1\",\n",
    "    'F2': \"2\",\n",
    "    'F3': \"3\",\n",
    "    'B': \"4\",\n",
    "    'C': \"6\",\n",
    "    'D': \"6\",\n",
    "    'AAA': \"1\", # Standard & Poor's Ratings Services - Long-term\n",
    "    'AA+': \"1\",\n",
    "    'AA': \"1\",\n",
    "    'AA-': \"1\",\n",
    "    'A+/A1': \"2\",\n",
    "    'A+': \"2\",\n",
    "    'A': \"2\",\n",
    "    'A-': \"2\",\n",
    "    'BBB+': \"3\",\n",
    "    'BBB': \"3\",\n",
    "    'BBB-': \"3\",\n",
    "    'BB+': \"4\",\n",
    "    'BB': \"4\",\n",
    "    'BB-': \"4\",\n",
    "    'B+': \"5\",\n",
    "    'B': \"5\",\n",
    "    'B-': \"5\",\n",
    "    'CCC+': \"6\",\n",
    "    'CCC': \"6\",\n",
    "    'CCC-': \"6\",\n",
    "    'CC': \"6\",\n",
    "    'C': \"6\",\n",
    "    'RD': \"6\", \n",
    "    'SD': \"6\",\n",
    "    'D': \"6\",\n",
    "    'A-1+': \"1\", # Standard & Poor's Ratings Services - Short-term\n",
    "    'A-1': \"2\",\n",
    "    'A-2': \"3\",\n",
    "    'A-3': \"3\",\n",
    "    'B': \"4\",\n",
    "    'C': \"6\",\n",
    "    'D': \"6\"\n",
    "}"
   ]
  },
  {
   "cell_type": "code",
   "execution_count": null,
   "metadata": {
    "id": "UZ8fbNGfPdkm"
   },
   "outputs": [],
   "source": [
    "i_s_mapping = {\n",
    "    '1': 1, # Standard & Poor's Ratings Services - Short-term\n",
    "    '2': 1,\n",
    "    '3': 1,\n",
    "    '4': 0,\n",
    "    '5': 0,\n",
    "    '6': 0\n",
    "}"
   ]
  },
  {
   "cell_type": "code",
   "execution_count": null,
   "metadata": {
    "colab": {
     "base_uri": "https://localhost:8080/"
    },
    "id": "3FM5p-1SGgZZ",
    "outputId": "11e5bede-b540-444a-80a2-63eef1999a72"
   },
   "outputs": [
    {
     "name": "stderr",
     "output_type": "stream",
     "text": [
      "/usr/local/lib/python3.7/dist-packages/ipykernel_launcher.py:7: FutureWarning: The default value of regex will change from True to False in a future version.\n",
      "  import sys\n"
     ]
    }
   ],
   "source": [
    "rep = ['-PD', 'm','za','\\(P\\)', 'preli', 'PD', '\\(EXP\\)', ' \\(sf\\)', '.ru']\n",
    "rep.extend(['\\(HIGH\\)', '\\(LOW\\)', '\\(MID\\)', '\\(High\\)', 'p'])\n",
    "rep.extend(['cn', 'p', 'z'])\n",
    "rating_map = dataset[\"rating\"]\n",
    "\n",
    "for sub in rep:\n",
    "  rating_map = rating_map.str.replace(sub, '')\n",
    "\n",
    "dataset['rating_step'] = rating_map.map(eu_quality_step)\n",
    "dataset['investment_or_speculative'] = dataset['rating_step'].map(i_s_mapping)"
   ]
  },
  {
   "cell_type": "code",
   "execution_count": null,
   "metadata": {
    "colab": {
     "base_uri": "https://localhost:8080/"
    },
    "id": "2rx8YlCgG3n-",
    "outputId": "91af0241-f5ab-473e-bd5b-aa6edd548938"
   },
   "outputs": [
    {
     "data": {
      "text/plain": [
       "3    27738\n",
       "4    18288\n",
       "2    11733\n",
       "5    10664\n",
       "6     5726\n",
       "1     3668\n",
       "Name: rating_step, dtype: int64"
      ]
     },
     "execution_count": 10,
     "metadata": {},
     "output_type": "execute_result"
    }
   ],
   "source": [
    "dataset['rating_step'].value_counts()"
   ]
  },
  {
   "cell_type": "code",
   "execution_count": null,
   "metadata": {
    "colab": {
     "base_uri": "https://localhost:8080/",
     "height": 508
    },
    "id": "VncGhD4DNGMY",
    "outputId": "d647f544-328a-4834-9ca8-9479a7afe0c4"
   },
   "outputs": [
    {
     "data": {
      "text/html": [
       "\n",
       "  <div id=\"df-ce10b339-21f9-4e72-91b5-0f43c6c07fb9\">\n",
       "    <div class=\"colab-df-container\">\n",
       "      <div>\n",
       "<style scoped>\n",
       "    .dataframe tbody tr th:only-of-type {\n",
       "        vertical-align: middle;\n",
       "    }\n",
       "\n",
       "    .dataframe tbody tr th {\n",
       "        vertical-align: top;\n",
       "    }\n",
       "\n",
       "    .dataframe thead th {\n",
       "        text-align: right;\n",
       "    }\n",
       "</style>\n",
       "<table border=\"1\" class=\"dataframe\">\n",
       "  <thead>\n",
       "    <tr style=\"text-align: right;\">\n",
       "      <th></th>\n",
       "      <th>Unnamed: 0</th>\n",
       "      <th>company</th>\n",
       "      <th>rating</th>\n",
       "      <th>rating_type</th>\n",
       "      <th>rating_agency</th>\n",
       "      <th>year</th>\n",
       "      <th>CashAndCashEquivalentsAtCarryingValue</th>\n",
       "      <th>IncomeTaxExpenseBenefit</th>\n",
       "      <th>Assets</th>\n",
       "      <th>LiabilitiesAndStockholdersEquity</th>\n",
       "      <th>AccumulatedOtherComprehensiveIncomeLossNetOfTax</th>\n",
       "      <th>CashAndCashEquivalentsPeriodIncreaseDecrease</th>\n",
       "      <th>NetIncomeLoss</th>\n",
       "      <th>StockholdersEquity</th>\n",
       "      <th>ComprehensiveIncomeNetOfTax</th>\n",
       "      <th>RetainedEarningsAccumulatedDeficit</th>\n",
       "      <th>WeightedAverageNumberOfDilutedSharesOutstanding</th>\n",
       "      <th>WeightedAverageNumberOfSharesOutstandingBasic</th>\n",
       "      <th>EarningsPerShareBasic</th>\n",
       "      <th>EarningsPerShareDiluted</th>\n",
       "      <th>PropertyPlantAndEquipmentNet</th>\n",
       "      <th>InterestExpense</th>\n",
       "      <th>NetCashProvidedByUsedInInvestingActivities</th>\n",
       "      <th>OperatingIncomeLoss</th>\n",
       "      <th>CommonStockValue</th>\n",
       "      <th>NetCashProvidedByUsedInFinancingActivities</th>\n",
       "      <th>NetCashProvidedByUsedInOperatingActivities</th>\n",
       "      <th>Goodwill</th>\n",
       "      <th>ShareBasedCompensation</th>\n",
       "      <th>CommonStockSharesAuthorized</th>\n",
       "      <th>CommonStockParOrStatedValuePerShare</th>\n",
       "      <th>CommonStockSharesIssued</th>\n",
       "      <th>OtherComprehensiveIncomeLossNetOfTax</th>\n",
       "      <th>AssetsCurrent</th>\n",
       "      <th>LiabilitiesCurrent</th>\n",
       "      <th>DeferredIncomeTaxExpenseBenefit</th>\n",
       "      <th>PaymentsToAcquirePropertyPlantAndEquipment</th>\n",
       "      <th>Liabilities</th>\n",
       "      <th>StockholdersEquityIncludingPortionAttributableToNoncontrollingInterest</th>\n",
       "      <th>OtherAssetsNoncurrent</th>\n",
       "      <th>...</th>\n",
       "      <th>NetIncomeLossAttributableToNoncontrollingInterest</th>\n",
       "      <th>IncomeLossFromEquityMethodInvestments</th>\n",
       "      <th>ProceedsFromPaymentsForOtherFinancingActivities</th>\n",
       "      <th>DeferredTaxLiabilitiesNoncurrent</th>\n",
       "      <th>ProceedsFromIssuanceOfLongTermDebt</th>\n",
       "      <th>LongTermDebtNoncurrent</th>\n",
       "      <th>IntangibleAssetsNetExcludingGoodwill</th>\n",
       "      <th>MinorityInterest</th>\n",
       "      <th>IncreaseDecreaseInAccountsReceivable</th>\n",
       "      <th>EntityCommonStockSharesOutstanding</th>\n",
       "      <th>AdditionalPaidInCapitalCommonStock</th>\n",
       "      <th>CommonStockDividendsPerShareDeclared</th>\n",
       "      <th>OtherComprehensiveIncomeLossForeignCurrencyTransactionAndTranslationAdjustmentNetOfTax</th>\n",
       "      <th>IncomeLossFromContinuingOperationsBeforeIncomeTaxesExtraordinaryItemsNoncontrollingInterest</th>\n",
       "      <th>LongTermDebt</th>\n",
       "      <th>IncomeTaxesPaidNet</th>\n",
       "      <th>PropertyPlantAndEquipmentGross</th>\n",
       "      <th>IncrementalCommonSharesAttributableToShareBasedPaymentArrangements</th>\n",
       "      <th>FiniteLivedIntangibleAssetsAccumulatedAmortization</th>\n",
       "      <th>PaymentsOfDividendsCommonStock</th>\n",
       "      <th>NetIncomeLossAvailableToCommonStockholdersBasic</th>\n",
       "      <th>InterestPaid</th>\n",
       "      <th>TreasuryStockShares</th>\n",
       "      <th>PreferredStockSharesAuthorized</th>\n",
       "      <th>UnrecognizedTaxBenefits</th>\n",
       "      <th>OtherAssetsCurrent</th>\n",
       "      <th>PaymentsToAcquireBusinessesNetOfCashAcquired</th>\n",
       "      <th>AllowanceForDoubtfulAccountsReceivableCurrent</th>\n",
       "      <th>ComprehensiveIncomeNetOfTaxAttributableToNoncontrollingInterest</th>\n",
       "      <th>OtherComprehensiveIncomeLossPensionAndOtherPostretirementBenefitPlansAdjustmentNetOfTax</th>\n",
       "      <th>AllocatedShareBasedCompensationExpense</th>\n",
       "      <th>NetCashProvidedByUsedInOperatingActivitiesContinuingOperations</th>\n",
       "      <th>PreferredStockValue</th>\n",
       "      <th>AdditionalPaidInCapital</th>\n",
       "      <th>ExcessTaxBenefitFromShareBasedCompensationFinancingActivities</th>\n",
       "      <th>OtherNoncashIncomeExpense</th>\n",
       "      <th>DeferredTaxAssetsNetCurrent</th>\n",
       "      <th>IncreaseDecreaseInOtherOperatingAssets</th>\n",
       "      <th>rating_step</th>\n",
       "      <th>investment_or_speculative</th>\n",
       "    </tr>\n",
       "  </thead>\n",
       "  <tbody>\n",
       "    <tr>\n",
       "      <th>0</th>\n",
       "      <td>0</td>\n",
       "      <td>TEVA PHARMACEUTICAL INDUSTRIES</td>\n",
       "      <td>NRprelim</td>\n",
       "      <td>Foreign Currency Preliminary LT</td>\n",
       "      <td>Standard &amp; Poor's Ratings Services</td>\n",
       "      <td>2015</td>\n",
       "      <td>1.068000e+09</td>\n",
       "      <td>192000000.0</td>\n",
       "      <td>5.037100e+10</td>\n",
       "      <td>5.037100e+10</td>\n",
       "      <td>-1.893000e+09</td>\n",
       "      <td>-1.158000e+09</td>\n",
       "      <td>985000000.0</td>\n",
       "      <td>2.303800e+10</td>\n",
       "      <td>436000000.0</td>\n",
       "      <td>1.483900e+10</td>\n",
       "      <td>859000000.0</td>\n",
       "      <td>850000000.0</td>\n",
       "      <td>1.16</td>\n",
       "      <td>1.15</td>\n",
       "      <td>6.427000e+09</td>\n",
       "      <td>NaN</td>\n",
       "      <td>-5.136000e+09</td>\n",
       "      <td>1.411000e+09</td>\n",
       "      <td>5.000000e+07</td>\n",
       "      <td>1.180000e+09</td>\n",
       "      <td>2.834000e+09</td>\n",
       "      <td>1.925700e+10</td>\n",
       "      <td>60000000.0</td>\n",
       "      <td>2.500000e+09</td>\n",
       "      <td>0.10</td>\n",
       "      <td>960000000.0</td>\n",
       "      <td>-547000000.0</td>\n",
       "      <td>1.329900e+10</td>\n",
       "      <td>1.447300e+10</td>\n",
       "      <td>NaN</td>\n",
       "      <td>354000000.0</td>\n",
       "      <td>2.728600e+10</td>\n",
       "      <td>2.308500e+10</td>\n",
       "      <td>3.173000e+09</td>\n",
       "      <td>...</td>\n",
       "      <td>-2000000.0</td>\n",
       "      <td>-3000000.0</td>\n",
       "      <td>-154000000.0</td>\n",
       "      <td>1.976000e+09</td>\n",
       "      <td>NaN</td>\n",
       "      <td>NaN</td>\n",
       "      <td>8.215000e+09</td>\n",
       "      <td>47000000.0</td>\n",
       "      <td>NaN</td>\n",
       "      <td>959693434.0</td>\n",
       "      <td>NaN</td>\n",
       "      <td>NaN</td>\n",
       "      <td>-685000000.0</td>\n",
       "      <td>NaN</td>\n",
       "      <td>NaN</td>\n",
       "      <td>NaN</td>\n",
       "      <td>NaN</td>\n",
       "      <td>NaN</td>\n",
       "      <td>NaN</td>\n",
       "      <td>578000000.0</td>\n",
       "      <td>NaN</td>\n",
       "      <td>NaN</td>\n",
       "      <td>110000000.0</td>\n",
       "      <td>NaN</td>\n",
       "      <td>NaN</td>\n",
       "      <td>NaN</td>\n",
       "      <td>3.261000e+09</td>\n",
       "      <td>NaN</td>\n",
       "      <td>NaN</td>\n",
       "      <td>4000000.0</td>\n",
       "      <td>NaN</td>\n",
       "      <td>NaN</td>\n",
       "      <td>NaN</td>\n",
       "      <td>1.432400e+10</td>\n",
       "      <td>NaN</td>\n",
       "      <td>NaN</td>\n",
       "      <td>1.352000e+09</td>\n",
       "      <td>NaN</td>\n",
       "      <td>NaN</td>\n",
       "      <td>NaN</td>\n",
       "    </tr>\n",
       "    <tr>\n",
       "      <th>1</th>\n",
       "      <td>1</td>\n",
       "      <td>KINDER MORGAN</td>\n",
       "      <td>BB-</td>\n",
       "      <td>Local Currency LT</td>\n",
       "      <td>Standard &amp; Poor's Ratings Services</td>\n",
       "      <td>2011</td>\n",
       "      <td>4.090000e+08</td>\n",
       "      <td>361000000.0</td>\n",
       "      <td>3.071700e+10</td>\n",
       "      <td>3.071700e+10</td>\n",
       "      <td>-1.150000e+08</td>\n",
       "      <td>-9.100000e+07</td>\n",
       "      <td>594000000.0</td>\n",
       "      <td>8.568000e+09</td>\n",
       "      <td>NaN</td>\n",
       "      <td>-3.000000e+06</td>\n",
       "      <td>NaN</td>\n",
       "      <td>NaN</td>\n",
       "      <td>NaN</td>\n",
       "      <td>NaN</td>\n",
       "      <td>2.330000e+09</td>\n",
       "      <td>703000000.0</td>\n",
       "      <td>-2.392000e+09</td>\n",
       "      <td>1.423000e+09</td>\n",
       "      <td>NaN</td>\n",
       "      <td>-5.700000e+07</td>\n",
       "      <td>2.366000e+09</td>\n",
       "      <td>3.638000e+09</td>\n",
       "      <td>0.0</td>\n",
       "      <td>NaN</td>\n",
       "      <td>NaN</td>\n",
       "      <td>10120000.0</td>\n",
       "      <td>108000000.0</td>\n",
       "      <td>1.663000e+09</td>\n",
       "      <td>4.529000e+09</td>\n",
       "      <td>84000000.0</td>\n",
       "      <td>179000000.0</td>\n",
       "      <td>2.214900e+10</td>\n",
       "      <td>8.568000e+09</td>\n",
       "      <td>NaN</td>\n",
       "      <td>...</td>\n",
       "      <td>-66000000.0</td>\n",
       "      <td>22000000.0</td>\n",
       "      <td>-4000000.0</td>\n",
       "      <td>2.199000e+09</td>\n",
       "      <td>NaN</td>\n",
       "      <td>1.978000e+09</td>\n",
       "      <td>1.185000e+09</td>\n",
       "      <td>0.0</td>\n",
       "      <td>-8000000.0</td>\n",
       "      <td>NaN</td>\n",
       "      <td>NaN</td>\n",
       "      <td>1.05</td>\n",
       "      <td>-35000000.0</td>\n",
       "      <td>810000000.0</td>\n",
       "      <td>1.118300e+10</td>\n",
       "      <td>277000000.0</td>\n",
       "      <td>NaN</td>\n",
       "      <td>NaN</td>\n",
       "      <td>NaN</td>\n",
       "      <td>246000000.0</td>\n",
       "      <td>524000000.0</td>\n",
       "      <td>NaN</td>\n",
       "      <td>NaN</td>\n",
       "      <td>10000000.0</td>\n",
       "      <td>57000000.0</td>\n",
       "      <td>94000000.0</td>\n",
       "      <td>0.000000e+00</td>\n",
       "      <td>NaN</td>\n",
       "      <td>NaN</td>\n",
       "      <td>61000000.0</td>\n",
       "      <td>13000000.0</td>\n",
       "      <td>NaN</td>\n",
       "      <td>0.0</td>\n",
       "      <td>3.431000e+09</td>\n",
       "      <td>NaN</td>\n",
       "      <td>NaN</td>\n",
       "      <td>NaN</td>\n",
       "      <td>NaN</td>\n",
       "      <td>4</td>\n",
       "      <td>0.0</td>\n",
       "    </tr>\n",
       "    <tr>\n",
       "      <th>2</th>\n",
       "      <td>2</td>\n",
       "      <td>ASHLAND</td>\n",
       "      <td>BB</td>\n",
       "      <td>Local Currency LT</td>\n",
       "      <td>Standard &amp; Poor's Ratings Services</td>\n",
       "      <td>2014</td>\n",
       "      <td>1.393000e+09</td>\n",
       "      <td>-188000000.0</td>\n",
       "      <td>1.092000e+10</td>\n",
       "      <td>1.092000e+10</td>\n",
       "      <td>1.070000e+08</td>\n",
       "      <td>1.047000e+09</td>\n",
       "      <td>233000000.0</td>\n",
       "      <td>3.583000e+09</td>\n",
       "      <td>52000000.0</td>\n",
       "      <td>3.475000e+09</td>\n",
       "      <td>78000000.0</td>\n",
       "      <td>77000000.0</td>\n",
       "      <td>3.04</td>\n",
       "      <td>3.00</td>\n",
       "      <td>2.414000e+09</td>\n",
       "      <td>NaN</td>\n",
       "      <td>NaN</td>\n",
       "      <td>4.600000e+07</td>\n",
       "      <td>1.000000e+06</td>\n",
       "      <td>NaN</td>\n",
       "      <td>NaN</td>\n",
       "      <td>2.643000e+09</td>\n",
       "      <td>34000000.0</td>\n",
       "      <td>2.000000e+08</td>\n",
       "      <td>0.01</td>\n",
       "      <td>NaN</td>\n",
       "      <td>-181000000.0</td>\n",
       "      <td>3.561000e+09</td>\n",
       "      <td>1.687000e+09</td>\n",
       "      <td>294000000.0</td>\n",
       "      <td>248000000.0</td>\n",
       "      <td>NaN</td>\n",
       "      <td>NaN</td>\n",
       "      <td>4.790000e+08</td>\n",
       "      <td>...</td>\n",
       "      <td>NaN</td>\n",
       "      <td>-25000000.0</td>\n",
       "      <td>NaN</td>\n",
       "      <td>1.100000e+08</td>\n",
       "      <td>0.0</td>\n",
       "      <td>2.911000e+09</td>\n",
       "      <td>1.309000e+09</td>\n",
       "      <td>NaN</td>\n",
       "      <td>16000000.0</td>\n",
       "      <td>NaN</td>\n",
       "      <td>0.0</td>\n",
       "      <td>0.34</td>\n",
       "      <td>-160000000.0</td>\n",
       "      <td>-116000000.0</td>\n",
       "      <td>2.951000e+09</td>\n",
       "      <td>NaN</td>\n",
       "      <td>4.275000e+09</td>\n",
       "      <td>1000000.0</td>\n",
       "      <td>393000000.0</td>\n",
       "      <td>103000000.0</td>\n",
       "      <td>NaN</td>\n",
       "      <td>154000000.0</td>\n",
       "      <td>NaN</td>\n",
       "      <td>NaN</td>\n",
       "      <td>155000000.0</td>\n",
       "      <td>83000000.0</td>\n",
       "      <td>0.000000e+00</td>\n",
       "      <td>13000000.0</td>\n",
       "      <td>NaN</td>\n",
       "      <td>21000000.0</td>\n",
       "      <td>34000000.0</td>\n",
       "      <td>580000000.0</td>\n",
       "      <td>NaN</td>\n",
       "      <td>NaN</td>\n",
       "      <td>12000000.0</td>\n",
       "      <td>NaN</td>\n",
       "      <td>1.180000e+08</td>\n",
       "      <td>NaN</td>\n",
       "      <td>4</td>\n",
       "      <td>0.0</td>\n",
       "    </tr>\n",
       "    <tr>\n",
       "      <th>3</th>\n",
       "      <td>3</td>\n",
       "      <td>WISCONSIN ELECTRIC POWER</td>\n",
       "      <td>A-2</td>\n",
       "      <td>Local Currency ST</td>\n",
       "      <td>Standard &amp; Poor's Ratings Services</td>\n",
       "      <td>2013</td>\n",
       "      <td>2.510000e+07</td>\n",
       "      <td>55300000.0</td>\n",
       "      <td>1.228560e+10</td>\n",
       "      <td>1.228560e+10</td>\n",
       "      <td>NaN</td>\n",
       "      <td>-1.000000e+07</td>\n",
       "      <td>104700000.0</td>\n",
       "      <td>NaN</td>\n",
       "      <td>NaN</td>\n",
       "      <td>NaN</td>\n",
       "      <td>NaN</td>\n",
       "      <td>NaN</td>\n",
       "      <td>NaN</td>\n",
       "      <td>NaN</td>\n",
       "      <td>9.282700e+09</td>\n",
       "      <td>31900000.0</td>\n",
       "      <td>-1.180000e+08</td>\n",
       "      <td>1.731000e+08</td>\n",
       "      <td>3.406800e+09</td>\n",
       "      <td>-7.730000e+07</td>\n",
       "      <td>1.853000e+08</td>\n",
       "      <td>NaN</td>\n",
       "      <td>NaN</td>\n",
       "      <td>NaN</td>\n",
       "      <td>NaN</td>\n",
       "      <td>NaN</td>\n",
       "      <td>NaN</td>\n",
       "      <td>1.113800e+09</td>\n",
       "      <td>1.158100e+09</td>\n",
       "      <td>NaN</td>\n",
       "      <td>108700000.0</td>\n",
       "      <td>NaN</td>\n",
       "      <td>NaN</td>\n",
       "      <td>1.645000e+08</td>\n",
       "      <td>...</td>\n",
       "      <td>NaN</td>\n",
       "      <td>14700000.0</td>\n",
       "      <td>6800000.0</td>\n",
       "      <td>1.794500e+09</td>\n",
       "      <td>NaN</td>\n",
       "      <td>2.167300e+09</td>\n",
       "      <td>NaN</td>\n",
       "      <td>NaN</td>\n",
       "      <td>50300000.0</td>\n",
       "      <td>NaN</td>\n",
       "      <td>NaN</td>\n",
       "      <td>NaN</td>\n",
       "      <td>NaN</td>\n",
       "      <td>160000000.0</td>\n",
       "      <td>NaN</td>\n",
       "      <td>2000000.0</td>\n",
       "      <td>NaN</td>\n",
       "      <td>NaN</td>\n",
       "      <td>NaN</td>\n",
       "      <td>60000000.0</td>\n",
       "      <td>104400000.0</td>\n",
       "      <td>NaN</td>\n",
       "      <td>NaN</td>\n",
       "      <td>NaN</td>\n",
       "      <td>NaN</td>\n",
       "      <td>NaN</td>\n",
       "      <td>NaN</td>\n",
       "      <td>NaN</td>\n",
       "      <td>NaN</td>\n",
       "      <td>NaN</td>\n",
       "      <td>NaN</td>\n",
       "      <td>NaN</td>\n",
       "      <td>30400000.0</td>\n",
       "      <td>NaN</td>\n",
       "      <td>NaN</td>\n",
       "      <td>NaN</td>\n",
       "      <td>NaN</td>\n",
       "      <td>-26100000.0</td>\n",
       "      <td>3</td>\n",
       "      <td>1.0</td>\n",
       "    </tr>\n",
       "    <tr>\n",
       "      <th>4</th>\n",
       "      <td>4</td>\n",
       "      <td>MUFG AMERICAS HOLDINGS</td>\n",
       "      <td>A</td>\n",
       "      <td>Local Currency LT</td>\n",
       "      <td>Standard &amp; Poor's Ratings Services</td>\n",
       "      <td>2015</td>\n",
       "      <td>NaN</td>\n",
       "      <td>NaN</td>\n",
       "      <td>NaN</td>\n",
       "      <td>NaN</td>\n",
       "      <td>NaN</td>\n",
       "      <td>NaN</td>\n",
       "      <td>NaN</td>\n",
       "      <td>NaN</td>\n",
       "      <td>NaN</td>\n",
       "      <td>NaN</td>\n",
       "      <td>NaN</td>\n",
       "      <td>NaN</td>\n",
       "      <td>NaN</td>\n",
       "      <td>NaN</td>\n",
       "      <td>NaN</td>\n",
       "      <td>NaN</td>\n",
       "      <td>NaN</td>\n",
       "      <td>NaN</td>\n",
       "      <td>NaN</td>\n",
       "      <td>NaN</td>\n",
       "      <td>NaN</td>\n",
       "      <td>NaN</td>\n",
       "      <td>NaN</td>\n",
       "      <td>NaN</td>\n",
       "      <td>NaN</td>\n",
       "      <td>NaN</td>\n",
       "      <td>NaN</td>\n",
       "      <td>NaN</td>\n",
       "      <td>NaN</td>\n",
       "      <td>NaN</td>\n",
       "      <td>NaN</td>\n",
       "      <td>NaN</td>\n",
       "      <td>NaN</td>\n",
       "      <td>NaN</td>\n",
       "      <td>...</td>\n",
       "      <td>NaN</td>\n",
       "      <td>NaN</td>\n",
       "      <td>NaN</td>\n",
       "      <td>NaN</td>\n",
       "      <td>NaN</td>\n",
       "      <td>NaN</td>\n",
       "      <td>NaN</td>\n",
       "      <td>NaN</td>\n",
       "      <td>NaN</td>\n",
       "      <td>136330831.0</td>\n",
       "      <td>NaN</td>\n",
       "      <td>NaN</td>\n",
       "      <td>NaN</td>\n",
       "      <td>NaN</td>\n",
       "      <td>NaN</td>\n",
       "      <td>NaN</td>\n",
       "      <td>NaN</td>\n",
       "      <td>NaN</td>\n",
       "      <td>NaN</td>\n",
       "      <td>NaN</td>\n",
       "      <td>NaN</td>\n",
       "      <td>NaN</td>\n",
       "      <td>NaN</td>\n",
       "      <td>NaN</td>\n",
       "      <td>NaN</td>\n",
       "      <td>NaN</td>\n",
       "      <td>NaN</td>\n",
       "      <td>NaN</td>\n",
       "      <td>NaN</td>\n",
       "      <td>NaN</td>\n",
       "      <td>NaN</td>\n",
       "      <td>NaN</td>\n",
       "      <td>NaN</td>\n",
       "      <td>NaN</td>\n",
       "      <td>NaN</td>\n",
       "      <td>NaN</td>\n",
       "      <td>NaN</td>\n",
       "      <td>NaN</td>\n",
       "      <td>2</td>\n",
       "      <td>1.0</td>\n",
       "    </tr>\n",
       "  </tbody>\n",
       "</table>\n",
       "<p>5 rows × 103 columns</p>\n",
       "</div>\n",
       "      <button class=\"colab-df-convert\" onclick=\"convertToInteractive('df-ce10b339-21f9-4e72-91b5-0f43c6c07fb9')\"\n",
       "              title=\"Convert this dataframe to an interactive table.\"\n",
       "              style=\"display:none;\">\n",
       "        \n",
       "  <svg xmlns=\"http://www.w3.org/2000/svg\" height=\"24px\"viewBox=\"0 0 24 24\"\n",
       "       width=\"24px\">\n",
       "    <path d=\"M0 0h24v24H0V0z\" fill=\"none\"/>\n",
       "    <path d=\"M18.56 5.44l.94 2.06.94-2.06 2.06-.94-2.06-.94-.94-2.06-.94 2.06-2.06.94zm-11 1L8.5 8.5l.94-2.06 2.06-.94-2.06-.94L8.5 2.5l-.94 2.06-2.06.94zm10 10l.94 2.06.94-2.06 2.06-.94-2.06-.94-.94-2.06-.94 2.06-2.06.94z\"/><path d=\"M17.41 7.96l-1.37-1.37c-.4-.4-.92-.59-1.43-.59-.52 0-1.04.2-1.43.59L10.3 9.45l-7.72 7.72c-.78.78-.78 2.05 0 2.83L4 21.41c.39.39.9.59 1.41.59.51 0 1.02-.2 1.41-.59l7.78-7.78 2.81-2.81c.8-.78.8-2.07 0-2.86zM5.41 20L4 18.59l7.72-7.72 1.47 1.35L5.41 20z\"/>\n",
       "  </svg>\n",
       "      </button>\n",
       "      \n",
       "  <style>\n",
       "    .colab-df-container {\n",
       "      display:flex;\n",
       "      flex-wrap:wrap;\n",
       "      gap: 12px;\n",
       "    }\n",
       "\n",
       "    .colab-df-convert {\n",
       "      background-color: #E8F0FE;\n",
       "      border: none;\n",
       "      border-radius: 50%;\n",
       "      cursor: pointer;\n",
       "      display: none;\n",
       "      fill: #1967D2;\n",
       "      height: 32px;\n",
       "      padding: 0 0 0 0;\n",
       "      width: 32px;\n",
       "    }\n",
       "\n",
       "    .colab-df-convert:hover {\n",
       "      background-color: #E2EBFA;\n",
       "      box-shadow: 0px 1px 2px rgba(60, 64, 67, 0.3), 0px 1px 3px 1px rgba(60, 64, 67, 0.15);\n",
       "      fill: #174EA6;\n",
       "    }\n",
       "\n",
       "    [theme=dark] .colab-df-convert {\n",
       "      background-color: #3B4455;\n",
       "      fill: #D2E3FC;\n",
       "    }\n",
       "\n",
       "    [theme=dark] .colab-df-convert:hover {\n",
       "      background-color: #434B5C;\n",
       "      box-shadow: 0px 1px 3px 1px rgba(0, 0, 0, 0.15);\n",
       "      filter: drop-shadow(0px 1px 2px rgba(0, 0, 0, 0.3));\n",
       "      fill: #FFFFFF;\n",
       "    }\n",
       "  </style>\n",
       "\n",
       "      <script>\n",
       "        const buttonEl =\n",
       "          document.querySelector('#df-ce10b339-21f9-4e72-91b5-0f43c6c07fb9 button.colab-df-convert');\n",
       "        buttonEl.style.display =\n",
       "          google.colab.kernel.accessAllowed ? 'block' : 'none';\n",
       "\n",
       "        async function convertToInteractive(key) {\n",
       "          const element = document.querySelector('#df-ce10b339-21f9-4e72-91b5-0f43c6c07fb9');\n",
       "          const dataTable =\n",
       "            await google.colab.kernel.invokeFunction('convertToInteractive',\n",
       "                                                     [key], {});\n",
       "          if (!dataTable) return;\n",
       "\n",
       "          const docLinkHtml = 'Like what you see? Visit the ' +\n",
       "            '<a target=\"_blank\" href=https://colab.research.google.com/notebooks/data_table.ipynb>data table notebook</a>'\n",
       "            + ' to learn more about interactive tables.';\n",
       "          element.innerHTML = '';\n",
       "          dataTable['output_type'] = 'display_data';\n",
       "          await google.colab.output.renderOutput(dataTable, element);\n",
       "          const docLink = document.createElement('div');\n",
       "          docLink.innerHTML = docLinkHtml;\n",
       "          element.appendChild(docLink);\n",
       "        }\n",
       "      </script>\n",
       "    </div>\n",
       "  </div>\n",
       "  "
      ],
      "text/plain": [
       "   Unnamed: 0  ... investment_or_speculative\n",
       "0           0  ...                       NaN\n",
       "1           1  ...                       0.0\n",
       "2           2  ...                       0.0\n",
       "3           3  ...                       1.0\n",
       "4           4  ...                       1.0\n",
       "\n",
       "[5 rows x 103 columns]"
      ]
     },
     "execution_count": 11,
     "metadata": {},
     "output_type": "execute_result"
    }
   ],
   "source": [
    "dataset.head()"
   ]
  },
  {
   "cell_type": "code",
   "execution_count": null,
   "metadata": {
    "colab": {
     "base_uri": "https://localhost:8080/",
     "height": 380
    },
    "id": "xL_PD3d6M2Qn",
    "outputId": "77841cb9-9edd-484a-ac35-7309b3baa45a"
   },
   "outputs": [],
   "source": [
    "dataset.reset_index()\n",
    "dataset_clean = dataset.loc[dataset['investment_or_speculative'].notna()]\n",
    "dataset_clean.dropna(axis='index', thresh=50, inplace=True)\n",
    "dataset_clean.dropna(axis='columns', thresh=int(dataset_clean.shape[0]*.6), inplace=True)\n",
    "# dataset_clean = dataset_clean.loc[dataset_clean['rating_type']]\n",
    "drop_cols = ['company', 'rating', 'rating_type', 'Unnamed: 0', 'rating_agency', 'year', 'investment_or_speculative', 'OtherComprehensiveIncomeLossNetOfTax']\n",
    "drop_cols.append('rating_step')\n",
    "\n",
    "X = dataset_clean.drop(columns=drop_cols).copy()\n",
    "y = dataset_clean['investment_or_speculative'].copy()\n",
    "\n",
    "# X.dropna(axis='index', thresh=20, inplace=True)"
   ]
  },
  {
   "cell_type": "code",
   "execution_count": null,
   "metadata": {
    "colab": {
     "base_uri": "https://localhost:8080/"
    },
    "id": "GOMwg3ostUrp",
    "outputId": "1043b5c3-a816-4226-ac8d-dbda7393d6ee"
   },
   "outputs": [
    {
     "data": {
      "text/plain": [
       "3    16068\n",
       "4    10636\n",
       "2     6363\n",
       "5     6141\n",
       "6     2994\n",
       "1     1819\n",
       "Name: rating_step, dtype: int64"
      ]
     },
     "execution_count": 73,
     "metadata": {},
     "output_type": "execute_result"
    }
   ],
   "source": [
    "dataset_clean['rating_step'].value_counts()"
   ]
  },
  {
   "cell_type": "code",
   "execution_count": null,
   "metadata": {
    "id": "qU3eDbSrL5M8"
   },
   "outputs": [],
   "source": [
    "X.fillna(0, inplace=True)"
   ]
  },
  {
   "cell_type": "code",
   "execution_count": null,
   "metadata": {
    "id": "QzIXITF7LwU2"
   },
   "outputs": [],
   "source": [
    "mapper = {'CashAndCashEquivalentsAtCarryingValue': \"Caixa ou Equivalentes\",\n",
    " 'IncomeTaxExpenseBenefit': \"Despesa/Beneficio do IR\",\n",
    " 'Assets': \"Ativos\",\n",
    " 'LiabilitiesAndStockholdersEquity': \"Soma do Passivo e Patrimônio Líquido\",\n",
    " 'AccumulatedOtherComprehensiveIncomeLossNetOfTax': \"Custos com transações\",\n",
    " 'CashAndCashEquivalentsPeriodIncreaseDecrease': \"Aumento/Redução de caixa\",\n",
    " 'NetIncomeLoss': \"Perda de renda líquida\",\n",
    " 'StockholdersEquity': \"Patrimônio Líquido\",\n",
    " 'ComprehensiveIncomeNetOfTax': \"Aumento/Redução Patrimônio Líquido\",\n",
    " 'RetainedEarningsAccumulatedDeficit': \"Aumento/Redução do Lucro\",\n",
    " 'WeightedAverageNumberOfDilutedSharesOutstanding': \"Núm. de Ações criadas\",\n",
    " 'WeightedAverageNumberOfSharesOutstandingBasic': \"Núm. de Ações\",\n",
    " 'EarningsPerShareBasic':\"Lucro/Prejuízo por Ação\",\n",
    " 'EarningsPerShareDiluted': \"Lucro/Prejuízo por Ação Diluída\",\n",
    " 'PropertyPlantAndEquipmentNet': \"Propriedade e Equipamentos\",\n",
    " 'InterestExpense': \"Gastos com Juros\",\n",
    " 'NetCashProvidedByUsedInInvestingActivities': \"Ganhos com investimentos\",\n",
    " 'OperatingIncomeLoss': \"Perda de lucro por operação\",\n",
    " 'CommonStockValue': \"Valor da ação comum\",\n",
    " 'NetCashProvidedByUsedInFinancingActivities': \"Ganho/Perda com financiamento\",\n",
    " 'NetCashProvidedByUsedInOperatingActivities': \"Ganho/Perda com operações\",\n",
    " 'Goodwill': \"Patrimônio de marca\",\n",
    " 'ShareBasedCompensation': \"Remuneração em Ações\",\n",
    " 'CommonStockSharesAuthorized': \"Núm. Máx de ações de sócios\",\n",
    " 'CommonStockParOrStatedValuePerShare': \"Valor declarado de ação comum\",\n",
    " 'CommonStockSharesIssued': \"Valor declarado de sócios\",\n",
    " 'AssetsCurrent': \"Ativos correntes\",\n",
    " 'LiabilitiesCurrent': \"Passivo Circulante\",\n",
    " 'DeferredIncomeTaxExpenseBenefit': \"Aumento/Redução de impostos\",\n",
    " 'PaymentsToAcquirePropertyPlantAndEquipment': \"Investimentos em propriedades\",\n",
    " 'Liabilities': \"Passivo\",\n",
    " 'StockholdersEquityIncludingPortionAttributableToNoncontrollingInterest': \"Patrimônio permanente\",\n",
    " 'OtherAssetsNoncurrent': \"Ativos a longo prazo\",\n",
    " 'OtherLiabilitiesNoncurrent': \"Passivos a longo prazo\",\n",
    " 'ProfitLoss': \"Ganho/Lucro\",\n",
    " 'AccountsPayableCurrent': \"Crédito a curto prazo\",\n",
    " 'AccumulatedDepreciationDepletionAndAmortizationPropertyPlantAndEquipment': \"Depreciação/Amortização\"}\n",
    "\n",
    "X.rename(columns=mapper, inplace=True)"
   ]
  },
  {
   "cell_type": "code",
   "execution_count": null,
   "metadata": {
    "colab": {
     "base_uri": "https://localhost:8080/"
    },
    "id": "1BMPQb_r0Hjm",
    "outputId": "ac07c8cb-53ce-41e5-feb7-57dcd43158f8"
   },
   "outputs": [
    {
     "name": "stdout",
     "output_type": "stream",
     "text": [
      "Caixa ou Equivalentes\n",
      "Despesa/Beneficio do IR\n",
      "Ativos\n",
      "Soma do Passivo e Patrimônio Líquido\n",
      "Custos com transações\n",
      "Aumento/Redução de caixa\n",
      "Perda de renda líquida\n",
      "Patrimônio Líquido\n",
      "Aumento/Redução Patrimônio Líquido\n",
      "Aumento/Redução do Lucro\n",
      "Núm. de Ações criadas\n",
      "Núm. de Ações\n",
      "Lucro/Prejuízo por Ação\n",
      "Lucro/Prejuízo por Ação Diluída\n",
      "Propriedade e Equipamentos\n",
      "Gastos com Juros\n",
      "Ganhos com investimentos\n",
      "Perda de lucro por operação\n",
      "Valor da ação comum\n",
      "Ganho/Perda com financiamento\n",
      "Ganho/Perda com operações\n",
      "Patrimônio de marca\n",
      "Remuneração em Ações\n",
      "Núm. Máx de ações de sócios\n",
      "Valor declarado de ação comum\n",
      "Valor declarado de sócios\n",
      "Ativos correntes\n",
      "Passivo Circulante\n",
      "Aumento/Redução de impostos\n",
      "Investimentos em propriedades\n",
      "Passivo\n",
      "Patrimônio permanente\n",
      "Ativos a longo prazo\n",
      "Passivos a longo prazo\n",
      "Ganho/Lucro\n",
      "Crédito a curto prazo\n",
      "Depreciação/Amortização\n"
     ]
    }
   ],
   "source": [
    "for x in list(X.columns):\n",
    "  print(x)"
   ]
  },
  {
   "cell_type": "code",
   "execution_count": null,
   "metadata": {
    "colab": {
     "base_uri": "https://localhost:8080/"
    },
    "id": "EGlwPIObMEY7",
    "outputId": "9a5030dc-b15b-4633-9b8c-8f09206b00d2"
   },
   "outputs": [
    {
     "data": {
      "text/plain": [
       "{'test_acc': 0.7965472855304006,\n",
       " 'test_f1': 0.7958855303572552,\n",
       " 'test_recall': 0.7965472855304006,\n",
       " 'train_acc': 0.8083663269942234}"
      ]
     },
     "execution_count": 77,
     "metadata": {},
     "output_type": "execute_result"
    }
   ],
   "source": [
    "from sklearn.model_selection import train_test_split\n",
    "from sklearn.metrics import recall_score\n",
    "\n",
    "top_10 = [\n",
    "'Núm. de Ações criadas',\n",
    "'Patrimônio Líquido',\n",
    "'Valor declarado de ação comum',\n",
    "'Valor da ação comum',\n",
    "'Passivos a longo prazo',\n",
    "'Núm. de Ações',\n",
    "'Lucro/Prejuízo por Ação Diluída',\n",
    "'Aumento/Redução Patrimônio Líquido',\n",
    "'Aumento/Redução do Lucro',\n",
    "'Ativos']\n",
    "\n",
    "kwa = {}\n",
    "\n",
    "kwa['random_state'] = 43\n",
    "kwa['test_size'] = 0.3\n",
    "\n",
    "X_train, X_test, y_train, y_test = train_test_split(X[top_10], y, **kwa)\n",
    "tree = DecisionTreeClassifier(max_depth=5, min_samples_split=400,max_leaf_nodes=15)\n",
    "\n",
    "tree.fit(X_train, y_train)\n",
    "test_clf(tree, X_train, X_test, y_train, y_test, binary=False)"
   ]
  },
  {
   "cell_type": "code",
   "execution_count": null,
   "metadata": {
    "colab": {
     "base_uri": "https://localhost:8080/"
    },
    "id": "gZiEv2mH08n1",
    "outputId": "3b887b6f-5d8b-4852-9c9e-583d3475fbc8"
   },
   "outputs": [
    {
     "data": {
      "text/plain": [
       "3    16068\n",
       "4    10636\n",
       "2     6363\n",
       "5     6141\n",
       "6     2994\n",
       "1     1819\n",
       "Name: rating_step, dtype: int64"
      ]
     },
     "execution_count": 78,
     "metadata": {},
     "output_type": "execute_result"
    }
   ],
   "source": [
    "dataset_clean['rating_step'].value_counts()"
   ]
  },
  {
   "cell_type": "code",
   "execution_count": null,
   "metadata": {
    "colab": {
     "base_uri": "https://localhost:8080/",
     "height": 380
    },
    "id": "JYQXmVntj4Sx",
    "outputId": "b50679c4-9eb4-4917-d3be-652aed3bc678"
   },
   "outputs": [],
   "source": [
    "y_naive_test = np.repeat('3', len(y_test))\n",
    "y_naive_train = np.repeat('3', len(y_train))\n",
    "\n",
    "score = {}\n",
    "\n",
    "score['test_f1'] = f1_score(y_test, y_naive_test, average='weighted')\n",
    "score['test_acc'] = accuracy_score(y_test, y_naive_test)\n",
    "score['test_recall'] = recall_score(y_test, y_naive_test, average='weighted')\n",
    "score['train_f1'] = f1_score(y_train, y_naive_train, average='weighted')\n",
    "score['train_acc'] = accuracy_score(y_train, y_naive_train)\n",
    "score['train_recall'] = recall_score(y_train, y_naive_train, average='weighted')\n",
    "\n",
    "print(score)"
   ]
  },
  {
   "cell_type": "code",
   "execution_count": null,
   "metadata": {
    "colab": {
     "base_uri": "https://localhost:8080/"
    },
    "id": "v0Dr-izx1LnM",
    "outputId": "21b14322-c872-43c1-c7da-54af88cfb1ac"
   },
   "outputs": [
    {
     "data": {
      "text/plain": [
       "0.5508734467640445"
      ]
     },
     "execution_count": 22,
     "metadata": {},
     "output_type": "execute_result"
    }
   ],
   "source": [
    "24250/(24250+19771)"
   ]
  },
  {
   "cell_type": "code",
   "execution_count": null,
   "metadata": {
    "colab": {
     "base_uri": "https://localhost:8080/",
     "height": 397
    },
    "id": "J86cIjHDyZtD",
    "outputId": "187ca22f-c89c-4861-fcf4-26d32921b7bd"
   },
   "outputs": [],
   "source": [
    "from sklearn.tree import export_graphviz\n",
    "import matplotlib.pyplot as plt\n",
    "import graphviz\n",
    " \n",
    "plt.figure(figsize=(10,10))\n",
    "\n",
    "kwa = {}\n",
    "\n",
    "kwa['decision_tree'] = tree\n",
    "kwa['out_file'] = None\n",
    "kwa['feature_names'] = top_10\n",
    "kwa['class_names'] = ['Especulativo', 'Investimento']\n",
    "kwa['filled'] = True\n",
    "kwa['label'] = 'root'\n",
    "kwa['rounded'] = False\n",
    "kwa['leaves_parallel'] = False\n",
    "kwa['impurity'] = False\n",
    "kwa['special_characters'] = True\n",
    "kwa['proportion'] = False\n",
    "kwa['precision'] = 2\n",
    "kwa['rotate'] = False\n",
    "kwa['fontname'] = 'times'\n",
    "\n",
    "dot_data = export_graphviz(**kwa)\n",
    "\n",
    "graph = graphviz.Source(dot_data)\n",
    "\n",
    "graph.render(format='pdf', view=True)"
   ]
  },
  {
   "cell_type": "code",
   "execution_count": null,
   "metadata": {
    "colab": {
     "base_uri": "https://localhost:8080/",
     "height": 351
    },
    "id": "TG8SUCA4NpvM",
    "outputId": "d66b02cd-9581-4d03-d2d7-7731de30cac9"
   },
   "outputs": [
    {
     "name": "stderr",
     "output_type": "stream",
     "text": [
      "/usr/local/lib/python3.7/dist-packages/sklearn/utils/deprecation.py:87: FutureWarning: Function plot_confusion_matrix is deprecated; Function `plot_confusion_matrix` is deprecated in 1.0 and will be removed in 1.2. Use one of the class methods: ConfusionMatrixDisplay.from_predictions or ConfusionMatrixDisplay.from_estimator.\n",
      "  warnings.warn(msg, category=FutureWarning)\n"
     ]
    },
    {
     "data": {
      "text/plain": [
       "<sklearn.metrics._plot.confusion_matrix.ConfusionMatrixDisplay at 0x7fab39a9fc90>"
      ]
     },
     "execution_count": 24,
     "metadata": {},
     "output_type": "execute_result"
    },
    {
     "data": {
      "image/png": "[encoded data removed]",
      "text/plain": [
       "<Figure size 432x288 with 2 Axes>"
      ]
     },
     "metadata": {
      "needs_background": "light"
     },
     "output_type": "display_data"
    }
   ],
   "source": [
    "from sklearn.metrics import plot_confusion_matrix\n",
    "\n",
    "plot_confusion_matrix(tree, X_test, y_test)"
   ]
  },
  {
   "cell_type": "code",
   "execution_count": null,
   "metadata": {
    "colab": {
     "base_uri": "https://localhost:8080/",
     "height": 452
    },
    "id": "KLu4Yx7qwI6Q",
    "outputId": "4575e03c-794f-46f3-82d1-3658bf5f0f83"
   },
   "outputs": [],
   "source": [
    "from xgboost import XGBClassifier\n",
    "\n",
    "kwa = {}\n",
    "\n",
    "kwa['random_state'] = 43\n",
    "kwa['test_size'] = 0.3\n",
    "\n",
    "X_train, X_test, y_train, y_test = train_test_split(X, y, **kwa)\n",
    "xgb = XGBClassifier(max_depth=10)\n",
    "\n",
    "xgb.fit(X_train, y_train)\n",
    "print(test_clf(xgb, X_train, X_test, y_train, y_test, binary=False))\n",
    "\n",
    "plot_confusion_matrix(xgb, X_test, y_test)"
   ]
  },
  {
   "cell_type": "code",
   "execution_count": null,
   "metadata": {
    "colab": {
     "base_uri": "https://localhost:8080/",
     "height": 340
    },
    "id": "08EYwRvUwB2J",
    "outputId": "ba6e7f3c-a8ba-41d9-eb53-1e6ef53cc204"
   },
   "outputs": [],
   "source": [
    "kwa = {}\n",
    "\n",
    "kwa['random_state'] = 43\n",
    "kwa['test_size'] = 0.3\n",
    "\n",
    "X_train, X_test, y_train, y_test = train_test_split(X, y, **kwa)\n",
    "tree = DecisionTreeClassifier()\n",
    "\n",
    "tree.fit(X_train, y_train)\n",
    "test_clf(tree, X_train, X_test, y_train, y_test)"
   ]
  },
  {
   "cell_type": "code",
   "execution_count": null,
   "metadata": {
    "id": "8Z4VMiOaQtyj"
   },
   "outputs": [],
   "source": [
    "import pickle\n",
    "\n",
    "# Seleção de variáveis:\n",
    "from sklearn.feature_selection import SelectKBest, SelectPercentile\n",
    "from sklearn.feature_selection import chi2, f_classif, mutual_info_classif\n",
    "from sklearn.decomposition import PCA\n",
    "from sklearn.preprocessing import RobustScaler, StandardScaler\n",
    "\n",
    "# Scoring:\n",
    "from sklearn.model_selection import RandomizedSearchCV\n",
    "from sklearn.model_selection import cross_validate\n",
    "from sklearn.metrics import accuracy_score, f1_score, confusion_matrix\n",
    "from sklearn.metrics import recall_score\n",
    "from sklearn.metrics import plot_confusion_matrix\n",
    "\n",
    "# IO libs:\n",
    "from pprint import pprint\n",
    "import matplotlib.pyplot as plt\n",
    "\n",
    "_SCORING = ['precision_micro']\n",
    "_CV_K_FOLDS = 2\n",
    "_N_OPTIMIZATION_ITERS = 20\n",
    "r_seed = 42\n",
    "\n",
    "class SolutionTester():\n",
    "    def __init__(self, clfs, X, y, name):\n",
    "        self.clfs = clfs\n",
    "        self.name = name\n",
    "        self.X = X\n",
    "        self.y = y\n",
    "        self.history = {}\n",
    "        self.approaches = []\n",
    "        self.SORT_BY = 'test_acc'\n",
    "        self.scalers = {}\n",
    "\n",
    "\n",
    "    def __test_clf(self, clf, X_test, X_train):\n",
    "        y_test_pred = clf.predict(X_test)\n",
    "        y_train_pred = clf.predict(X_train)\n",
    "\n",
    "        score = {}\n",
    "\n",
    "        score['test_acc'] = accuracy_score(self.y_test, y_test_pred)\n",
    "        score['test_recall'] = recall_score(self.y_test, y_test_pred, average='macro')\n",
    "        score['test_f1'] = f1_score(self.y_test, y_test_pred, average='macro')\n",
    "\n",
    "        score['train_acc'] = accuracy_score(self.y_train, y_train_pred)\n",
    "        score['train_recall'] = recall_score(self.y_train, y_train_pred, average='macro')\n",
    "        score['train_f1'] = f1_score(self.y_train, y_train_pred, average='macro')\n",
    "\n",
    "        return score\n",
    "\n",
    "    def __gen_approaches(self):\n",
    "        if len(self.approaches) > 0:\n",
    "            return\n",
    "\n",
    "        std_scaler = StandardScaler()\n",
    "        rob_scaler = RobustScaler()\n",
    "        pca = PCA(n_components=5)\n",
    "\n",
    "        # Dividindo os dados entre treino e teste\n",
    "        kwa = {}\n",
    "\n",
    "        kwa['random_state'] = r_seed\n",
    "        kwa['test_size'] = 0.30 # 30% para o teste e o resto para treino.\n",
    "\n",
    "        X_train, X_test, _y_train, _y_test = train_test_split(X, y, **kwa)\n",
    "        self.y_train, self.y_test = np.ravel(_y_train), np.ravel(_y_test)\n",
    "\n",
    "        # O fit do scaler é feito apenas com os dados de treino.\n",
    "        # Se o fit for feito com todos os dados teremos data leakage.\n",
    "        X_train_scaled = std_scaler.fit_transform(X_train)\n",
    "        X_test_scaled = std_scaler.transform(X_test)\n",
    "\n",
    "        X_train_rob = rob_scaler.fit_transform(X_train)\n",
    "        X_test_rob = rob_scaler.transform(X_test)\n",
    "\n",
    "        X_train_pca = pca.fit_transform(X_train)\n",
    "        X_test_pca = pca.transform(X_test)\n",
    "\n",
    "        self.scalers['Normalização Std'] = std_scaler\n",
    "        self.scalers['Normalização Robusta'] = rob_scaler\n",
    "\n",
    "        self.approaches.append([X_train, X_test, 'Originais'])\n",
    "        self.approaches.append([X_train_scaled, X_test_scaled, 'Normalização Std'])\n",
    "        self.approaches.append([X_train_rob, X_test_rob, 'Normalização Rob'])\n",
    "\n",
    "    def save_progress(self):\n",
    "        if self.name == 'fin_rating_bin':\n",
    "            pickle.dump(self, open('/content/drive/MyDrive/tcc/models/binary/model_trained.pkl', 'wb'))\n",
    "        else:\n",
    "            pickle.dump(self, open('/content/drive/MyDrive/tcc/models/multiple/model_trained.pkl', 'wb'))\n",
    "\n",
    "    @staticmethod\n",
    "    def load_progress(name):\n",
    "        if name == 'fin_rating_bin':\n",
    "            return pickle.load(open('/content/drive/MyDrive/tcc/models/binary/model_trained.pkl', 'rb'))\n",
    "        else:\n",
    "            return pickle.load(open('/content/drive/MyDrive/tcc/models/multiple/model_trained.pkl', 'rb'))\n",
    "    \n",
    "    def run(self):\n",
    "        self.__gen_approaches()\n",
    "\n",
    "        for _X_train, _X_test, a_name in self.approaches:\n",
    "            for clf, grid_params, clf_id in self.clfs:\n",
    "                if (clf_id, a_name) in self.history:\n",
    "                    continue\n",
    "\n",
    "                hist, kwa = {}, {}\n",
    "\n",
    "                kwa['estimator'] = clf()\n",
    "                kwa['param_distributions'] = grid_params\n",
    "                kwa['cv'] = _CV_K_FOLDS\n",
    "                kwa['n_jobs'] = _CV_K_FOLDS\n",
    "                kwa['n_iter'] = _N_OPTIMIZATION_ITERS\n",
    "\n",
    "                print(clf, a_name)\n",
    "                model_grid = RandomizedSearchCV(**kwa)\n",
    "                model_grid.fit(_X_train, self.y_train)\n",
    "                clf = model_grid.best_estimator_\n",
    "                clf.fit(_X_train, self.y_train)\n",
    "\n",
    "\n",
    "                hist['name'] = (clf_id, a_name)\n",
    "                hist['score'] = self.__test_clf(clf, _X_test, _X_train)\n",
    "                hist['clf'] = clf\n",
    "                hist['params'] = model_grid.best_params_\n",
    "                hist['X_train'] = _X_train\n",
    "                hist['X_test'] = _X_test\n",
    "\n",
    "                self.history[(clf_id, a_name)] = hist\n",
    "\n",
    "                self.save_progress()\n",
    "\n",
    "    def get_top_clfs(self, reverse=False):\n",
    "        sort_key = lambda x: x['score'][self.SORT_BY]\n",
    "\n",
    "        return sorted(self.history.values(), key=sort_key, reverse=reverse)\n",
    "\n",
    "    def print_n_best_clfs(self, n):\n",
    "        for clf in self.get_top_clfs()[-n:]:\n",
    "            print(clf['name'])\n",
    "            print(clf['score'])\n",
    "            plot_confusion_matrix(clf['clf'], clf['X_test'], self.y_test)\n",
    "            plt.show()\n",
    "\n",
    "    def best_feat_imp_clf(self):\n",
    "        for hist in self.get_top_clfs(reverse=True):\n",
    "            if hasattr(hist['clf'], 'feature_importances_'):\n",
    "                return hist['name']\n",
    "\n",
    "    def get_imp_feats(self):\n",
    "        f = []\n",
    "        hist = self.history[self.best_feat_imp_clf()]\n",
    "\n",
    "        for i, imp in enumerate(hist['clf'].feature_importances_):\n",
    "            if imp != 0:\n",
    "                f.append((imp, self.X.columns[i]))\n",
    "        \n",
    "        return sorted(f, key=lambda x: x[0])\n",
    "\n",
    "    def print_importance_list(self):\n",
    "        for imp in self.get_imp_feats():\n",
    "            print(f'{imp[1]}: {imp[0]*100:.2f}%')\n",
    "\n",
    "    def plot_imp_features(self):\n",
    "        f = self.get_imp_feats()\n",
    "        hist = self.history[self.best_feat_imp_clf()]\n",
    "\n",
    "        plt.title(f'Importância das Características na modelagem {self.name}.')\n",
    "        plt.barh(range(len(f)), [i[0] for i in f], color='b', align='center')\n",
    "        plt.yticks(range(len(f)), [i[1] for i in f])\n",
    "        plt.xlabel('Importância da característica')\n",
    "        plt.suptitle(f'Acertividade {hist[\"score\"][\"test_acc\"]*100}%')\n",
    "        plt.show()\n"
   ]
  },
  {
   "cell_type": "code",
   "execution_count": null,
   "metadata": {
    "id": "57bjZMpRQydk"
   },
   "outputs": [],
   "source": [
    "import numpy as np\n",
    "\n",
    "# Modelagem:\n",
    "from sklearn.tree import DecisionTreeClassifier, plot_tree\n",
    "from sklearn.ensemble import RandomForestClassifier\n",
    "from xgboost import XGBClassifier\n",
    "\n",
    "clfs = []\n",
    "grid_params_dt = {\n",
    "    'criterion': ['gini', 'entropy'],\n",
    "    'max_features': ['auto', 'sqrt', 'log2', None],\n",
    "    'max_depth': [3, 4, 5, 8, 10, 12, 15, 20, None],\n",
    "    'min_samples_split': [5, 10, 15, 20, 30, 0.01, 0.02, 0.03, 0.04, 0.05, 0.06, 0.07, 0.08, 0.09, 0.1],\n",
    "    'min_samples_leaf': [3, 4, 6, 8, 10, 15, 0.01, 0.02, 0.03, 0.04, 0.05],\n",
    "    'splitter': ['best', 'random'],\n",
    "    'max_leaf_nodes': [5, 10, 15, 20, 25, None]\n",
    "}\n",
    "clfs.append((DecisionTreeClassifier, grid_params_dt, 'Árvore de decisão'))\n",
    "\n",
    "grid_params_rf = {\n",
    "    'n_estimators': [100, 200, 300, 400, 500, 600, 700, 800, 900, 1000],\n",
    "    'bootstrap': [True, False],\n",
    "    'warm_start': [True, False],\n",
    "    'criterion': ['gini', 'entropy'],\n",
    "    'max_depth': [3, 5, 8, 10, 15, 20, 25, 30, None],\n",
    "    'min_samples_leaf': [3, 4, 6, 8, 10, 15, 20, 25, 30, 0.01, 0.02, 0.03, 0.04, 0.05],\n",
    "    'max_leaf_nodes': [5, 10, 15, 20, 25, 30, 40, None],\n",
    "    'min_samples_split': [5, 10, 15, 20, 30, 0.01, 0.02, 0.03, 0.04, 0.05, 0.06, 0.07, 0.08, 0.09, 0.1],\n",
    "    'max_features': ['auto', 'sqrt', 'log2', None]\n",
    "}\n",
    "clfs.append((RandomForestClassifier, grid_params_rf, 'Floresta Randômica'))\n",
    "\n",
    "grid_params_xgb = {\n",
    "    'min_child_weight': [1, 2, 3, 4, 5, 6, 8, 10],\n",
    "    'gamma': [0.5, 1, 1.5, 2, 5],\n",
    "    'subsample': [0.6, 0.8, 1.0],\n",
    "    'colsample_bytree': [0.6, 0.8, 1.0],\n",
    "    'max_depth': [3, 4, 5],\n",
    "    'n_estimators': [100, 200, 300, 400, 500, 600]\n",
    "}\n",
    "clfs.append((XGBClassifier, grid_params_xgb, 'Gradient Boosting'))"
   ]
  },
  {
   "cell_type": "code",
   "execution_count": null,
   "metadata": {
    "colab": {
     "base_uri": "https://localhost:8080/",
     "height": 358
    },
    "id": "hdghISl9Q5jc",
    "outputId": "22cf3efa-2ecb-4a68-9bbe-40be02026458"
   },
   "outputs": [],
   "source": [
    "rating = SolutionTester(clfs, X, y, 'fin_rating_multiple')\n",
    "\n",
    "rating.run()"
   ]
  },
  {
   "cell_type": "code",
   "execution_count": null,
   "metadata": {
    "id": "mAbSPjC7EhiF"
   },
   "outputs": [],
   "source": [
    "import pickle\n",
    "\n",
    "pickle.dump(rating, open('test.pkl', 'wb'))"
   ]
  },
  {
   "cell_type": "code",
   "execution_count": null,
   "metadata": {
    "id": "HTFreEyqE6cs"
   },
   "outputs": [],
   "source": [
    "rating_loaded = pickle.load(open('test.pkl', 'rb'))"
   ]
  },
  {
   "cell_type": "code",
   "execution_count": null,
   "metadata": {
    "id": "6HfybwIKRDj9"
   },
   "outputs": [],
   "source": [
    "rating_bin = SolutionTester.load_progress('fin_rating_bin')\n",
    "rating_mul = SolutionTester.load_progress('fin_rating_multiple')"
   ]
  },
  {
   "cell_type": "code",
   "execution_count": null,
   "metadata": {
    "colab": {
     "base_uri": "https://localhost:8080/",
     "height": 368
    },
    "id": "LLYkd09ECkNJ",
    "outputId": "77431f4d-c514-43ce-a5e2-eeec82e96e8c"
   },
   "outputs": [
    {
     "name": "stdout",
     "output_type": "stream",
     "text": [
      "('Gradient Boosting', 'Originais')\n",
      "{'test_acc': 0.9108048762020141, 'test_recall': 0.929637234770705, 'test_f1': 0.920189701897019, 'train_acc': 0.9413578243655482, 'train_recall': 0.9529064620832104, 'train_f1': 0.9470103516025923}\n"
     ]
    },
    {
     "name": "stderr",
     "output_type": "stream",
     "text": [
      "/usr/local/lib/python3.7/dist-packages/sklearn/utils/deprecation.py:87: FutureWarning: Function plot_confusion_matrix is deprecated; Function `plot_confusion_matrix` is deprecated in 1.0 and will be removed in 1.2. Use one of the class methods: ConfusionMatrixDisplay.from_predictions or ConfusionMatrixDisplay.from_estimator.\n",
      "  warnings.warn(msg, category=FutureWarning)\n"
     ]
    },
    {
     "data": {
      "image/png": "[encoded data removed]",
      "text/plain": [
       "<Figure size 432x288 with 2 Axes>"
      ]
     },
     "metadata": {
      "needs_background": "light"
     },
     "output_type": "display_data"
    }
   ],
   "source": [
    "rating_bin.print_n_best_clfs(1)"
   ]
  },
  {
   "cell_type": "code",
   "execution_count": null,
   "metadata": {
    "colab": {
     "base_uri": "https://localhost:8080/"
    },
    "id": "8Ia_yVgaDP5d",
    "outputId": "54d5e5e6-7260-49c8-d65c-cf7845cf2933"
   },
   "outputs": [
    {
     "data": {
      "text/plain": [
       "<bound method SolutionTester.print_n_best_clfs of <__main__.SolutionTester object at 0x7f57fe2bc250>>"
      ]
     },
     "execution_count": 17,
     "metadata": {},
     "output_type": "execute_result"
    }
   ],
   "source": [
    "rating_bin.print_n_best_clfs"
   ]
  },
  {
   "cell_type": "code",
   "execution_count": null,
   "metadata": {
    "colab": {
     "base_uri": "https://localhost:8080/",
     "height": 369
    },
    "id": "KV6CDTr5Cyc6",
    "outputId": "7e72ad5d-4092-4ef2-bb24-5573e2561af6"
   },
   "outputs": [
    {
     "name": "stdout",
     "output_type": "stream",
     "text": [
      "('Gradient Boosting', 'Normalização Rob')\n",
      "{'test_acc': 0.7037177254486258, 'test_recall': 0.7037177254486258, 'test_f1': 0.7009940721056098, 'train_acc': 0.7846757967157786, 'train_recall': 0.7846757967157786, 'train_f1': 0.7832753800242807}\n"
     ]
    },
    {
     "name": "stderr",
     "output_type": "stream",
     "text": [
      "/usr/local/lib/python3.7/dist-packages/sklearn/utils/deprecation.py:87: FutureWarning: Function plot_confusion_matrix is deprecated; Function `plot_confusion_matrix` is deprecated in 1.0 and will be removed in 1.2. Use one of the class methods: ConfusionMatrixDisplay.from_predictions or ConfusionMatrixDisplay.from_estimator.\n",
      "  warnings.warn(msg, category=FutureWarning)\n"
     ]
    },
    {
     "data": {
      "image/png": "[encoded data removed]",
      "text/plain": [
       "<Figure size 432x288 with 2 Axes>"
      ]
     },
     "metadata": {
      "needs_background": "light"
     },
     "output_type": "display_data"
    }
   ],
   "source": [
    "rating_mul.print_n_best_clfs(1)"
   ]
  },
  {
   "cell_type": "code",
   "execution_count": null,
   "metadata": {
    "colab": {
     "base_uri": "https://localhost:8080/",
     "height": 1000
    },
    "id": "BUVa4AFmDiym",
    "outputId": "71e48641-7bce-4417-880c-b8ef653b5c75"
   },
   "outputs": [
    {
     "data": {
      "image/png": "[encoded data removed]",
      "text/plain": [
       "<Figure size 1800x1200 with 2 Axes>"
      ]
     },
     "metadata": {
      "needs_background": "light"
     },
     "output_type": "display_data"
    }
   ],
   "source": [
    "from sklearn.metrics import confusion_matrix\n",
    "\n",
    "top_clf = rating_bin.get_top_clfs()[-1]\n",
    "\n",
    "cm = confusion_matrix(rating_bin.y_test, top_clf['clf'].predict(top_clf['X_test']))\n",
    "import matplotlib as mpl\n",
    "mpl.rcParams['figure.dpi'] = 300\n",
    "import seaborn as sns\n",
    "import matplotlib.pyplot as plt\n",
    "\n",
    "ax= plt.subplot()\n",
    "sns.heatmap(cm, annot=True, fmt='g', ax=ax, cmap=sns.color_palette(\"rocket_r\", as_cmap=True)); \n",
    "\n",
    "# labels, title and ticks\n",
    "ax.set_xlabel('Predito');ax.set_ylabel('Dado Verdadeiro'); \n",
    "ax.set_title('Matriz de Confusão'); \n",
    "ax.xaxis.set_ticklabels(['Especulativo', 'Investimento']); ax.yaxis.set_ticklabels(['Especulativo', 'Investimento']);"
   ]
  },
  {
   "cell_type": "code",
   "execution_count": null,
   "metadata": {
    "colab": {
     "base_uri": "https://localhost:8080/",
     "height": 1000
    },
    "id": "LGG5a3EmD7mz",
    "outputId": "251b3a80-3d94-4955-9580-d3d4f1716372"
   },
   "outputs": [
    {
     "data": {
      "image/png": "[encoded data removed]",
      "text/plain": [
       "<Figure size 1800x1200 with 2 Axes>"
      ]
     },
     "metadata": {
      "needs_background": "light"
     },
     "output_type": "display_data"
    }
   ],
   "source": [
    "from sklearn.metrics import confusion_matrix\n",
    "\n",
    "top_clf = rating_mul.get_top_clfs()[-1]\n",
    "\n",
    "cm = confusion_matrix(rating_mul.y_test, top_clf['clf'].predict(top_clf['X_test']))\n",
    "import matplotlib as mpl\n",
    "mpl.rcParams['figure.dpi'] = 300\n",
    "import seaborn as sns\n",
    "import matplotlib.pyplot as plt\n",
    "\n",
    "ax= plt.subplot()\n",
    "sns.heatmap(cm, annot=True, fmt='g', ax=ax, cmap=sns.color_palette(\"rocket_r\", as_cmap=True)); \n",
    "\n",
    "# labels, title and ticks\n",
    "ax.set_xlabel('Predito');ax.set_ylabel('Dado Verdadeiro'); \n",
    "ax.set_title('Matriz de Confusão'); \n",
    "ax.xaxis.set_ticklabels(['1', '2', '3', '4', '5', '6']); ax.yaxis.set_ticklabels(['1', '2', '3', '4', '5', '6']);"
   ]
  },
  {
   "cell_type": "code",
   "execution_count": null,
   "metadata": {
    "colab": {
     "base_uri": "https://localhost:8080/"
    },
    "id": "EUCoMoQ_RhL6",
    "outputId": "762bd798-b323-4a5a-ce06-db3e1a42143e"
   },
   "outputs": [
    {
     "name": "stdout",
     "output_type": "stream",
     "text": [
      "nome;abordagem;test_f1;test_acc;test_recall;train_f1;train_acc;train_recall\n",
      "fin_rating_bin;Árvore de decisão-PCA;0,784;0,761;0,784;0,784;0,763;0,785\n",
      "fin_rating_bin;Floresta Randômica-PCA;0,803;0,779;0,816;0,804;0,78;0,818\n",
      "fin_rating_bin;Árvore de decisão-Originais;0,815;0,784;0,862;0,821;0,792;0,869\n",
      "fin_rating_bin;Árvore de decisão-Normalização Std;0,854;0,841;0,84;0,865;0,854;0,85\n",
      "fin_rating_bin;Floresta Randômica-Normalização Rob;0,854;0,835;0,874;0,861;0,843;0,882\n",
      "fin_rating_bin;Floresta Randômica-Originais;0,858;0,84;0,878;0,864;0,847;0,884\n",
      "fin_rating_bin;Floresta Randômica-Normalização Std;0,869;0,852;0,884;0,877;0,862;0,893\n",
      "fin_rating_bin;Árvore de decisão-Normalização Rob;0,898;0,887;0,898;0,944;0,938;0,938\n",
      "fin_rating_bin;Gradient Boosting-PCA;0,91;0,9;0,916;0,941;0,935;0,945\n",
      "fin_rating_bin;Gradient Boosting-Normalização Std;0,917;0,908;0,926;0,95;0,944;0,955\n",
      "fin_rating_bin;Gradient Boosting-Originais;0,92;0,911;0,93;0,947;0,941;0,953\n",
      "fin_rating_bin;Gradient Boosting-Normalização Rob;0,92;0,911;0,929;0,943;0,937;0,949\n"
     ]
    }
   ],
   "source": [
    "_SEP = ';'\n",
    "\n",
    "def print_all_metrics_csv(modelagem, metrica_para_ordenar):\n",
    "  header = ['nome', 'abordagem', 'test_f1', 'test_acc', 'test_recall', 'train_f1', 'train_acc', 'train_recall']\n",
    "  results = []\n",
    "\n",
    "  for model in modelagem.history.values():\n",
    "    dic = {}\n",
    "\n",
    "    dic['nome'] = modelagem.name\n",
    "    dic['abordagem'] = '-'.join(model['name'])\n",
    "\n",
    "    dic['test_f1'] = round(model['score']['test_f1'], 3)\n",
    "    dic['test_acc'] = round(model['score']['test_acc'], 3)\n",
    "    dic['test_recall'] = round(model['score']['test_recall'], 3)\n",
    "    dic['train_f1'] = round(model['score']['train_f1'], 3)\n",
    "    dic['train_acc'] = round(model['score']['train_acc'], 3)\n",
    "    dic['train_recall'] = round(model['score']['train_recall'], 3)\n",
    "    \n",
    "    results.append(dic)\n",
    "\n",
    "  print(_SEP.join(header)) # Header do CSV.\n",
    "\n",
    "  results.sort(key=lambda x: x[metrica_para_ordenar])\n",
    "\n",
    "  for dic in results:\n",
    "    print(_SEP.join(str(dic[k]).replace('.', ',') for k in header))\n",
    "\n",
    "print_all_metrics_csv(rating_bin, 'test_f1')"
   ]
  },
  {
   "cell_type": "code",
   "execution_count": null,
   "metadata": {
    "colab": {
     "base_uri": "https://localhost:8080/"
    },
    "id": "GecXf2q8KOGO",
    "outputId": "3b5b49b4-69eb-4789-9b5f-ca5a47b16426"
   },
   "outputs": [
    {
     "name": "stdout",
     "output_type": "stream",
     "text": [
      "nome;abordagem;test_f1;test_acc;test_recall;train_f1;train_acc;train_recall\n",
      "fin_rating_multiple;Árvore de decisão-Normalização Rob;0,448;0,484;0,484;0,455;0,49;0,49\n",
      "fin_rating_multiple;Árvore de decisão-Originais;0,461;0,481;0,481;0,468;0,488;0,488\n",
      "fin_rating_multiple;Árvore de decisão-Normalização Std;0,493;0,508;0,508;0,511;0,525;0,525\n",
      "fin_rating_multiple;Floresta Randômica-Normalização Rob;0,53;0,553;0,553;0,54;0,564;0,564\n",
      "fin_rating_multiple;Floresta Randômica-Normalização Std;0,582;0,598;0,598;0,603;0,618;0,618\n",
      "fin_rating_multiple;Floresta Randômica-Originais;0,588;0,603;0,603;0,617;0,632;0,632\n",
      "fin_rating_multiple;Gradient Boosting-Normalização Std;0,7;0,703;0,703;0,789;0,79;0,79\n",
      "fin_rating_multiple;Gradient Boosting-Originais;0,701;0,703;0,703;0,787;0,788;0,788\n",
      "fin_rating_multiple;Gradient Boosting-Normalização Rob;0,701;0,704;0,704;0,783;0,785;0,785\n"
     ]
    }
   ],
   "source": [
    "print_all_metrics_csv(rating_mul, 'test_f1')"
   ]
  },
  {
   "cell_type": "code",
   "execution_count": null,
   "metadata": {
    "colab": {
     "base_uri": "https://localhost:8080/"
    },
    "id": "hS9SQVE0Yd6I",
    "outputId": "3f14d32c-5cab-461c-dc94-8650cf3fd034"
   },
   "outputs": [
    {
     "name": "stdout",
     "output_type": "stream",
     "text": [
      "2,7%; Soma do Passivo e Patrimônio Líquido\n",
      "2,77%; Núm. de Ações\n",
      "2,83%; Patrimônio permanente\n",
      "3,93%; Aumento/Redução Patrimônio Líquido\n",
      "4,22%; Ativos\n",
      "4,54%; Lucro/Prejuízo por Ação Diluída\n",
      "4,71%; Lucro/Prejuízo por Ação\n",
      "5,0%; Patrimônio Líquido\n",
      "7,21%; Despesa/Beneficio do IR\n",
      "9,31%; Aumento/Redução do Lucro\n"
     ]
    }
   ],
   "source": [
    "for x in rating_mul.get_imp_feats()[-10:]:\n",
    "  print(f'{str(round(x[0]*100, 2)).replace(\".\", \",\")}%; {mapper[x[1]]}')"
   ]
  },
  {
   "cell_type": "code",
   "execution_count": null,
   "metadata": {
    "colab": {
     "base_uri": "https://localhost:8080/"
    },
    "id": "7sgHBBXEcWrC",
    "outputId": "e54dae10-b6a0-435d-f3a2-4268d72e1bd6"
   },
   "outputs": [
    {
     "name": "stdout",
     "output_type": "stream",
     "text": [
      "2,66%; Patrimônio permanente\n",
      "2,84%; Núm. de Ações\n",
      "2,87%; Valor declarado de ação comum\n",
      "3,2%; Patrimônio Líquido\n",
      "3,22%; Valor da ação comum\n",
      "5,97%; Aumento/Redução Patrimônio Líquido\n",
      "6,23%; Soma do Passivo e Patrimônio Líquido\n",
      "6,62%; Despesa/Beneficio do IR\n",
      "9,28%; Lucro/Prejuízo por Ação Diluída\n",
      "15,69%; Aumento/Redução do Lucro\n"
     ]
    }
   ],
   "source": [
    "for x in rating_bin.get_imp_feats()[-10:]:\n",
    "  print(f'{str(round(x[0]*100, 2)).replace(\".\", \",\")}%; {x[1]}')"
   ]
  },
  {
   "cell_type": "code",
   "execution_count": null,
   "metadata": {
    "colab": {
     "base_uri": "https://localhost:8080/",
     "height": 235
    },
    "id": "8QwanBckYTSw",
    "outputId": "7f1d2032-af95-49b5-fdd0-446efd299a56"
   },
   "outputs": [],
   "source": [
    "from sklearn.metrics import confusion_matrix\n",
    "\n",
    "top_clf = rating.get_top_clfs()[-1]\n",
    "\n",
    "cm = confusion_matrix(rating.y_test, top_clf['clf'].predict(top_clf['X_test']))\n",
    "import matplotlib as mpl\n",
    "mpl.rcParams['figure.dpi'] = 300\n",
    "import seaborn as sns\n",
    "import matplotlib.pyplot as plt\n",
    "\n",
    "ax= plt.subplot()\n",
    "sns.heatmap(cm, annot=True, fmt='g', ax=ax, cmap=sns.color_palette(\"rocket_r\", as_cmap=True)); \n",
    "\n",
    "# labels, title and ticks\n",
    "ax.set_xlabel('Predito');ax.set_ylabel('Dado Verdadeiro'); \n",
    "ax.set_title('Matriz de Confusão'); \n",
    "ax.xaxis.set_ticklabels(['Especulativo', 'Investimento']); ax.yaxis.set_ticklabels(['Especulativo', 'Investimento']);"
   ]
  },
  {
   "cell_type": "code",
   "execution_count": null,
   "metadata": {
    "colab": {
     "base_uri": "https://localhost:8080/"
    },
    "id": "1fga0_bZ0Npi",
    "outputId": "04fac843-1673-4859-f4d8-5064cc9c61c5"
   },
   "outputs": [
    {
     "name": "stdout",
     "output_type": "stream",
     "text": [
      "Aumento/Redução de caixa: 0.40%\n",
      "Ganho/Perda com financiamento: 0.55%\n",
      "Investimentos em propriedades: 0.64%\n",
      "Ganho/Lucro: 0.72%\n",
      "Perda de lucro por operação: 0.72%\n",
      "Ganhos com investimentos: 0.76%\n",
      "Depreciação/Amortização: 0.84%\n",
      "Perda de renda líquida: 0.87%\n",
      "Crédito a curto prazo: 0.94%\n",
      "Aumento/Redução de impostos: 0.99%\n",
      "Ativos a longo prazo: 1.10%\n",
      "Ganho/Perda com operações: 1.22%\n",
      "Lucro/Prejuízo por Ação: 1.23%\n",
      "Soma do Passivo e Patrimônio Líquido: 1.25%\n",
      "Remuneração em Ações: 1.26%\n",
      "Caixa ou Equivalentes: 1.27%\n",
      "Núm. Máx de ações de sócios: 1.30%\n",
      "Gastos com Juros: 1.37%\n",
      "Valor declarado de sócios: 1.37%\n",
      "Custos com transações: 1.42%\n",
      "Ativos correntes: 1.62%\n",
      "Passivo: 1.62%\n",
      "Patrimônio de marca: 1.65%\n",
      "Passivo Circulante: 1.67%\n",
      "Despesa/Beneficio do IR: 2.06%\n",
      "Patrimônio permanente: 2.12%\n",
      "Propriedade e Equipamentos: 2.31%\n",
      "Núm. de Ações criadas: 2.32%\n",
      "Patrimônio Líquido: 2.40%\n",
      "Valor declarado de ação comum: 2.64%\n",
      "Valor da ação comum: 3.11%\n",
      "Passivos a longo prazo: 3.14%\n",
      "Núm. de Ações: 3.72%\n",
      "Lucro/Prejuízo por Ação Diluída: 3.80%\n",
      "Aumento/Redução Patrimônio Líquido: 8.10%\n",
      "Aumento/Redução do Lucro: 12.51%\n",
      "Ativos: 25.00%\n"
     ]
    }
   ],
   "source": [
    "rating.print_importance_list()"
   ]
  },
  {
   "cell_type": "code",
   "execution_count": null,
   "metadata": {
    "colab": {
     "base_uri": "https://localhost:8080/"
    },
    "id": "jLYpMw7yhWZa",
    "outputId": "36ec52b1-dfb6-4d8b-af72-03191e52dc4e"
   },
   "outputs": [
    {
     "name": "stdout",
     "output_type": "stream",
     "text": [
      "\\item Caixa ou Equivalentes;\n",
      "\\item Despesa/Beneficio do IR;\n",
      "\\item Ativos;\n",
      "\\item Soma do Passivo e Patrimônio Líquido;\n",
      "\\item Custos com transações;\n",
      "\\item Aumento/Redução de caixa;\n",
      "\\item Perda de renda líquida;\n",
      "\\item Patrimônio Líquido;\n",
      "\\item Aumento/Redução Patrimônio Líquido;\n",
      "\\item Aumento/Redução do Lucro;\n",
      "\\item Núm. de Ações criadas;\n",
      "\\item Núm. de Ações;\n",
      "\\item Lucro/Prejuízo por Ação;\n",
      "\\item Lucro/Prejuízo por Ação Diluída;\n",
      "\\item Propriedade e Equipamentos;\n",
      "\\item Gastos com Juros;\n",
      "\\item Ganhos com investimentos;\n",
      "\\item Perda de lucro por operação;\n",
      "\\item Valor da ação comum;\n",
      "\\item Ganho/Perda com financiamento;\n",
      "\\item Ganho/Perda com operações;\n",
      "\\item Patrimônio de marca;\n",
      "\\item Remuneração em Ações;\n",
      "\\item Núm. Máx de ações de sócios;\n",
      "\\item Valor declarado de ação comum;\n",
      "\\item Valor declarado de sócios;\n",
      "\\item Ativos correntes;\n",
      "\\item Passivo Circulante;\n",
      "\\item Aumento/Redução de impostos;\n",
      "\\item Investimentos em propriedades;\n",
      "\\item Passivo;\n",
      "\\item Patrimônio permanente;\n",
      "\\item Ativos a longo prazo;\n",
      "\\item Passivos a longo prazo;\n",
      "\\item Ganho/Lucro;\n",
      "\\item Crédito a curto prazo;\n",
      "\\item Depreciação/Amortização;\n"
     ]
    }
   ],
   "source": [
    "for x in X.columns:\n",
    "  print(f'\\item {x};')"
   ]
  },
  {
   "cell_type": "code",
   "execution_count": null,
   "metadata": {
    "colab": {
     "base_uri": "https://localhost:8080/"
    },
    "id": "TrSDKfMaVAHW",
    "outputId": "17e584e9-c3ef-41bd-e057-a5d7599bd5e9"
   },
   "outputs": [
    {
     "name": "stdout",
     "output_type": "stream",
     "text": [
      "nome;abordagem;test_f1;test_acc;test_recall;train_f1;train_acc;train_recall\n",
      "fin_rating;Árvore de decisão-PCA;0,851;0,835;0,851;0,863;0,85;0,862\n",
      "fin_rating;Árvore de decisão-Originais;0,887;0,875;0,885;0,919;0,912;0,914\n",
      "fin_rating;Árvore de decisão-Normalização Std;0,89;0,878;0,897;0,914;0,905;0,92\n",
      "fin_rating;Árvore de decisão-Normalização Rob;0,89;0,879;0,884;0,938;0,933;0,93\n"
     ]
    }
   ],
   "source": [
    "\n",
    "_SEP = ';'\n",
    "\n",
    "def print_all_metrics_csv(modelagem, metrica_para_ordenar):\n",
    "  header = ['nome', 'abordagem', 'test_f1', 'test_acc', 'test_recall', 'train_f1', 'train_acc', 'train_recall']\n",
    "  results = []\n",
    "\n",
    "  for model in modelagem.history.values():\n",
    "    dic = {}\n",
    "\n",
    "    dic['nome'] = modelagem.name\n",
    "    dic['abordagem'] = '-'.join(model['name'])\n",
    "\n",
    "    dic['test_f1'] = round(model['score']['test_f1'], 3)\n",
    "    dic['test_acc'] = round(model['score']['test_acc'], 3)\n",
    "    dic['test_recall'] = round(model['score']['test_recall'], 3)\n",
    "    dic['train_f1'] = round(model['score']['train_f1'], 3)\n",
    "    dic['train_acc'] = round(model['score']['train_acc'], 3)\n",
    "    dic['train_recall'] = round(model['score']['train_recall'], 3)\n",
    "    \n",
    "    results.append(dic)\n",
    "\n",
    "  print(_SEP.join(header)) # Header do CSV.\n",
    "\n",
    "  results.sort(key=lambda x: x[metrica_para_ordenar])\n",
    "\n",
    "  for dic in results:\n",
    "    print(_SEP.join(str(dic[k]).replace('.', ',') for k in header))\n",
    "\n",
    "print_all_metrics_csv(rating, 'test_f1')\n",
    "  "
   ]
  },
  {
   "cell_type": "code",
   "execution_count": null,
   "metadata": {
    "colab": {
     "base_uri": "https://localhost:8080/"
    },
    "id": "R7tXmHGueTlB",
    "outputId": "bfaafa0f-7ef0-4093-f1e3-5b316c743002"
   },
   "outputs": [
    {
     "data": {
      "text/plain": [
       "{'test_acc': 0.7965472855304006,\n",
       " 'test_f1': 0.7958855303572552,\n",
       " 'test_recall': 0.7965472855304006,\n",
       " 'train_acc': 0.8083663269942234}"
      ]
     },
     "execution_count": 85,
     "metadata": {},
     "output_type": "execute_result"
    }
   ],
   "source": [
    "from sklearn.model_selection import train_test_split\n",
    "from sklearn.metrics import recall_score\n",
    "\n",
    "top_10 = [\n",
    "'Núm. de Ações criadas',\n",
    "'Patrimônio Líquido',\n",
    "'Valor declarado de ação comum',\n",
    "'Valor da ação comum',\n",
    "'Passivos a longo prazo',\n",
    "'Núm. de Ações',\n",
    "'Lucro/Prejuízo por Ação Diluída',\n",
    "'Aumento/Redução Patrimônio Líquido',\n",
    "'Aumento/Redução do Lucro',\n",
    "'Ativos']\n",
    "\n",
    "kwa = {}\n",
    "\n",
    "kwa['random_state'] = 43\n",
    "kwa['test_size'] = 0.3\n",
    "\n",
    "X_train, X_test, y_train, y_test = train_test_split(X[top_10]/100, y, **kwa)\n",
    "tree = DecisionTreeClassifier(max_depth=5, min_samples_split=400,max_leaf_nodes=15)\n",
    "\n",
    "tree.fit(X_train, y_train)\n",
    "test_clf(tree, X_train, X_test, y_train, y_test, binary=False)"
   ]
  },
  {
   "cell_type": "code",
   "execution_count": null,
   "metadata": {
    "colab": {
     "base_uri": "https://localhost:8080/",
     "height": 53
    },
    "id": "9bBDSQX7xj_j",
    "outputId": "204db103-4b24-44f9-8747-2e90b1e8ae12"
   },
   "outputs": [
    {
     "data": {
      "application/vnd.google.colaboratory.intrinsic+json": {
       "type": "string"
      },
      "text/plain": [
       "'Source.gv.pdf'"
      ]
     },
     "execution_count": 86,
     "metadata": {},
     "output_type": "execute_result"
    },
    {
     "data": {
      "text/plain": [
       "<Figure size 720x720 with 0 Axes>"
      ]
     },
     "metadata": {},
     "output_type": "display_data"
    }
   ],
   "source": [
    "from sklearn.tree import export_graphviz\n",
    "import matplotlib.pyplot as plt\n",
    "import graphviz\n",
    " \n",
    "plt.figure(figsize=(10,10))\n",
    "\n",
    "kwa = {}\n",
    "\n",
    "kwa['decision_tree'] = tree\n",
    "kwa['out_file'] = None\n",
    "kwa['feature_names'] = top_10\n",
    "kwa['class_names'] = ['Investimento', 'Especulativo']\n",
    "kwa['filled'] = True\n",
    "kwa['label'] = 'root'\n",
    "kwa['rounded'] = False\n",
    "kwa['leaves_parallel'] = False\n",
    "kwa['impurity'] = False\n",
    "kwa['special_characters'] = True\n",
    "kwa['proportion'] = False\n",
    "kwa['precision'] = 2\n",
    "kwa['rotate'] = False\n",
    "kwa['fontname'] = 'times'\n",
    "\n",
    "dot_data = export_graphviz(**kwa)\n",
    "\n",
    "graph = graphviz.Source(dot_data)\n",
    "\n",
    "graph.render(format='pdf', view=True)"
   ]
  },
  {
   "cell_type": "code",
   "execution_count": null,
   "metadata": {
    "colab": {
     "base_uri": "https://localhost:8080/",
     "height": 657
    },
    "id": "RxP_NNbhx7Tg",
    "outputId": "7f81c996-67ca-4339-d6ff-82b9e3aa7c0b"
   },
   "outputs": [
    {
     "data": {
      "image/svg+xml": [
       "<?xml version=\"1.0\" encoding=\"UTF-8\" standalone=\"no\"?>\n",
       "<!DOCTYPE svg PUBLIC \"-//W3C//DTD SVG 1.1//EN\"\n",
       " \"http://www.w3.org/Graphics/SVG/1.1/DTD/svg11.dtd\">\n",
       "<!-- Generated by graphviz version 2.40.1 (20161225.0304)\n",
       " -->\n",
       "<!-- Title: Tree Pages: 1 -->\n",
       "<svg width=\"435pt\" height=\"477pt\"\n",
       " viewBox=\"0.00 0.00 435.00 477.00\" xmlns=\"http://www.w3.org/2000/svg\" xmlns:xlink=\"http://www.w3.org/1999/xlink\">\n",
       "<g id=\"graph0\" class=\"graph\" transform=\"scale(1 1) rotate(0) translate(4 473)\">\n",
       "<title>Tree</title>\n",
       "<polygon fill=\"#ffffff\" stroke=\"transparent\" points=\"-4,4 -4,-473 431,-473 431,4 -4,4\"/>\n",
       "<!-- 0 -->\n",
       "<g id=\"node1\" class=\"node\">\n",
       "<title>0</title>\n",
       "<polygon fill=\"#e7fcef\" stroke=\"#000000\" points=\"261,-469 118,-469 118,-401 261,-401 261,-469\"/>\n",
       "<text text-anchor=\"start\" x=\"126\" y=\"-453.8\" font-family=\"times\" font-size=\"14.00\" fill=\"#000000\">color_intensity ≤ 3.82</text>\n",
       "<text text-anchor=\"start\" x=\"147.5\" y=\"-438.8\" font-family=\"times\" font-size=\"14.00\" fill=\"#000000\">samples = 142</text>\n",
       "<text text-anchor=\"start\" x=\"131.5\" y=\"-423.8\" font-family=\"times\" font-size=\"14.00\" fill=\"#000000\">value = [45, 57, 40]</text>\n",
       "<text text-anchor=\"start\" x=\"147.5\" y=\"-408.8\" font-family=\"times\" font-size=\"14.00\" fill=\"#000000\">class = class_1</text>\n",
       "</g>\n",
       "<!-- 1 -->\n",
       "<g id=\"node2\" class=\"node\">\n",
       "<title>1</title>\n",
       "<polygon fill=\"#45e789\" stroke=\"#000000\" points=\"181,-365 68,-365 68,-297 181,-297 181,-365\"/>\n",
       "<text text-anchor=\"start\" x=\"76\" y=\"-349.8\" font-family=\"times\" font-size=\"14.00\" fill=\"#000000\">proline ≤ 1002.5</text>\n",
       "<text text-anchor=\"start\" x=\"116.5\" y=\"-334.8\" font-family=\"times\" font-size=\"14.00\" fill=\"#000000\">52</text>\n",
       "<text text-anchor=\"start\" x=\"97\" y=\"-319.8\" font-family=\"times\" font-size=\"14.00\" fill=\"#000000\">[3, 49, 0]</text>\n",
       "<text text-anchor=\"start\" x=\"103.5\" y=\"-304.8\" font-family=\"times\" font-size=\"14.00\" fill=\"#000000\">class_1</text>\n",
       "</g>\n",
       "<!-- 0&#45;&gt;1 -->\n",
       "<g id=\"edge1\" class=\"edge\">\n",
       "<title>0&#45;&gt;1</title>\n",
       "<path fill=\"none\" stroke=\"#000000\" d=\"M168.2166,-400.9465C162.7733,-392.2373 156.8516,-382.7626 151.175,-373.6801\"/>\n",
       "<polygon fill=\"#000000\" stroke=\"#000000\" points=\"154.0993,-371.755 145.8312,-365.13 148.1633,-375.465 154.0993,-371.755\"/>\n",
       "<text text-anchor=\"middle\" x=\"140.2098\" y=\"-385.7898\" font-family=\"times\" font-size=\"14.00\" fill=\"#000000\">True</text>\n",
       "</g>\n",
       "<!-- 6 -->\n",
       "<g id=\"node7\" class=\"node\">\n",
       "<title>6</title>\n",
       "<polygon fill=\"#fefaf7\" stroke=\"#000000\" points=\"309.5,-365 199.5,-365 199.5,-297 309.5,-297 309.5,-365\"/>\n",
       "<text text-anchor=\"start\" x=\"207.5\" y=\"-349.8\" font-family=\"times\" font-size=\"14.00\" fill=\"#000000\">flavanoids ≤ 1.4</text>\n",
       "<text text-anchor=\"start\" x=\"246.5\" y=\"-334.8\" font-family=\"times\" font-size=\"14.00\" fill=\"#000000\">90</text>\n",
       "<text text-anchor=\"start\" x=\"223.5\" y=\"-319.8\" font-family=\"times\" font-size=\"14.00\" fill=\"#000000\">[42, 8, 40]</text>\n",
       "<text text-anchor=\"start\" x=\"233.5\" y=\"-304.8\" font-family=\"times\" font-size=\"14.00\" fill=\"#000000\">class_0</text>\n",
       "</g>\n",
       "<!-- 0&#45;&gt;6 -->\n",
       "<g id=\"edge6\" class=\"edge\">\n",
       "<title>0&#45;&gt;6</title>\n",
       "<path fill=\"none\" stroke=\"#000000\" d=\"M210.7834,-400.9465C216.2267,-392.2373 222.1484,-382.7626 227.825,-373.6801\"/>\n",
       "<polygon fill=\"#000000\" stroke=\"#000000\" points=\"230.8367,-375.465 233.1688,-365.13 224.9007,-371.755 230.8367,-375.465\"/>\n",
       "<text text-anchor=\"middle\" x=\"238.7902\" y=\"-385.7898\" font-family=\"times\" font-size=\"14.00\" fill=\"#000000\">False</text>\n",
       "</g>\n",
       "<!-- 2 -->\n",
       "<g id=\"node3\" class=\"node\">\n",
       "<title>2</title>\n",
       "<polygon fill=\"#3de684\" stroke=\"#000000\" points=\"87,-261 10,-261 10,-193 87,-193 87,-261\"/>\n",
       "<text text-anchor=\"start\" x=\"18\" y=\"-245.8\" font-family=\"times\" font-size=\"14.00\" fill=\"#000000\">ash ≤ 3.07</text>\n",
       "<text text-anchor=\"start\" x=\"40.5\" y=\"-230.8\" font-family=\"times\" font-size=\"14.00\" fill=\"#000000\">50</text>\n",
       "<text text-anchor=\"start\" x=\"21\" y=\"-215.8\" font-family=\"times\" font-size=\"14.00\" fill=\"#000000\">[1, 49, 0]</text>\n",
       "<text text-anchor=\"start\" x=\"27.5\" y=\"-200.8\" font-family=\"times\" font-size=\"14.00\" fill=\"#000000\">class_1</text>\n",
       "</g>\n",
       "<!-- 1&#45;&gt;2 -->\n",
       "<g id=\"edge2\" class=\"edge\">\n",
       "<title>1&#45;&gt;2</title>\n",
       "<path fill=\"none\" stroke=\"#000000\" d=\"M99.6148,-296.9465C93.1847,-288.1475 86.1837,-278.5672 79.4841,-269.3993\"/>\n",
       "<polygon fill=\"#000000\" stroke=\"#000000\" points=\"82.1672,-267.1389 73.4412,-261.13 76.5155,-271.269 82.1672,-267.1389\"/>\n",
       "</g>\n",
       "<!-- 5 -->\n",
       "<g id=\"node6\" class=\"node\">\n",
       "<title>5</title>\n",
       "<polygon fill=\"#e58139\" stroke=\"#000000\" points=\"168,-253.5 105,-253.5 105,-200.5 168,-200.5 168,-253.5\"/>\n",
       "<text text-anchor=\"start\" x=\"132.5\" y=\"-238.3\" font-family=\"times\" font-size=\"14.00\" fill=\"#000000\">2</text>\n",
       "<text text-anchor=\"start\" x=\"113\" y=\"-223.3\" font-family=\"times\" font-size=\"14.00\" fill=\"#000000\">[2, 0, 0]</text>\n",
       "<text text-anchor=\"start\" x=\"115.5\" y=\"-208.3\" font-family=\"times\" font-size=\"14.00\" fill=\"#000000\">class_0</text>\n",
       "</g>\n",
       "<!-- 1&#45;&gt;5 -->\n",
       "<g id=\"edge5\" class=\"edge\">\n",
       "<title>1&#45;&gt;5</title>\n",
       "<path fill=\"none\" stroke=\"#000000\" d=\"M128.4292,-296.9465C129.6621,-286.2621 131.0278,-274.4254 132.2799,-263.5742\"/>\n",
       "<polygon fill=\"#000000\" stroke=\"#000000\" points=\"135.768,-263.8775 133.4374,-253.5422 128.8142,-263.075 135.768,-263.8775\"/>\n",
       "</g>\n",
       "<!-- 3 -->\n",
       "<g id=\"node4\" class=\"node\">\n",
       "<title>3</title>\n",
       "<polygon fill=\"#39e581\" stroke=\"#000000\" points=\"71,-149.5 0,-149.5 0,-96.5 71,-96.5 71,-149.5\"/>\n",
       "<text text-anchor=\"start\" x=\"27.5\" y=\"-134.3\" font-family=\"times\" font-size=\"14.00\" fill=\"#000000\">49</text>\n",
       "<text text-anchor=\"start\" x=\"8\" y=\"-119.3\" font-family=\"times\" font-size=\"14.00\" fill=\"#000000\">[0, 49, 0]</text>\n",
       "<text text-anchor=\"start\" x=\"14.5\" y=\"-104.3\" font-family=\"times\" font-size=\"14.00\" fill=\"#000000\">class_1</text>\n",
       "</g>\n",
       "<!-- 2&#45;&gt;3 -->\n",
       "<g id=\"edge3\" class=\"edge\">\n",
       "<title>2&#45;&gt;3</title>\n",
       "<path fill=\"none\" stroke=\"#000000\" d=\"M44.2433,-192.9465C42.9078,-182.2621 41.4282,-170.4254 40.0718,-159.5742\"/>\n",
       "<polygon fill=\"#000000\" stroke=\"#000000\" points=\"43.5312,-159.0308 38.8178,-149.5422 36.5852,-159.8991 43.5312,-159.0308\"/>\n",
       "</g>\n",
       "<!-- 4 -->\n",
       "<g id=\"node5\" class=\"node\">\n",
       "<title>4</title>\n",
       "<polygon fill=\"#e58139\" stroke=\"#000000\" points=\"152,-149.5 89,-149.5 89,-96.5 152,-96.5 152,-149.5\"/>\n",
       "<text text-anchor=\"start\" x=\"116.5\" y=\"-134.3\" font-family=\"times\" font-size=\"14.00\" fill=\"#000000\">1</text>\n",
       "<text text-anchor=\"start\" x=\"97\" y=\"-119.3\" font-family=\"times\" font-size=\"14.00\" fill=\"#000000\">[1, 0, 0]</text>\n",
       "<text text-anchor=\"start\" x=\"99.5\" y=\"-104.3\" font-family=\"times\" font-size=\"14.00\" fill=\"#000000\">class_0</text>\n",
       "</g>\n",
       "<!-- 2&#45;&gt;4 -->\n",
       "<g id=\"edge4\" class=\"edge\">\n",
       "<title>2&#45;&gt;4</title>\n",
       "<path fill=\"none\" stroke=\"#000000\" d=\"M72.0755,-192.9465C79.8537,-181.7113 88.5139,-169.2021 96.3355,-157.9043\"/>\n",
       "<polygon fill=\"#000000\" stroke=\"#000000\" points=\"99.3102,-159.7564 102.1247,-149.5422 93.5548,-155.7719 99.3102,-159.7564\"/>\n",
       "</g>\n",
       "<!-- 7 -->\n",
       "<g id=\"node8\" class=\"node\">\n",
       "<title>7</title>\n",
       "<polygon fill=\"#8139e5\" stroke=\"#000000\" points=\"279,-253.5 208,-253.5 208,-200.5 279,-200.5 279,-253.5\"/>\n",
       "<text text-anchor=\"start\" x=\"235.5\" y=\"-238.3\" font-family=\"times\" font-size=\"14.00\" fill=\"#000000\">40</text>\n",
       "<text text-anchor=\"start\" x=\"216\" y=\"-223.3\" font-family=\"times\" font-size=\"14.00\" fill=\"#000000\">[0, 0, 40]</text>\n",
       "<text text-anchor=\"start\" x=\"222.5\" y=\"-208.3\" font-family=\"times\" font-size=\"14.00\" fill=\"#000000\">class_2</text>\n",
       "</g>\n",
       "<!-- 6&#45;&gt;7 -->\n",
       "<g id=\"edge7\" class=\"edge\">\n",
       "<title>6&#45;&gt;7</title>\n",
       "<path fill=\"none\" stroke=\"#000000\" d=\"M250.8982,-296.9465C249.7681,-286.2621 248.5162,-274.4254 247.3684,-263.5742\"/>\n",
       "<polygon fill=\"#000000\" stroke=\"#000000\" points=\"250.8398,-263.1185 246.3073,-253.5422 243.8787,-263.8549 250.8398,-263.1185\"/>\n",
       "</g>\n",
       "<!-- 8 -->\n",
       "<g id=\"node9\" class=\"node\">\n",
       "<title>8</title>\n",
       "<polygon fill=\"#ea995f\" stroke=\"#000000\" points=\"403.5,-261 297.5,-261 297.5,-193 403.5,-193 403.5,-261\"/>\n",
       "<text text-anchor=\"start\" x=\"305.5\" y=\"-245.8\" font-family=\"times\" font-size=\"14.00\" fill=\"#000000\">proline ≤ 724.5</text>\n",
       "<text text-anchor=\"start\" x=\"342.5\" y=\"-230.8\" font-family=\"times\" font-size=\"14.00\" fill=\"#000000\">50</text>\n",
       "<text text-anchor=\"start\" x=\"323\" y=\"-215.8\" font-family=\"times\" font-size=\"14.00\" fill=\"#000000\">[42, 8, 0]</text>\n",
       "<text text-anchor=\"start\" x=\"329.5\" y=\"-200.8\" font-family=\"times\" font-size=\"14.00\" fill=\"#000000\">class_0</text>\n",
       "</g>\n",
       "<!-- 6&#45;&gt;8 -->\n",
       "<g id=\"edge8\" class=\"edge\">\n",
       "<title>6&#45;&gt;8</title>\n",
       "<path fill=\"none\" stroke=\"#000000\" d=\"M285.934,-296.9465C294.3047,-287.8782 303.4416,-277.9799 312.1383,-268.5585\"/>\n",
       "<polygon fill=\"#000000\" stroke=\"#000000\" points=\"314.7844,-270.852 318.9954,-261.13 309.6407,-266.1041 314.7844,-270.852\"/>\n",
       "</g>\n",
       "<!-- 9 -->\n",
       "<g id=\"node10\" class=\"node\">\n",
       "<title>9</title>\n",
       "<polygon fill=\"#52e891\" stroke=\"#000000\" points=\"338,-157 219,-157 219,-89 338,-89 338,-157\"/>\n",
       "<text text-anchor=\"start\" x=\"227\" y=\"-141.8\" font-family=\"times\" font-size=\"14.00\" fill=\"#000000\">malic_acid ≤ 3.92</text>\n",
       "<text text-anchor=\"start\" x=\"274.5\" y=\"-126.8\" font-family=\"times\" font-size=\"14.00\" fill=\"#000000\">9</text>\n",
       "<text text-anchor=\"start\" x=\"255\" y=\"-111.8\" font-family=\"times\" font-size=\"14.00\" fill=\"#000000\">[1, 8, 0]</text>\n",
       "<text text-anchor=\"start\" x=\"257.5\" y=\"-96.8\" font-family=\"times\" font-size=\"14.00\" fill=\"#000000\">class_1</text>\n",
       "</g>\n",
       "<!-- 8&#45;&gt;9 -->\n",
       "<g id=\"edge9\" class=\"edge\">\n",
       "<title>8&#45;&gt;9</title>\n",
       "<path fill=\"none\" stroke=\"#000000\" d=\"M326.9245,-192.9465C320.8329,-184.1475 314.2004,-174.5672 307.8534,-165.3993\"/>\n",
       "<polygon fill=\"#000000\" stroke=\"#000000\" points=\"310.6983,-163.3597 302.1285,-157.13 304.9429,-167.3442 310.6983,-163.3597\"/>\n",
       "</g>\n",
       "<!-- 12 -->\n",
       "<g id=\"node13\" class=\"node\">\n",
       "<title>12</title>\n",
       "<polygon fill=\"#e58139\" stroke=\"#000000\" points=\"427,-149.5 356,-149.5 356,-96.5 427,-96.5 427,-149.5\"/>\n",
       "<text text-anchor=\"start\" x=\"383.5\" y=\"-134.3\" font-family=\"times\" font-size=\"14.00\" fill=\"#000000\">41</text>\n",
       "<text text-anchor=\"start\" x=\"364\" y=\"-119.3\" font-family=\"times\" font-size=\"14.00\" fill=\"#000000\">[41, 0, 0]</text>\n",
       "<text text-anchor=\"start\" x=\"370.5\" y=\"-104.3\" font-family=\"times\" font-size=\"14.00\" fill=\"#000000\">class_0</text>\n",
       "</g>\n",
       "<!-- 8&#45;&gt;12 -->\n",
       "<g id=\"edge12\" class=\"edge\">\n",
       "<title>8&#45;&gt;12</title>\n",
       "<path fill=\"none\" stroke=\"#000000\" d=\"M363.9249,-192.9465C368.2239,-182.0418 372.9961,-169.9368 377.3454,-158.9043\"/>\n",
       "<polygon fill=\"#000000\" stroke=\"#000000\" points=\"380.6247,-160.129 381.0363,-149.5422 374.1125,-157.5617 380.6247,-160.129\"/>\n",
       "</g>\n",
       "<!-- 10 -->\n",
       "<g id=\"node11\" class=\"node\">\n",
       "<title>10</title>\n",
       "<polygon fill=\"#39e581\" stroke=\"#000000\" points=\"269,-53 206,-53 206,0 269,0 269,-53\"/>\n",
       "<text text-anchor=\"start\" x=\"233.5\" y=\"-37.8\" font-family=\"times\" font-size=\"14.00\" fill=\"#000000\">8</text>\n",
       "<text text-anchor=\"start\" x=\"214\" y=\"-22.8\" font-family=\"times\" font-size=\"14.00\" fill=\"#000000\">[0, 8, 0]</text>\n",
       "<text text-anchor=\"start\" x=\"216.5\" y=\"-7.8\" font-family=\"times\" font-size=\"14.00\" fill=\"#000000\">class_1</text>\n",
       "</g>\n",
       "<!-- 9&#45;&gt;10 -->\n",
       "<g id=\"edge10\" class=\"edge\">\n",
       "<title>9&#45;&gt;10</title>\n",
       "<path fill=\"none\" stroke=\"#000000\" d=\"M264.0449,-88.9777C260.4267,-80.4617 256.5326,-71.2963 252.8717,-62.6798\"/>\n",
       "<polygon fill=\"#000000\" stroke=\"#000000\" points=\"255.9964,-61.0836 248.8646,-53.2485 249.5538,-63.8209 255.9964,-61.0836\"/>\n",
       "</g>\n",
       "<!-- 11 -->\n",
       "<g id=\"node12\" class=\"node\">\n",
       "<title>11</title>\n",
       "<polygon fill=\"#e58139\" stroke=\"#000000\" points=\"350,-53 287,-53 287,0 350,0 350,-53\"/>\n",
       "<text text-anchor=\"start\" x=\"314.5\" y=\"-37.8\" font-family=\"times\" font-size=\"14.00\" fill=\"#000000\">1</text>\n",
       "<text text-anchor=\"start\" x=\"295\" y=\"-22.8\" font-family=\"times\" font-size=\"14.00\" fill=\"#000000\">[1, 0, 0]</text>\n",
       "<text text-anchor=\"start\" x=\"297.5\" y=\"-7.8\" font-family=\"times\" font-size=\"14.00\" fill=\"#000000\">class_0</text>\n",
       "</g>\n",
       "<!-- 9&#45;&gt;11 -->\n",
       "<g id=\"edge11\" class=\"edge\">\n",
       "<title>9&#45;&gt;11</title>\n",
       "<path fill=\"none\" stroke=\"#000000\" d=\"M292.6025,-88.9777C296.1324,-80.4617 299.9316,-71.2963 303.5032,-62.6798\"/>\n",
       "<polygon fill=\"#000000\" stroke=\"#000000\" points=\"306.8166,-63.8265 307.4125,-53.2485 300.3501,-61.1461 306.8166,-63.8265\"/>\n",
       "</g>\n",
       "</g>\n",
       "</svg>\n"
      ],
      "text/plain": [
       "<graphviz.files.Source at 0x7fab4d48f7d0>"
      ]
     },
     "execution_count": 83,
     "metadata": {},
     "output_type": "execute_result"
    }
   ],
   "source": [
    "graph"
   ]
  },
  {
   "cell_type": "code",
   "execution_count": null,
   "metadata": {
    "colab": {
     "base_uri": "https://localhost:8080/",
     "height": 442
    },
    "id": "3uNje-Qp0QaP",
    "outputId": "784ade38-f8f5-42bd-f165-96ac73637ca6"
   },
   "outputs": [],
   "source": [
    "rating = SolutionTester(clfs, X, y, 'fin_rating')\n",
    "\n",
    "rating.run()"
   ]
  },
  {
   "cell_type": "code",
   "execution_count": null,
   "metadata": {
    "id": "x8x7Aq7rg5Jd"
   },
   "outputs": [],
   "source": [
    "dataset_clean['rating_step'].value_counts()"
   ]
  },
  {
   "cell_type": "code",
   "execution_count": null,
   "metadata": {
    "colab": {
     "base_uri": "https://localhost:8080/"
    },
    "id": "yXtQRfZZX0iq",
    "outputId": "3aad6a66-1456-4114-e272-63aa3e70a901"
   },
   "outputs": [
    {
     "data": {
      "text/plain": [
       "{'test_acc': 0.6381166449781143,\n",
       " 'test_f1': 0.6297705070506159,\n",
       " 'train_acc': 0.6454494365405661}"
      ]
     },
     "execution_count": 61,
     "metadata": {},
     "output_type": "execute_result"
    }
   ],
   "source": [
    "\n",
    "from sklearn.model_selection import train_test_split\n",
    "\n",
    "kwa = {}\n",
    "\n",
    "kwa['random_state'] = 43\n",
    "kwa['test_size'] = 0.2\n",
    "\n",
    "X_train, X_test, y_train, y_test = train_test_split(X, y, **kwa)\n",
    "xgb = XGBClassifier()\n",
    "\n",
    "xgb.fit(X_train, y_train)\n",
    "test_clf(xgb, X_train, X_test, y_train, y_test)"
   ]
  }
 ],
 "metadata": {
  "colab": {
   "collapsed_sections": [],
   "name": "Use of Machine Learning to classify companies credit through financial statements",
   "provenance": []
  },
  "kernelspec": {
   "display_name": "Python 3 (ipykernel)",
   "language": "python",
   "name": "python3"
  },
  "language_info": {
   "codemirror_mode": {
    "name": "ipython",
    "version": 3
   },
   "file_extension": ".py",
   "mimetype": "text/x-python",
   "name": "python",
   "nbconvert_exporter": "python",
   "pygments_lexer": "ipython3",
   "version": "3.8.10"
  }
 },
 "nbformat": 4,
 "nbformat_minor": 4
}
