{
 "cells": [
  {
   "cell_type": "markdown",
   "metadata": {
    "id": "cFJAze_G9KMH"
   },
   "source": [
    "# Merging of finantial states with ratings"
   ]
  },
  {
   "cell_type": "code",
   "execution_count": null,
   "metadata": {
    "id": "iD0VXHsS9Jaz"
   },
   "outputs": [],
   "source": [
    "#!/usr/bin/env python\n",
    "# coding: utf-8\n",
    "\n",
    "import pickle\n",
    "from collections import defaultdict\n",
    "import sys\n",
    "from itertools import groupby\n",
    "import numpy as np\n",
    "import pandas as pd\n",
    "from collections import Counter\n",
    "import gc\n",
    "from io import StringIO\n",
    "import datetime\n",
    "\n",
    "def clear_issuer_name(name):\n",
    "    name = name.replace(' CORPORATION', '')\n",
    "    name = name.replace(' CORP', '')\n",
    "    name = name.replace(' GROUP', '')\n",
    "    name = name.replace(' INC', '')\n",
    "    name = name.replace(' CO', '')\n",
    "    name = name.replace(' S.A.', '')\n",
    "    name = name.replace(' SA', '')\n",
    "    name = name.replace(' LP', '')\n",
    "    name = name.replace(' LTD', '')\n",
    "    name = name.replace(' LLC', '')\n",
    "    name = name.replace(' /DE/', '')\n",
    "    name = name.replace(' /CAN/', '')\n",
    "    name = name.replace(' LP', '')\n",
    "    name = name.replace(' /MD/', '')\n",
    "    name = name.replace(', LP', '')\n",
    "    name = name.replace(', LP', '')\n",
    "    name = name.replace(' PLC', '')\n",
    "    name = name.replace(' LP', '')\n",
    "\n",
    "    if name.endswith('.'):\n",
    "        name = name.replace('.', '')\n",
    "\n",
    "    if name.endswith(','):\n",
    "        name = name.replace(',', '')\n",
    "\n",
    "    return name\n",
    "\n",
    "def get_feats(d, feats):\n",
    "    return {feat: getattr(d, feat) for feat in feats}\n",
    "\n",
    "def load_dataset(fin_data_path, rating_path='./datasets/ratings_for_upload.csv'):\n",
    "    print(fin_data_path, rating_path)\n",
    "\n",
    "    rating_feats = []\n",
    "    print('Loading rating data.')\n",
    "    ratings = pd.read_csv(rating_path)\n",
    "\n",
    "    rating_feats.append('rating_agency_name')\n",
    "    rating_feats.append('issuer_name')\n",
    "    rating_feats.append('rating_type')\n",
    "    rating_feats.append('rating')\n",
    "    rating_feats.append('rating_action_date')\n",
    "    rating_feats.append('file_creating_date')\n",
    "    rating_feats.append('maturity_date')\n",
    "    rating_feats.append('sec_category')\n",
    "    rating_feats.append('issuer_clean')\n",
    "\n",
    "    print('Loading financial num data.')\n",
    "    with open(f'./datasets/{fin_data_path}/num.txt') as op:\n",
    "        df_num = pd.read_csv(StringIO(op.read()),sep='\\t')\n",
    "\n",
    "    print('Loading financial sub data.')\n",
    "    with open(f'./datasets/{fin_data_path}/sub.txt') as op:\n",
    "        df_sub = pd.read_csv(StringIO(op.read()),sep='\\t')\n",
    "\n",
    "    adsh_to_name = dict(zip(df_sub.adsh, df_sub.name))\n",
    "\n",
    "    df_num['issuer_clean'] = df_num['adsh'].apply(adsh_to_name.get).apply(clear_issuer_name)\n",
    "\n",
    "    del df_sub\n",
    "\n",
    "    tbt = set([\"Standard & Poor's Ratings Services\", \"Moody's Investors Service\", \"Fitch Ratings\"])\n",
    "    ratings['issuer_clean'] = ratings['issuer_name'].astype(str).apply(str.upper).apply(clear_issuer_name)\n",
    "    _ratings = ratings[ratings['issuer_clean'].isin(set(df_num['issuer_clean']))].copy()\n",
    "    _ratings = _ratings[_ratings['rating_agency_name'].isin(tbt)].copy()\n",
    "    del ratings\n",
    "    ratings_per_company = {comp:[] for comp in _ratings['issuer_clean']}\n",
    "\n",
    "    for row in _ratings.itertuples(index=False):\n",
    "        ratings_per_company[getattr(row, 'issuer_clean')].append(get_feats(row, rating_feats))\n",
    "\n",
    "    _sec_num = df_num[df_num['issuer_clean'].isin(set(_ratings['issuer_clean']))].copy()\n",
    "\n",
    "    del _ratings\n",
    "    del df_num\n",
    "\n",
    "    fin_statements = {k: defaultdict(dict) for k in set(_sec_num['issuer_clean'])}\n",
    "\n",
    "    print('Loading fin statements.')\n",
    "\n",
    "    for row in _sec_num.itertuples(index=False):\n",
    "        tag = getattr(row, 'tag')\n",
    "        qtrs = getattr(row, 'qtrs')\n",
    "        dt = datetime.datetime.strptime(str(getattr(row, 'ddate')), '%Y%m%d')\n",
    "        clear_issuer = clear_issuer_name(adsh_to_name[getattr(row, 'adsh')])\n",
    "\n",
    "        fin_statements[clear_issuer][f'{dt.strftime(\"%Y_%m\")}_{qtrs}Q'][tag] = getattr(row, 'value')\n",
    "\n",
    "    del _sec_num\n",
    "\n",
    "    fin_statements_per_year = defaultdict(dict)\n",
    "\n",
    "    for k in fin_statements:\n",
    "        for year, group in groupby(sorted(fin_statements[k]), lambda s: s[:4]):\n",
    "            fin_statements_per_year[k][year] = {}\n",
    "\n",
    "            for statement in group:\n",
    "                fin_statements_per_year[k][year].update(fin_statements[k][statement])\n",
    "\n",
    "    dataset = []\n",
    "\n",
    "    print('Creating dataset rows.')\n",
    "\n",
    "    for cmp, ratings in ratings_per_company.items():\n",
    "\n",
    "        for r in ratings:\n",
    "            r_year = r['rating_action_date'][0:4]\n",
    "\n",
    "            if r_year not in fin_statements_per_year[cmp]:\n",
    "                continue\n",
    "\n",
    "            row = {}\n",
    "            row['company'] = cmp\n",
    "            row['rating'] = r['rating']\n",
    "            row['rating_type'] = r['rating_type']\n",
    "            row['rating_agency'] = r['rating_agency_name']\n",
    "            row['year'] = r_year\n",
    "\n",
    "            row.update(fin_statements_per_year[cmp][r_year])\n",
    "\n",
    "            dataset.append(row)\n",
    "\n",
    "    del ratings_per_company\n",
    "    del fin_statements\n",
    "    del fin_statements_per_year\n",
    "\n",
    "    return dataset\n",
    "\n",
    "run = False\n",
    "\n",
    "if run:\n",
    "    dataset = []\n",
    "    \n",
    "    #for year, quarter in ((i,j) for i in ['2015'] for j in ['4']):\n",
    "    for year, quarter in ((i,j) for i in range(2013,2016) for j in range(1,5)):\n",
    "        print(len(dataset))\n",
    "        print(f'{sys.getsizeof(dataset)*0.000001} Mbs\\n')\n",
    "        dataset.extend(load_dataset(f'{year}q{quarter}'))\n",
    "        print(len(dataset))\n",
    "        print(f'{sys.getsizeof(dataset)*0.000001} Mbs\\n')\n",
    "    \n",
    "        gc.collect()\n",
    "        with open('dataset.pk', 'wb') as handle:\n",
    "            pickle.dump(dataset, handle, protocol=pickle.HIGHEST_PROTOCOL)\n",
    "\n",
    "with open('dataset.pk', 'rb') as handle:\n",
    "    dataset = pickle.load(handle)\n",
    "\n",
    "datasets_hash = [hash(frozenset(row.items())) for row in dataset]\n",
    "_, idxs = np.unique(datasets_hash, return_index=True)\n",
    "\n",
    "np_dataset = np.array(dataset)\n",
    "unique_dataset = np_dataset[idxs]\n",
    "\n",
    "columns = []\n",
    "\n",
    "for row in unique_dataset:\n",
    "    columns.extend(row.keys())\n",
    "\n",
    "count_cols = Counter(columns)\n",
    "most_common = count_cols.most_common(100)\n",
    "common_cols = [x[0] for x in most_common]\n",
    "\n",
    "_data = []\n",
    "\n",
    "for row in unique_dataset:\n",
    "    _data.append({k:row.get(k, np.nan) for k in common_cols})\n",
    "\n",
    "df = pd.DataFrame.from_records(_data)\n",
    "df.to_csv('./datasets/dataset_ready.csv')"
   ]
  },
  {
   "cell_type": "markdown",
   "metadata": {
    "id": "Ccjcv0hCfkww"
   },
   "source": [
    "\n",
    "# Example of a Decision Tree\n",
    "\n"
   ]
  },
  {
   "cell_type": "code",
   "execution_count": 1,
   "metadata": {},
   "outputs": [
    {
     "name": "stdout",
     "output_type": "stream",
     "text": [
      "Collecting scikit-learn\n",
      "  Downloading scikit_learn-1.0.2-cp38-cp38-manylinux_2_17_x86_64.manylinux2014_x86_64.whl (26.7 MB)\n",
      "\u001b[K     |████████████████████████████████| 26.7 MB 6.8 MB/s eta 0:00:01\n",
      "\u001b[?25hRequirement already satisfied, skipping upgrade: threadpoolctl>=2.0.0 in /home/fuhr/.venvs/ia/lib/python3.8/site-packages (from scikit-learn) (3.0.0)\n",
      "Requirement already satisfied, skipping upgrade: joblib>=0.11 in /home/fuhr/.venvs/ia/lib/python3.8/site-packages (from scikit-learn) (1.1.0)\n",
      "Requirement already satisfied, skipping upgrade: numpy>=1.14.6 in /home/fuhr/.venvs/ia/lib/python3.8/site-packages (from scikit-learn) (1.21.2)\n",
      "Requirement already satisfied, skipping upgrade: scipy>=1.1.0 in /home/fuhr/.venvs/ia/lib/python3.8/site-packages (from scikit-learn) (1.7.3)\n",
      "\u001b[31mERROR: auto-sklearn 0.14.2 has requirement scikit-learn<0.25.0,>=0.24.0, but you'll have scikit-learn 1.0.2 which is incompatible.\u001b[0m\n",
      "Installing collected packages: scikit-learn\n",
      "  Attempting uninstall: scikit-learn\n",
      "    Found existing installation: scikit-learn 1.0.1\n",
      "    Uninstalling scikit-learn-1.0.1:\n",
      "      Successfully uninstalled scikit-learn-1.0.1\n",
      "Successfully installed scikit-learn-1.0.2\n",
      "Collecting xgboost\n",
      "  Downloading xgboost-1.5.2-py3-none-manylinux2014_x86_64.whl (173.6 MB)\n",
      "\u001b[K     |████████████████████████████████| 173.6 MB 12 kB/s  eta 0:00:012\n",
      "\u001b[?25hRequirement already satisfied, skipping upgrade: scipy in /home/fuhr/.venvs/ia/lib/python3.8/site-packages (from xgboost) (1.7.3)\n",
      "Requirement already satisfied, skipping upgrade: numpy in /home/fuhr/.venvs/ia/lib/python3.8/site-packages (from xgboost) (1.21.2)\n",
      "Installing collected packages: xgboost\n",
      "  Attempting uninstall: xgboost\n",
      "    Found existing installation: xgboost 1.5.1\n",
      "    Uninstalling xgboost-1.5.1:\n",
      "      Successfully uninstalled xgboost-1.5.1\n",
      "Successfully installed xgboost-1.5.2\n",
      "Collecting matplotlib\n",
      "  Downloading matplotlib-3.5.1-cp38-cp38-manylinux_2_5_x86_64.manylinux1_x86_64.whl (11.3 MB)\n",
      "\u001b[K     |████████████████████████████████| 11.3 MB 10.5 MB/s eta 0:00:01\n",
      "\u001b[?25hRequirement already satisfied, skipping upgrade: cycler>=0.10 in /home/fuhr/.venvs/ia/lib/python3.8/site-packages (from matplotlib) (0.11.0)\n",
      "Requirement already satisfied, skipping upgrade: python-dateutil>=2.7 in /home/fuhr/.venvs/ia/lib/python3.8/site-packages (from matplotlib) (2.8.2)\n",
      "Requirement already satisfied, skipping upgrade: numpy>=1.17 in /home/fuhr/.venvs/ia/lib/python3.8/site-packages (from matplotlib) (1.21.2)\n",
      "Requirement already satisfied, skipping upgrade: pillow>=6.2.0 in /home/fuhr/.venvs/ia/lib/python3.8/site-packages (from matplotlib) (8.3.1)\n",
      "Requirement already satisfied, skipping upgrade: fonttools>=4.22.0 in /home/fuhr/.venvs/ia/lib/python3.8/site-packages (from matplotlib) (4.28.2)\n",
      "Requirement already satisfied, skipping upgrade: pyparsing>=2.2.1 in /home/fuhr/.venvs/ia/lib/python3.8/site-packages (from matplotlib) (2.4.7)\n",
      "Requirement already satisfied, skipping upgrade: kiwisolver>=1.0.1 in /home/fuhr/.venvs/ia/lib/python3.8/site-packages (from matplotlib) (1.3.2)\n",
      "Requirement already satisfied, skipping upgrade: packaging>=20.0 in /home/fuhr/.venvs/ia/lib/python3.8/site-packages (from matplotlib) (21.0)\n",
      "Requirement already satisfied, skipping upgrade: six>=1.5 in /home/fuhr/.venvs/ia/lib/python3.8/site-packages (from python-dateutil>=2.7->matplotlib) (1.16.0)\n",
      "Installing collected packages: matplotlib\n",
      "  Attempting uninstall: matplotlib\n",
      "    Found existing installation: matplotlib 3.5.0\n",
      "    Uninstalling matplotlib-3.5.0:\n",
      "      Successfully uninstalled matplotlib-3.5.0\n",
      "Successfully installed matplotlib-3.5.1\n",
      "Collecting graphviz\n",
      "  Downloading graphviz-0.19.1-py3-none-any.whl (46 kB)\n",
      "\u001b[K     |████████████████████████████████| 46 kB 679 kB/s eta 0:00:01\n",
      "\u001b[?25hInstalling collected packages: graphviz\n",
      "  Attempting uninstall: graphviz\n",
      "    Found existing installation: graphviz 0.19\n",
      "    Uninstalling graphviz-0.19:\n",
      "      Successfully uninstalled graphviz-0.19\n",
      "Successfully installed graphviz-0.19.1\n",
      "Collecting pandas\n",
      "  Downloading pandas-1.3.5-cp38-cp38-manylinux_2_17_x86_64.manylinux2014_x86_64.whl (11.5 MB)\n",
      "\u001b[K     |████████████████████████████████| 11.5 MB 822 kB/s eta 0:00:01\n",
      "\u001b[?25hRequirement already satisfied, skipping upgrade: numpy>=1.17.3; platform_machine != \"aarch64\" and platform_machine != \"arm64\" and python_version < \"3.10\" in /home/fuhr/.venvs/ia/lib/python3.8/site-packages (from pandas) (1.21.2)\n",
      "Requirement already satisfied, skipping upgrade: pytz>=2017.3 in /home/fuhr/.venvs/ia/lib/python3.8/site-packages (from pandas) (2021.1)\n",
      "Requirement already satisfied, skipping upgrade: python-dateutil>=2.7.3 in /home/fuhr/.venvs/ia/lib/python3.8/site-packages (from pandas) (2.8.2)\n",
      "Requirement already satisfied, skipping upgrade: six>=1.5 in /home/fuhr/.venvs/ia/lib/python3.8/site-packages (from python-dateutil>=2.7.3->pandas) (1.16.0)\n",
      "\u001b[31mERROR: auto-sklearn 0.14.2 has requirement scikit-learn<0.25.0,>=0.24.0, but you'll have scikit-learn 1.0.2 which is incompatible.\u001b[0m\n",
      "Installing collected packages: pandas\n",
      "  Attempting uninstall: pandas\n",
      "    Found existing installation: pandas 1.3.4\n",
      "    Uninstalling pandas-1.3.4:\n",
      "      Successfully uninstalled pandas-1.3.4\n",
      "Successfully installed pandas-1.3.5\n"
     ]
    }
   ],
   "source": [
    "!pip install -U scikit-learn\n",
    "!pip install -U xgboost\n",
    "!pip install -U matplotlib\n",
    "!pip install -U graphviz\n",
    "!pip install -U pandas"
   ]
  },
  {
   "cell_type": "code",
   "execution_count": 1,
   "metadata": {
    "colab": {
     "base_uri": "https://localhost:8080/"
    },
    "id": "rff9Q1ABfqyt",
    "outputId": "3ccbbaad-251e-4247-c6ca-3a982847f5d2"
   },
   "outputs": [
    {
     "data": {
      "text/plain": [
       "{'test_acc': 0.9444444444444444,\n",
       " 'train_acc': 1.0,\n",
       " 'test_f1': 0.9439974457215836}"
      ]
     },
     "execution_count": 1,
     "metadata": {},
     "output_type": "execute_result"
    }
   ],
   "source": [
    "import sklearn as sk\n",
    "from sklearn.model_selection import train_test_split\n",
    "from sklearn.metrics import accuracy_score, f1_score\n",
    "from sklearn.datasets import load_wine\n",
    "from sklearn.tree import DecisionTreeClassifier\n",
    "\n",
    "def test_clf(clf, X_train, X_test, y_train, y_test):\n",
    "    score = {}\n",
    "  \n",
    "    y_test_pred = clf.predict(X_test)\n",
    "    y_train_pred = clf.predict(X_train)\n",
    "\n",
    "    score['test_acc'] = accuracy_score(y_test, y_test_pred)\n",
    "    score['train_acc'] = accuracy_score(y_train, y_train_pred)\n",
    "    score['test_f1'] = f1_score(y_test, y_test_pred, average='weighted')\n",
    "\n",
    "    return score\n",
    "\n",
    "wine_X, wine_y = load_wine(return_X_y=True)\n",
    "\n",
    "kwa = {}\n",
    "\n",
    "kwa['random_state'] = 42\n",
    "kwa['test_size'] = 0.2\n",
    "\n",
    "X_train, X_test, y_train, y_test = train_test_split(wine_X, wine_y, **kwa)\n",
    "tree = DecisionTreeClassifier()\n",
    "\n",
    "tree.fit(X_train, y_train)\n",
    "test_clf(tree, X_train, X_test, y_train, y_test)"
   ]
  },
  {
   "cell_type": "code",
   "execution_count": 2,
   "metadata": {
    "colab": {
     "base_uri": "https://localhost:8080/",
     "height": 52
    },
    "id": "WcRW859LkYsi",
    "outputId": "b729616f-ead3-40a6-c4e4-4c43b9f994ac"
   },
   "outputs": [
    {
     "data": {
      "text/plain": [
       "'Source.gv.pdf'"
      ]
     },
     "execution_count": 2,
     "metadata": {},
     "output_type": "execute_result"
    },
    {
     "data": {
      "text/plain": [
       "<Figure size 720x720 with 0 Axes>"
      ]
     },
     "metadata": {},
     "output_type": "display_data"
    }
   ],
   "source": [
    "from sklearn.tree import export_graphviz\n",
    "import matplotlib.pyplot as plt\n",
    "import graphviz\n",
    "\n",
    "plt.figure(figsize=(10,10))\n",
    "\n",
    "kwa = {}\n",
    "\n",
    "kwa['decision_tree'] = tree\n",
    "kwa['out_file'] = None\n",
    "kwa['feature_names'] = load_wine()['feature_names']\n",
    "kwa['class_names'] = load_wine()['target_names']\n",
    "kwa['filled'] = True\n",
    "kwa['label'] = 'root'\n",
    "kwa['rounded'] = False\n",
    "kwa['leaves_parallel'] = False\n",
    "kwa['impurity'] = False\n",
    "kwa['special_characters'] = True\n",
    "kwa['proportion'] = False\n",
    "kwa['precision'] = 2\n",
    "kwa['rotate'] = False\n",
    "kwa['fontname'] = 'times'\n",
    "\n",
    "dot_data = export_graphviz(**kwa)\n",
    "\n",
    "graph = graphviz.Source(dot_data)\n",
    "\n",
    "graph.render(format='pdf', view=True)"
   ]
  },
  {
   "cell_type": "code",
   "execution_count": 3,
   "metadata": {
    "colab": {
     "base_uri": "https://localhost:8080/",
     "height": 657
    },
    "id": "kc-9hUdgpgRt",
    "outputId": "37533723-7173-4b81-a55e-9e85db8abeba"
   },
   "outputs": [
    {
     "data": {
      "image/svg+xml": [
       "<?xml version=\"1.0\" encoding=\"UTF-8\" standalone=\"no\"?>\n",
       "<!DOCTYPE svg PUBLIC \"-//W3C//DTD SVG 1.1//EN\"\n",
       " \"http://www.w3.org/Graphics/SVG/1.1/DTD/svg11.dtd\">\n",
       "<!-- Generated by graphviz version 2.43.0 (0)\n",
       " -->\n",
       "<!-- Title: Tree Pages: 1 -->\n",
       "<svg width=\"418pt\" height=\"477pt\"\n",
       " viewBox=\"0.00 0.00 418.00 477.00\" xmlns=\"http://www.w3.org/2000/svg\" xmlns:xlink=\"http://www.w3.org/1999/xlink\">\n",
       "<g id=\"graph0\" class=\"graph\" transform=\"scale(1 1) rotate(0) translate(4 473)\">\n",
       "<title>Tree</title>\n",
       "<polygon fill=\"white\" stroke=\"transparent\" points=\"-4,4 -4,-473 414,-473 414,4 -4,4\"/>\n",
       "<!-- 0 -->\n",
       "<g id=\"node1\" class=\"node\">\n",
       "<title>0</title>\n",
       "<polygon fill=\"#e7fcef\" stroke=\"black\" points=\"254.5,-469 111.5,-469 111.5,-401 254.5,-401 254.5,-469\"/>\n",
       "<text text-anchor=\"start\" x=\"119.5\" y=\"-453.8\" font-family=\"times\" font-size=\"14.00\">color_intensity ≤ 3.82</text>\n",
       "<text text-anchor=\"start\" x=\"143\" y=\"-438.8\" font-family=\"times\" font-size=\"14.00\">samples = 142</text>\n",
       "<text text-anchor=\"start\" x=\"128\" y=\"-423.8\" font-family=\"times\" font-size=\"14.00\">value = [45, 57, 40]</text>\n",
       "<text text-anchor=\"start\" x=\"142\" y=\"-408.8\" font-family=\"times\" font-size=\"14.00\">class = class_1</text>\n",
       "</g>\n",
       "<!-- 1 -->\n",
       "<g id=\"node2\" class=\"node\">\n",
       "<title>1</title>\n",
       "<polygon fill=\"#45e789\" stroke=\"black\" points=\"175,-365 61,-365 61,-297 175,-297 175,-365\"/>\n",
       "<text text-anchor=\"start\" x=\"69\" y=\"-349.8\" font-family=\"times\" font-size=\"14.00\">proline ≤ 1002.5</text>\n",
       "<text text-anchor=\"start\" x=\"111\" y=\"-334.8\" font-family=\"times\" font-size=\"14.00\">52</text>\n",
       "<text text-anchor=\"start\" x=\"92\" y=\"-319.8\" font-family=\"times\" font-size=\"14.00\">[3, 49, 0]</text>\n",
       "<text text-anchor=\"start\" x=\"98\" y=\"-304.8\" font-family=\"times\" font-size=\"14.00\">class_1</text>\n",
       "</g>\n",
       "<!-- 0&#45;&gt;1 -->\n",
       "<g id=\"edge1\" class=\"edge\">\n",
       "<title>0&#45;&gt;1</title>\n",
       "<path fill=\"none\" stroke=\"black\" d=\"M161.9,-400.88C156.39,-392.24 150.38,-382.82 144.63,-373.79\"/>\n",
       "<polygon fill=\"black\" stroke=\"black\" points=\"147.55,-371.85 139.22,-365.3 141.64,-375.61 147.55,-371.85\"/>\n",
       "<text text-anchor=\"middle\" x=\"133.81\" y=\"-386.01\" font-family=\"times\" font-size=\"14.00\">True</text>\n",
       "</g>\n",
       "<!-- 6 -->\n",
       "<g id=\"node7\" class=\"node\">\n",
       "<title>6</title>\n",
       "<polygon fill=\"#fefaf7\" stroke=\"black\" points=\"304.5,-365 193.5,-365 193.5,-297 304.5,-297 304.5,-365\"/>\n",
       "<text text-anchor=\"start\" x=\"201.5\" y=\"-349.8\" font-family=\"times\" font-size=\"14.00\">flavanoids ≤ 1.4</text>\n",
       "<text text-anchor=\"start\" x=\"242\" y=\"-334.8\" font-family=\"times\" font-size=\"14.00\">90</text>\n",
       "<text text-anchor=\"start\" x=\"220\" y=\"-319.8\" font-family=\"times\" font-size=\"14.00\">[42, 8, 40]</text>\n",
       "<text text-anchor=\"start\" x=\"229\" y=\"-304.8\" font-family=\"times\" font-size=\"14.00\">class_0</text>\n",
       "</g>\n",
       "<!-- 0&#45;&gt;6 -->\n",
       "<g id=\"edge6\" class=\"edge\">\n",
       "<title>0&#45;&gt;6</title>\n",
       "<path fill=\"none\" stroke=\"black\" d=\"M204.43,-400.88C210.02,-392.24 216.12,-382.82 221.96,-373.79\"/>\n",
       "<polygon fill=\"black\" stroke=\"black\" points=\"224.96,-375.6 227.45,-365.3 219.08,-371.79 224.96,-375.6\"/>\n",
       "<text text-anchor=\"middle\" x=\"232.69\" y=\"-386.04\" font-family=\"times\" font-size=\"14.00\">False</text>\n",
       "</g>\n",
       "<!-- 2 -->\n",
       "<g id=\"node3\" class=\"node\">\n",
       "<title>2</title>\n",
       "<polygon fill=\"#3de684\" stroke=\"black\" points=\"81,-261 1,-261 1,-193 81,-193 81,-261\"/>\n",
       "<text text-anchor=\"start\" x=\"9\" y=\"-245.8\" font-family=\"times\" font-size=\"14.00\">ash ≤ 3.07</text>\n",
       "<text text-anchor=\"start\" x=\"34\" y=\"-230.8\" font-family=\"times\" font-size=\"14.00\">50</text>\n",
       "<text text-anchor=\"start\" x=\"15\" y=\"-215.8\" font-family=\"times\" font-size=\"14.00\">[1, 49, 0]</text>\n",
       "<text text-anchor=\"start\" x=\"21\" y=\"-200.8\" font-family=\"times\" font-size=\"14.00\">class_1</text>\n",
       "</g>\n",
       "<!-- 1&#45;&gt;2 -->\n",
       "<g id=\"edge2\" class=\"edge\">\n",
       "<title>1&#45;&gt;2</title>\n",
       "<path fill=\"none\" stroke=\"black\" d=\"M93,-296.88C86.41,-288.15 79.22,-278.62 72.34,-269.51\"/>\n",
       "<polygon fill=\"black\" stroke=\"black\" points=\"74.96,-267.17 66.14,-261.3 69.37,-271.39 74.96,-267.17\"/>\n",
       "</g>\n",
       "<!-- 5 -->\n",
       "<g id=\"node6\" class=\"node\">\n",
       "<title>5</title>\n",
       "<polygon fill=\"#e58139\" stroke=\"black\" points=\"160.5,-253.5 99.5,-253.5 99.5,-200.5 160.5,-200.5 160.5,-253.5\"/>\n",
       "<text text-anchor=\"start\" x=\"126.5\" y=\"-238.3\" font-family=\"times\" font-size=\"14.00\">2</text>\n",
       "<text text-anchor=\"start\" x=\"107.5\" y=\"-223.3\" font-family=\"times\" font-size=\"14.00\">[2, 0, 0]</text>\n",
       "<text text-anchor=\"start\" x=\"110\" y=\"-208.3\" font-family=\"times\" font-size=\"14.00\">class_0</text>\n",
       "</g>\n",
       "<!-- 1&#45;&gt;5 -->\n",
       "<g id=\"edge5\" class=\"edge\">\n",
       "<title>1&#45;&gt;5</title>\n",
       "<path fill=\"none\" stroke=\"black\" d=\"M121.9,-296.88C123.15,-286.22 124.55,-274.35 125.82,-263.52\"/>\n",
       "<polygon fill=\"black\" stroke=\"black\" points=\"129.31,-263.86 127,-253.52 122.35,-263.04 129.31,-263.86\"/>\n",
       "</g>\n",
       "<!-- 3 -->\n",
       "<g id=\"node4\" class=\"node\">\n",
       "<title>3</title>\n",
       "<polygon fill=\"#39e581\" stroke=\"black\" points=\"68,-149.5 0,-149.5 0,-96.5 68,-96.5 68,-149.5\"/>\n",
       "<text text-anchor=\"start\" x=\"27\" y=\"-134.3\" font-family=\"times\" font-size=\"14.00\">49</text>\n",
       "<text text-anchor=\"start\" x=\"8\" y=\"-119.3\" font-family=\"times\" font-size=\"14.00\">[0, 49, 0]</text>\n",
       "<text text-anchor=\"start\" x=\"14\" y=\"-104.3\" font-family=\"times\" font-size=\"14.00\">class_1</text>\n",
       "</g>\n",
       "<!-- 2&#45;&gt;3 -->\n",
       "<g id=\"edge3\" class=\"edge\">\n",
       "<title>2&#45;&gt;3</title>\n",
       "<path fill=\"none\" stroke=\"black\" d=\"M38.73,-192.88C38,-182.22 37.18,-170.35 36.44,-159.52\"/>\n",
       "<polygon fill=\"black\" stroke=\"black\" points=\"39.93,-159.26 35.75,-149.52 32.94,-159.74 39.93,-159.26\"/>\n",
       "</g>\n",
       "<!-- 4 -->\n",
       "<g id=\"node5\" class=\"node\">\n",
       "<title>4</title>\n",
       "<polygon fill=\"#e58139\" stroke=\"black\" points=\"147.5,-149.5 86.5,-149.5 86.5,-96.5 147.5,-96.5 147.5,-149.5\"/>\n",
       "<text text-anchor=\"start\" x=\"113.5\" y=\"-134.3\" font-family=\"times\" font-size=\"14.00\">1</text>\n",
       "<text text-anchor=\"start\" x=\"94.5\" y=\"-119.3\" font-family=\"times\" font-size=\"14.00\">[1, 0, 0]</text>\n",
       "<text text-anchor=\"start\" x=\"97\" y=\"-104.3\" font-family=\"times\" font-size=\"14.00\">class_0</text>\n",
       "</g>\n",
       "<!-- 2&#45;&gt;4 -->\n",
       "<g id=\"edge4\" class=\"edge\">\n",
       "<title>2&#45;&gt;4</title>\n",
       "<path fill=\"none\" stroke=\"black\" d=\"M65.68,-192.88C74.03,-181.67 83.38,-169.13 91.78,-157.85\"/>\n",
       "<polygon fill=\"black\" stroke=\"black\" points=\"94.82,-159.63 97.99,-149.52 89.2,-155.45 94.82,-159.63\"/>\n",
       "</g>\n",
       "<!-- 7 -->\n",
       "<g id=\"node8\" class=\"node\">\n",
       "<title>7</title>\n",
       "<polygon fill=\"#8139e5\" stroke=\"black\" points=\"271,-253.5 203,-253.5 203,-200.5 271,-200.5 271,-253.5\"/>\n",
       "<text text-anchor=\"start\" x=\"230\" y=\"-238.3\" font-family=\"times\" font-size=\"14.00\">40</text>\n",
       "<text text-anchor=\"start\" x=\"211\" y=\"-223.3\" font-family=\"times\" font-size=\"14.00\">[0, 0, 40]</text>\n",
       "<text text-anchor=\"start\" x=\"217\" y=\"-208.3\" font-family=\"times\" font-size=\"14.00\">class_2</text>\n",
       "</g>\n",
       "<!-- 6&#45;&gt;7 -->\n",
       "<g id=\"edge7\" class=\"edge\">\n",
       "<title>6&#45;&gt;7</title>\n",
       "<path fill=\"none\" stroke=\"black\" d=\"M245.1,-296.88C243.85,-286.22 242.45,-274.35 241.18,-263.52\"/>\n",
       "<polygon fill=\"black\" stroke=\"black\" points=\"244.65,-263.04 240,-253.52 237.69,-263.86 244.65,-263.04\"/>\n",
       "</g>\n",
       "<!-- 8 -->\n",
       "<g id=\"node9\" class=\"node\">\n",
       "<title>8</title>\n",
       "<polygon fill=\"#ea995f\" stroke=\"black\" points=\"396.5,-261 289.5,-261 289.5,-193 396.5,-193 396.5,-261\"/>\n",
       "<text text-anchor=\"start\" x=\"297.5\" y=\"-245.8\" font-family=\"times\" font-size=\"14.00\">proline ≤ 724.5</text>\n",
       "<text text-anchor=\"start\" x=\"336\" y=\"-230.8\" font-family=\"times\" font-size=\"14.00\">50</text>\n",
       "<text text-anchor=\"start\" x=\"317\" y=\"-215.8\" font-family=\"times\" font-size=\"14.00\">[42, 8, 0]</text>\n",
       "<text text-anchor=\"start\" x=\"323\" y=\"-200.8\" font-family=\"times\" font-size=\"14.00\">class_0</text>\n",
       "</g>\n",
       "<!-- 6&#45;&gt;8 -->\n",
       "<g id=\"edge8\" class=\"edge\">\n",
       "<title>6&#45;&gt;8</title>\n",
       "<path fill=\"none\" stroke=\"black\" d=\"M279.52,-296.88C287.81,-287.89 296.88,-278.04 305.51,-268.68\"/>\n",
       "<polygon fill=\"black\" stroke=\"black\" points=\"308.11,-271.02 312.31,-261.3 302.96,-266.28 308.11,-271.02\"/>\n",
       "</g>\n",
       "<!-- 9 -->\n",
       "<g id=\"node10\" class=\"node\">\n",
       "<title>9</title>\n",
       "<polygon fill=\"#52e891\" stroke=\"black\" points=\"323.5,-157 214.5,-157 214.5,-89 323.5,-89 323.5,-157\"/>\n",
       "<text text-anchor=\"start\" x=\"222.5\" y=\"-141.8\" font-family=\"times\" font-size=\"14.00\">alcohol ≤ 13.14</text>\n",
       "<text text-anchor=\"start\" x=\"265.5\" y=\"-126.8\" font-family=\"times\" font-size=\"14.00\">9</text>\n",
       "<text text-anchor=\"start\" x=\"246.5\" y=\"-111.8\" font-family=\"times\" font-size=\"14.00\">[1, 8, 0]</text>\n",
       "<text text-anchor=\"start\" x=\"249\" y=\"-96.8\" font-family=\"times\" font-size=\"14.00\">class_1</text>\n",
       "</g>\n",
       "<!-- 8&#45;&gt;9 -->\n",
       "<g id=\"edge9\" class=\"edge\">\n",
       "<title>8&#45;&gt;9</title>\n",
       "<path fill=\"none\" stroke=\"black\" d=\"M318.97,-192.88C312.64,-184.15 305.73,-174.62 299.12,-165.51\"/>\n",
       "<polygon fill=\"black\" stroke=\"black\" points=\"301.86,-163.34 293.16,-157.3 296.2,-167.45 301.86,-163.34\"/>\n",
       "</g>\n",
       "<!-- 12 -->\n",
       "<g id=\"node13\" class=\"node\">\n",
       "<title>12</title>\n",
       "<polygon fill=\"#e58139\" stroke=\"black\" points=\"410,-149.5 342,-149.5 342,-96.5 410,-96.5 410,-149.5\"/>\n",
       "<text text-anchor=\"start\" x=\"369\" y=\"-134.3\" font-family=\"times\" font-size=\"14.00\">41</text>\n",
       "<text text-anchor=\"start\" x=\"350\" y=\"-119.3\" font-family=\"times\" font-size=\"14.00\">[41, 0, 0]</text>\n",
       "<text text-anchor=\"start\" x=\"356\" y=\"-104.3\" font-family=\"times\" font-size=\"14.00\">class_0</text>\n",
       "</g>\n",
       "<!-- 8&#45;&gt;12 -->\n",
       "<g id=\"edge12\" class=\"edge\">\n",
       "<title>8&#45;&gt;12</title>\n",
       "<path fill=\"none\" stroke=\"black\" d=\"M353.71,-192.88C357.2,-182.11 361.08,-170.11 364.62,-159.18\"/>\n",
       "<polygon fill=\"black\" stroke=\"black\" points=\"368,-160.11 367.74,-149.52 361.34,-157.96 368,-160.11\"/>\n",
       "</g>\n",
       "<!-- 10 -->\n",
       "<g id=\"node11\" class=\"node\">\n",
       "<title>10</title>\n",
       "<polygon fill=\"#39e581\" stroke=\"black\" points=\"259.5,-53 198.5,-53 198.5,0 259.5,0 259.5,-53\"/>\n",
       "<text text-anchor=\"start\" x=\"225.5\" y=\"-37.8\" font-family=\"times\" font-size=\"14.00\">8</text>\n",
       "<text text-anchor=\"start\" x=\"206.5\" y=\"-22.8\" font-family=\"times\" font-size=\"14.00\">[0, 8, 0]</text>\n",
       "<text text-anchor=\"start\" x=\"209\" y=\"-7.8\" font-family=\"times\" font-size=\"14.00\">class_1</text>\n",
       "</g>\n",
       "<!-- 9&#45;&gt;10 -->\n",
       "<g id=\"edge10\" class=\"edge\">\n",
       "<title>9&#45;&gt;10</title>\n",
       "<path fill=\"none\" stroke=\"black\" d=\"M255.01,-88.95C251.41,-80.44 247.52,-71.26 243.88,-62.65\"/>\n",
       "<polygon fill=\"black\" stroke=\"black\" points=\"247.02,-61.08 239.89,-53.24 240.57,-63.81 247.02,-61.08\"/>\n",
       "</g>\n",
       "<!-- 11 -->\n",
       "<g id=\"node12\" class=\"node\">\n",
       "<title>11</title>\n",
       "<polygon fill=\"#e58139\" stroke=\"black\" points=\"338.5,-53 277.5,-53 277.5,0 338.5,0 338.5,-53\"/>\n",
       "<text text-anchor=\"start\" x=\"304.5\" y=\"-37.8\" font-family=\"times\" font-size=\"14.00\">1</text>\n",
       "<text text-anchor=\"start\" x=\"285.5\" y=\"-22.8\" font-family=\"times\" font-size=\"14.00\">[1, 0, 0]</text>\n",
       "<text text-anchor=\"start\" x=\"288\" y=\"-7.8\" font-family=\"times\" font-size=\"14.00\">class_0</text>\n",
       "</g>\n",
       "<!-- 9&#45;&gt;11 -->\n",
       "<g id=\"edge11\" class=\"edge\">\n",
       "<title>9&#45;&gt;11</title>\n",
       "<path fill=\"none\" stroke=\"black\" d=\"M282.64,-88.95C286.15,-80.44 289.94,-71.26 293.5,-62.65\"/>\n",
       "<polygon fill=\"black\" stroke=\"black\" points=\"296.8,-63.82 297.38,-53.24 290.33,-61.15 296.8,-63.82\"/>\n",
       "</g>\n",
       "</g>\n",
       "</svg>\n"
      ],
      "text/plain": [
       "<graphviz.sources.Source at 0x7f40d23bc4c0>"
      ]
     },
     "execution_count": 3,
     "metadata": {},
     "output_type": "execute_result"
    }
   ],
   "source": [
    "graph"
   ]
  },
  {
   "cell_type": "markdown",
   "metadata": {
    "id": "0t9ceSCahdW7"
   },
   "source": []
  },
  {
   "cell_type": "markdown",
   "metadata": {
    "id": "59W0w4P-9a-5"
   },
   "source": [
    "# Modelling of the problem"
   ]
  },
  {
   "cell_type": "code",
   "execution_count": 4,
   "metadata": {
    "id": "SfzOSwvh-R0w"
   },
   "outputs": [],
   "source": [
    "import pickle\n",
    "from collections import defaultdict\n",
    "import sys\n",
    "from itertools import groupby\n",
    "import numpy as np\n",
    "import pandas as pd\n",
    "from collections import Counter\n",
    "import gc\n",
    "from io import StringIO\n",
    "import datetime\n",
    "\n",
    "dataset = pd.read_csv('./dataset_ready.csv')"
   ]
  },
  {
   "cell_type": "code",
   "execution_count": 5,
   "metadata": {
    "colab": {
     "base_uri": "https://localhost:8080/"
    },
    "id": "gWRYFrAP-sPN",
    "outputId": "f0b99ddc-46c6-4edb-c193-58010c31a995"
   },
   "outputs": [
    {
     "data": {
      "text/plain": [
       "{'(P)A2',\n",
       " '(P)A3',\n",
       " '(P)Aa2',\n",
       " '(P)Aa3',\n",
       " '(P)B1',\n",
       " '(P)B2',\n",
       " '(P)B3',\n",
       " '(P)Ba1',\n",
       " '(P)Ba2',\n",
       " '(P)Ba3',\n",
       " '(P)Baa1',\n",
       " '(P)Baa2',\n",
       " '(P)Baa3',\n",
       " '(P)C',\n",
       " '(P)Ca',\n",
       " '(P)Caa1',\n",
       " '(P)Caa2',\n",
       " '(P)Caa3',\n",
       " 'A',\n",
       " 'A (sf)',\n",
       " 'A+',\n",
       " 'A+prelim',\n",
       " 'A-',\n",
       " 'A- (sf)',\n",
       " 'A-1',\n",
       " 'A-1(HIGH)',\n",
       " 'A-1(LOW)',\n",
       " 'A-1(MID)',\n",
       " 'A-1+',\n",
       " 'A-1+prelim',\n",
       " 'A-1prelim',\n",
       " 'A-2',\n",
       " 'A-3',\n",
       " 'A-p',\n",
       " 'A-prelim',\n",
       " 'A1',\n",
       " 'A2',\n",
       " 'A2.ru',\n",
       " 'A3',\n",
       " 'A3.ru',\n",
       " 'AA',\n",
       " 'AA+',\n",
       " 'AA+prelim',\n",
       " 'AA-',\n",
       " 'AA-prelim',\n",
       " 'AA/A-1+',\n",
       " 'AAA',\n",
       " 'AAAm',\n",
       " 'AAAprelim',\n",
       " 'AAprelim',\n",
       " 'Aa1',\n",
       " 'Aa2',\n",
       " 'Aa3',\n",
       " 'Aaa',\n",
       " 'Ap',\n",
       " 'Aprelim',\n",
       " 'Aprelim (sf)',\n",
       " 'B',\n",
       " 'B+',\n",
       " 'B+prelim',\n",
       " 'B-',\n",
       " 'B-prelim',\n",
       " 'B1',\n",
       " 'B1-PD',\n",
       " 'B2',\n",
       " 'B2-PD',\n",
       " 'B3',\n",
       " 'B3-PD',\n",
       " 'BB',\n",
       " 'BB+',\n",
       " 'BB+prelim',\n",
       " 'BB-',\n",
       " 'BB-prelim',\n",
       " 'BBB',\n",
       " 'BBB+',\n",
       " 'BBB+(EXP)',\n",
       " 'BBB+p',\n",
       " 'BBB+prelim',\n",
       " 'BBB-',\n",
       " 'BBB- (sf)',\n",
       " 'BBB-(EXP)',\n",
       " 'BBB-prelim',\n",
       " 'BBB-prelim (sf)',\n",
       " 'BBBprelim',\n",
       " 'BBprelim',\n",
       " 'Ba1',\n",
       " 'Ba1-PD',\n",
       " 'Ba2',\n",
       " 'Ba2-PD',\n",
       " 'Ba3',\n",
       " 'Ba3-PD',\n",
       " 'Ba3.ru',\n",
       " 'Baa1',\n",
       " 'Baa2',\n",
       " 'Baa3',\n",
       " 'Baa3.ru',\n",
       " 'Bprelim',\n",
       " 'C',\n",
       " 'C-PD',\n",
       " 'CC',\n",
       " 'CC (sf)',\n",
       " 'CCC',\n",
       " 'CCC (sf)',\n",
       " 'CCC+',\n",
       " 'CCC+ (sf)',\n",
       " 'CCC+prelim',\n",
       " 'CCC-',\n",
       " 'CCC-prelim',\n",
       " 'CCCprelim',\n",
       " 'CCprelim',\n",
       " 'Ca',\n",
       " 'Ca-PD',\n",
       " 'Caa1',\n",
       " 'Caa1-PD',\n",
       " 'Caa2',\n",
       " 'Caa2-PD',\n",
       " 'Caa2.ru',\n",
       " 'Caa3',\n",
       " 'Caa3-PD',\n",
       " 'Cprelim',\n",
       " 'D',\n",
       " 'D-PD',\n",
       " 'Dprelim',\n",
       " 'F1',\n",
       " 'F1+',\n",
       " 'F2',\n",
       " 'F2(EXP)',\n",
       " 'F3',\n",
       " 'NP',\n",
       " 'NR',\n",
       " 'NRprelim',\n",
       " 'P-1',\n",
       " 'P-2',\n",
       " 'P-2prelim',\n",
       " 'P-3',\n",
       " 'P-3(High)',\n",
       " 'PIF',\n",
       " 'WD',\n",
       " 'WR',\n",
       " 'cnA-',\n",
       " 'cnB',\n",
       " 'cnBB',\n",
       " 'cnBB-',\n",
       " 'cnBBB+',\n",
       " 'zaA',\n",
       " 'zaA+',\n",
       " 'zaA-1',\n",
       " 'zaA-2',\n",
       " 'zaAA-'}"
      ]
     },
     "execution_count": 5,
     "metadata": {},
     "output_type": "execute_result"
    }
   ],
   "source": [
    "set(dataset['rating'])"
   ]
  },
  {
   "cell_type": "code",
   "execution_count": 6,
   "metadata": {
    "colab": {
     "base_uri": "https://localhost:8080/"
    },
    "id": "wGbFqs8x-__j",
    "outputId": "819efe1d-2d85-4515-8123-3ef8d747bc34"
   },
   "outputs": [
    {
     "data": {
      "text/plain": [
       "Instrument                                           28674\n",
       "Local Currency Preliminary LT                        28468\n",
       "Local Currency LT                                    12516\n",
       "Long Term Rating                                      9901\n",
       "Local Currency ST                                     5036\n",
       "Organization                                          1774\n",
       "Short Term Rating                                     1680\n",
       "Foreign Currency LT                                   1557\n",
       "Foreign Currency Preliminary LT                       1361\n",
       "Program                                                695\n",
       "S&P Published Underlying Rating                        589\n",
       "Foreign Currency ST                                    422\n",
       "Canada National Scale Commercial Paper                  85\n",
       "Local Currency Preliminary ST                           49\n",
       "Greater China Regional Scale LT                         26\n",
       "Sale                                                    24\n",
       "Foreign Currency Principal LT                           20\n",
       "Underlying Rating for Credit Program                    15\n",
       "South Africa National Scale LT                          12\n",
       "South Africa National Scale ST                          12\n",
       "Canada National Scale Preferred Share Preliminary       12\n",
       "Expected Short-Term Rating                              10\n",
       "Local Currency Principal LT                              8\n",
       "Canada National Scale Preferred Share                    6\n",
       "Name: rating_type, dtype: int64"
      ]
     },
     "execution_count": 6,
     "metadata": {},
     "output_type": "execute_result"
    }
   ],
   "source": [
    "dataset['rating_type'].value_counts()"
   ]
  },
  {
   "cell_type": "code",
   "execution_count": 7,
   "metadata": {
    "id": "Mv4ozBoNAmgk"
   },
   "outputs": [],
   "source": [
    "eu_quality_step = {\n",
    "    'Aaa': \"1\", # Moody's Investors Service - Long-term\n",
    "    'Aa1': \"1\",\n",
    "    'Aa2': \"1\",\n",
    "    'Aa3': \"1\",\n",
    "    'A1': \"2\",\n",
    "    'A2': \"2\",\n",
    "    'A3': \"2\",\n",
    "    'Baa1': \"3\",\n",
    "    'Baa2': \"3\",\n",
    "    'Baa3': \"3\",\n",
    "    'Ba1': \"4\",\n",
    "    'Ba2': \"4\",\n",
    "    'Ba3': \"4\",\n",
    "    'B1': \"5\",\n",
    "    'B2': \"5\",\n",
    "    'B3': \"5\",\n",
    "    'Caa1': \"6\",\n",
    "    'Caa2': \"6\",\n",
    "    'Caa3': \"6\",\n",
    "    'Ca': \"6\",\n",
    "    'C': \"6\",\n",
    "    'P-1': \"1\", # Moody's Investors Service - Short-term\n",
    "    'P-2': \"1\",\n",
    "    'P-3': \"1\",\n",
    "    'Not Prime': \"1\",\n",
    "    'AAA': \"1\", # Fitch Ratings - Long-term\n",
    "    'AA+': \"1\",\n",
    "    'AA': \"1\",\n",
    "    'AA-': \"1\",\n",
    "    'A+': \"2\",\n",
    "    'A': \"2\",\n",
    "    'A-': \"2\",\n",
    "    'BBB+': \"3\",\n",
    "    'BBB': \"3\",\n",
    "    'BBB-': \"3\",\n",
    "    'BB+': \"4\",\n",
    "    'BB': \"4\",\n",
    "    'BB-': \"4\",\n",
    "    'B+': \"5\",\n",
    "    'B': \"5\",\n",
    "    'B-': \"5\",\n",
    "    'CCC+': \"6\",\n",
    "    'CCC': \"6\",\n",
    "    'CCC-': \"6\",\n",
    "    'CC': \"6\",\n",
    "    'C': \"6\",\n",
    "    'RD': \"6\", \n",
    "    'D': \"6\",\n",
    "    'F1+': \"1\", # Fitch Ratings - Short-term\n",
    "    'F1': \"1\",\n",
    "    'F2': \"2\",\n",
    "    'F3': \"3\",\n",
    "    'B': \"4\",\n",
    "    'C': \"6\",\n",
    "    'D': \"6\",\n",
    "    'AAA': \"1\", # Standard & Poor's Ratings Services - Long-term\n",
    "    'AA+': \"1\",\n",
    "    'AA': \"1\",\n",
    "    'AA-': \"1\",\n",
    "    'A+/A1': \"2\",\n",
    "    'A+': \"2\",\n",
    "    'A': \"2\",\n",
    "    'A-': \"2\",\n",
    "    'BBB+': \"3\",\n",
    "    'BBB': \"3\",\n",
    "    'BBB-': \"3\",\n",
    "    'BB+': \"4\",\n",
    "    'BB': \"4\",\n",
    "    'BB-': \"4\",\n",
    "    'B+': \"5\",\n",
    "    'B': \"5\",\n",
    "    'B-': \"5\",\n",
    "    'CCC+': \"6\",\n",
    "    'CCC': \"6\",\n",
    "    'CCC-': \"6\",\n",
    "    'CC': \"6\",\n",
    "    'C': \"6\",\n",
    "    'RD': \"6\", \n",
    "    'SD': \"6\",\n",
    "    'D': \"6\",\n",
    "    'A-1+': \"1\", # Standard & Poor's Ratings Services - Short-term\n",
    "    'A-1': \"2\",\n",
    "    'A-2': \"3\",\n",
    "    'A-3': \"3\",\n",
    "    'B': \"4\",\n",
    "    'C': \"6\",\n",
    "    'D': \"6\"\n",
    "}"
   ]
  },
  {
   "cell_type": "code",
   "execution_count": 8,
   "metadata": {},
   "outputs": [],
   "source": [
    "i_s_mapping = {\n",
    "    '1': \"Investment\", # Standard & Poor's Ratings Services - Short-term\n",
    "    '2': \"Investment\",\n",
    "    '3': \"Investment\",\n",
    "    '4': \"Speculative\",\n",
    "    '5': \"Speculative\",\n",
    "    '6': \"Speculative\"\n",
    "}"
   ]
  },
  {
   "cell_type": "code",
   "execution_count": 9,
   "metadata": {
    "id": "3FM5p-1SGgZZ"
   },
   "outputs": [
    {
     "name": "stderr",
     "output_type": "stream",
     "text": [
      "/tmp/ipykernel_8402/617717245.py:7: FutureWarning: The default value of regex will change from True to False in a future version.\n",
      "  rating_map = rating_map.str.replace(sub, '')\n"
     ]
    }
   ],
   "source": [
    "rep = ['-PD', 'm','za','\\(P\\)', 'preli', 'PD', '\\(EXP\\)', ' \\(sf\\)', '.ru']\n",
    "rep.extend(['\\(HIGH\\)', '\\(LOW\\)', '\\(MID\\)', '\\(High\\)', 'p'])\n",
    "rep.extend(['cn', 'p', 'z'])\n",
    "rating_map = dataset[\"rating\"]\n",
    "\n",
    "for sub in rep:\n",
    "  rating_map = rating_map.str.replace(sub, '')\n",
    "\n",
    "dataset['rating_step'] = rating_map.map(eu_quality_step)\n",
    "dataset['investment_or_speculative'] = dataset['rating_step'].map(i_s_mapping)"
   ]
  },
  {
   "cell_type": "code",
   "execution_count": 10,
   "metadata": {
    "colab": {
     "base_uri": "https://localhost:8080/"
    },
    "id": "2rx8YlCgG3n-",
    "outputId": "b71263cb-b6b8-423f-fe6d-4316cf3ff446"
   },
   "outputs": [
    {
     "data": {
      "text/plain": [
       "3    27738\n",
       "4    18288\n",
       "2    11733\n",
       "5    10664\n",
       "6     5726\n",
       "1     3668\n",
       "Name: rating_step, dtype: int64"
      ]
     },
     "execution_count": 10,
     "metadata": {},
     "output_type": "execute_result"
    }
   ],
   "source": [
    "dataset['rating_step'].value_counts()"
   ]
  },
  {
   "cell_type": "code",
   "execution_count": 11,
   "metadata": {},
   "outputs": [
    {
     "data": {
      "text/plain": [
       "Investment     43139\n",
       "Speculative    34678\n",
       "Name: investment_or_speculative, dtype: int64"
      ]
     },
     "execution_count": 11,
     "metadata": {},
     "output_type": "execute_result"
    }
   ],
   "source": [
    "dataset['investment_or_speculative'].value_counts()"
   ]
  },
  {
   "cell_type": "code",
   "execution_count": 12,
   "metadata": {
    "colab": {
     "base_uri": "https://localhost:8080/"
    },
    "id": "xL_PD3d6M2Qn",
    "outputId": "c0489482-dc97-486c-ff8f-7360843def4d"
   },
   "outputs": [
    {
     "name": "stderr",
     "output_type": "stream",
     "text": [
      "/home/fuhr/.venvs/ia/lib/python3.8/site-packages/pandas/util/_decorators.py:311: SettingWithCopyWarning: \n",
      "A value is trying to be set on a copy of a slice from a DataFrame\n",
      "\n",
      "See the caveats in the documentation: https://pandas.pydata.org/pandas-docs/stable/user_guide/indexing.html#returning-a-view-versus-a-copy\n",
      "  return func(*args, **kwargs)\n"
     ]
    }
   ],
   "source": [
    "dataset.reset_index()\n",
    "dataset_clean = dataset.loc[dataset['rating_step'].notna()]\n",
    "dataset_clean.dropna(axis='index', thresh=50, inplace=True)\n",
    "dataset_clean.dropna(axis='columns', thresh=int(dataset_clean.shape[0]*.6), inplace=True)\n",
    "# dataset_clean = dataset_clean.loc[dataset_clean['rating_type']]\n",
    "drop_cols = ['company', 'rating', 'rating_type', 'Unnamed: 0', 'rating_agency', 'year', 'investment_or_speculative']\n",
    "drop_cols.append('rating_step')\n",
    "\n",
    "X = dataset_clean.drop(columns=drop_cols).copy()\n",
    "y = dataset_clean['rating_step'].copy()\n",
    "\n",
    "# X.dropna(axis='index', thresh=20, inplace=True)"
   ]
  },
  {
   "cell_type": "code",
   "execution_count": 13,
   "metadata": {},
   "outputs": [
    {
     "data": {
      "text/plain": [
       "(44021, 46)"
      ]
     },
     "execution_count": 13,
     "metadata": {},
     "output_type": "execute_result"
    }
   ],
   "source": [
    "dataset_clean.shape"
   ]
  },
  {
   "cell_type": "code",
   "execution_count": 14,
   "metadata": {
    "id": "qU3eDbSrL5M8"
   },
   "outputs": [],
   "source": [
    "X.fillna(0, inplace=True)"
   ]
  },
  {
   "cell_type": "code",
   "execution_count": 15,
   "metadata": {},
   "outputs": [
    {
     "data": {
      "text/plain": [
       "3    16068\n",
       "4    10636\n",
       "2     6363\n",
       "5     6141\n",
       "6     2994\n",
       "1     1819\n",
       "Name: rating_step, dtype: int64"
      ]
     },
     "execution_count": 15,
     "metadata": {},
     "output_type": "execute_result"
    }
   ],
   "source": [
    "y.value_counts()"
   ]
  },
  {
   "cell_type": "code",
   "execution_count": 16,
   "metadata": {},
   "outputs": [
    {
     "data": {
      "text/plain": [
       "0.36500761000431614"
      ]
     },
     "execution_count": 16,
     "metadata": {},
     "output_type": "execute_result"
    }
   ],
   "source": [
    "y.value_counts()[0]/len(y)"
   ]
  },
  {
   "cell_type": "code",
   "execution_count": 17,
   "metadata": {},
   "outputs": [
    {
     "data": {
      "text/html": [
       "<div>\n",
       "<style scoped>\n",
       "    .dataframe tbody tr th:only-of-type {\n",
       "        vertical-align: middle;\n",
       "    }\n",
       "\n",
       "    .dataframe tbody tr th {\n",
       "        vertical-align: top;\n",
       "    }\n",
       "\n",
       "    .dataframe thead th {\n",
       "        text-align: right;\n",
       "    }\n",
       "</style>\n",
       "<table border=\"1\" class=\"dataframe\">\n",
       "  <thead>\n",
       "    <tr style=\"text-align: right;\">\n",
       "      <th></th>\n",
       "      <th>CashAndCashEquivalentsAtCarryingValue</th>\n",
       "      <th>IncomeTaxExpenseBenefit</th>\n",
       "      <th>Assets</th>\n",
       "      <th>LiabilitiesAndStockholdersEquity</th>\n",
       "      <th>AccumulatedOtherComprehensiveIncomeLossNetOfTax</th>\n",
       "      <th>CashAndCashEquivalentsPeriodIncreaseDecrease</th>\n",
       "      <th>NetIncomeLoss</th>\n",
       "      <th>StockholdersEquity</th>\n",
       "      <th>ComprehensiveIncomeNetOfTax</th>\n",
       "      <th>RetainedEarningsAccumulatedDeficit</th>\n",
       "      <th>...</th>\n",
       "      <th>LiabilitiesCurrent</th>\n",
       "      <th>DeferredIncomeTaxExpenseBenefit</th>\n",
       "      <th>PaymentsToAcquirePropertyPlantAndEquipment</th>\n",
       "      <th>Liabilities</th>\n",
       "      <th>StockholdersEquityIncludingPortionAttributableToNoncontrollingInterest</th>\n",
       "      <th>OtherAssetsNoncurrent</th>\n",
       "      <th>OtherLiabilitiesNoncurrent</th>\n",
       "      <th>ProfitLoss</th>\n",
       "      <th>AccountsPayableCurrent</th>\n",
       "      <th>AccumulatedDepreciationDepletionAndAmortizationPropertyPlantAndEquipment</th>\n",
       "    </tr>\n",
       "  </thead>\n",
       "  <tbody>\n",
       "    <tr>\n",
       "      <th>count</th>\n",
       "      <td>4.402100e+04</td>\n",
       "      <td>4.402100e+04</td>\n",
       "      <td>4.402100e+04</td>\n",
       "      <td>4.402100e+04</td>\n",
       "      <td>4.402100e+04</td>\n",
       "      <td>4.402100e+04</td>\n",
       "      <td>4.402100e+04</td>\n",
       "      <td>4.402100e+04</td>\n",
       "      <td>4.402100e+04</td>\n",
       "      <td>4.402100e+04</td>\n",
       "      <td>...</td>\n",
       "      <td>4.402100e+04</td>\n",
       "      <td>4.402100e+04</td>\n",
       "      <td>4.402100e+04</td>\n",
       "      <td>4.402100e+04</td>\n",
       "      <td>4.402100e+04</td>\n",
       "      <td>4.402100e+04</td>\n",
       "      <td>4.402100e+04</td>\n",
       "      <td>4.402100e+04</td>\n",
       "      <td>4.402100e+04</td>\n",
       "      <td>4.402100e+04</td>\n",
       "    </tr>\n",
       "    <tr>\n",
       "      <th>mean</th>\n",
       "      <td>3.382247e+09</td>\n",
       "      <td>6.330374e+08</td>\n",
       "      <td>5.678808e+10</td>\n",
       "      <td>8.863828e+10</td>\n",
       "      <td>-7.789281e+08</td>\n",
       "      <td>-5.965086e+07</td>\n",
       "      <td>7.710335e+08</td>\n",
       "      <td>1.357813e+10</td>\n",
       "      <td>1.022642e+09</td>\n",
       "      <td>9.329059e+09</td>\n",
       "      <td>...</td>\n",
       "      <td>4.233550e+09</td>\n",
       "      <td>1.666334e+08</td>\n",
       "      <td>7.422785e+08</td>\n",
       "      <td>5.042509e+10</td>\n",
       "      <td>1.398538e+10</td>\n",
       "      <td>1.037545e+09</td>\n",
       "      <td>6.157037e+08</td>\n",
       "      <td>6.841896e+08</td>\n",
       "      <td>9.050500e+08</td>\n",
       "      <td>5.942362e+09</td>\n",
       "    </tr>\n",
       "    <tr>\n",
       "      <th>std</th>\n",
       "      <td>4.745474e+10</td>\n",
       "      <td>9.932743e+09</td>\n",
       "      <td>7.519324e+11</td>\n",
       "      <td>1.226302e+12</td>\n",
       "      <td>2.088962e+10</td>\n",
       "      <td>1.687154e+10</td>\n",
       "      <td>1.456375e+10</td>\n",
       "      <td>1.527490e+11</td>\n",
       "      <td>1.995403e+10</td>\n",
       "      <td>1.025633e+11</td>\n",
       "      <td>...</td>\n",
       "      <td>8.441900e+10</td>\n",
       "      <td>4.829767e+09</td>\n",
       "      <td>1.258682e+10</td>\n",
       "      <td>1.402831e+12</td>\n",
       "      <td>1.655857e+11</td>\n",
       "      <td>3.309853e+10</td>\n",
       "      <td>8.217313e+09</td>\n",
       "      <td>1.390628e+10</td>\n",
       "      <td>1.339082e+10</td>\n",
       "      <td>9.964050e+10</td>\n",
       "    </tr>\n",
       "    <tr>\n",
       "      <th>min</th>\n",
       "      <td>-3.714000e+09</td>\n",
       "      <td>-1.154100e+10</td>\n",
       "      <td>-2.235260e+11</td>\n",
       "      <td>-1.437140e+11</td>\n",
       "      <td>-1.646078e+12</td>\n",
       "      <td>-5.498200e+11</td>\n",
       "      <td>-4.566600e+11</td>\n",
       "      <td>-1.084780e+11</td>\n",
       "      <td>-4.945490e+11</td>\n",
       "      <td>-9.167100e+10</td>\n",
       "      <td>...</td>\n",
       "      <td>-4.373580e+10</td>\n",
       "      <td>-5.057300e+10</td>\n",
       "      <td>-2.366000e+09</td>\n",
       "      <td>-7.888100e+10</td>\n",
       "      <td>-1.084780e+11</td>\n",
       "      <td>-2.308311e+10</td>\n",
       "      <td>-6.235000e+09</td>\n",
       "      <td>-3.984250e+11</td>\n",
       "      <td>-6.286835e+09</td>\n",
       "      <td>-7.792000e+09</td>\n",
       "    </tr>\n",
       "    <tr>\n",
       "      <th>25%</th>\n",
       "      <td>1.000000e+07</td>\n",
       "      <td>0.000000e+00</td>\n",
       "      <td>1.937000e+09</td>\n",
       "      <td>1.889513e+09</td>\n",
       "      <td>-1.996830e+08</td>\n",
       "      <td>-4.026600e+07</td>\n",
       "      <td>0.000000e+00</td>\n",
       "      <td>1.387610e+08</td>\n",
       "      <td>0.000000e+00</td>\n",
       "      <td>0.000000e+00</td>\n",
       "      <td>...</td>\n",
       "      <td>0.000000e+00</td>\n",
       "      <td>-1.400000e+06</td>\n",
       "      <td>0.000000e+00</td>\n",
       "      <td>0.000000e+00</td>\n",
       "      <td>0.000000e+00</td>\n",
       "      <td>0.000000e+00</td>\n",
       "      <td>0.000000e+00</td>\n",
       "      <td>0.000000e+00</td>\n",
       "      <td>0.000000e+00</td>\n",
       "      <td>0.000000e+00</td>\n",
       "    </tr>\n",
       "    <tr>\n",
       "      <th>50%</th>\n",
       "      <td>1.442100e+08</td>\n",
       "      <td>2.844700e+07</td>\n",
       "      <td>6.272847e+09</td>\n",
       "      <td>6.187100e+09</td>\n",
       "      <td>-1.678000e+07</td>\n",
       "      <td>0.000000e+00</td>\n",
       "      <td>8.084200e+07</td>\n",
       "      <td>1.519800e+09</td>\n",
       "      <td>6.620000e+07</td>\n",
       "      <td>8.080000e+08</td>\n",
       "      <td>...</td>\n",
       "      <td>4.023580e+08</td>\n",
       "      <td>0.000000e+00</td>\n",
       "      <td>1.791300e+07</td>\n",
       "      <td>8.847270e+08</td>\n",
       "      <td>6.574810e+08</td>\n",
       "      <td>3.755100e+07</td>\n",
       "      <td>3.839300e+07</td>\n",
       "      <td>0.000000e+00</td>\n",
       "      <td>3.640000e+07</td>\n",
       "      <td>2.783860e+08</td>\n",
       "    </tr>\n",
       "    <tr>\n",
       "      <th>75%</th>\n",
       "      <td>7.080000e+08</td>\n",
       "      <td>1.484630e+08</td>\n",
       "      <td>1.859600e+10</td>\n",
       "      <td>1.905150e+10</td>\n",
       "      <td>6.000000e+03</td>\n",
       "      <td>3.905800e+07</td>\n",
       "      <td>3.994200e+08</td>\n",
       "      <td>5.397000e+09</td>\n",
       "      <td>3.930000e+08</td>\n",
       "      <td>4.004000e+09</td>\n",
       "      <td>...</td>\n",
       "      <td>1.782900e+09</td>\n",
       "      <td>1.372700e+07</td>\n",
       "      <td>1.460000e+08</td>\n",
       "      <td>6.019669e+09</td>\n",
       "      <td>4.733000e+09</td>\n",
       "      <td>2.470000e+08</td>\n",
       "      <td>2.980000e+08</td>\n",
       "      <td>2.499210e+08</td>\n",
       "      <td>3.529000e+08</td>\n",
       "      <td>1.837400e+09</td>\n",
       "    </tr>\n",
       "    <tr>\n",
       "      <th>max</th>\n",
       "      <td>2.160335e+12</td>\n",
       "      <td>4.253390e+11</td>\n",
       "      <td>4.396033e+13</td>\n",
       "      <td>4.396033e+13</td>\n",
       "      <td>2.041005e+12</td>\n",
       "      <td>8.449270e+11</td>\n",
       "      <td>8.030480e+11</td>\n",
       "      <td>7.930338e+12</td>\n",
       "      <td>1.726176e+12</td>\n",
       "      <td>5.758641e+12</td>\n",
       "      <td>...</td>\n",
       "      <td>4.783614e+12</td>\n",
       "      <td>3.074210e+11</td>\n",
       "      <td>5.359990e+11</td>\n",
       "      <td>1.819299e+14</td>\n",
       "      <td>8.189844e+12</td>\n",
       "      <td>2.184014e+12</td>\n",
       "      <td>1.454937e+12</td>\n",
       "      <td>8.302330e+11</td>\n",
       "      <td>9.424440e+11</td>\n",
       "      <td>4.885546e+12</td>\n",
       "    </tr>\n",
       "  </tbody>\n",
       "</table>\n",
       "<p>8 rows × 38 columns</p>\n",
       "</div>"
      ],
      "text/plain": [
       "       CashAndCashEquivalentsAtCarryingValue  IncomeTaxExpenseBenefit  \\\n",
       "count                           4.402100e+04             4.402100e+04   \n",
       "mean                            3.382247e+09             6.330374e+08   \n",
       "std                             4.745474e+10             9.932743e+09   \n",
       "min                            -3.714000e+09            -1.154100e+10   \n",
       "25%                             1.000000e+07             0.000000e+00   \n",
       "50%                             1.442100e+08             2.844700e+07   \n",
       "75%                             7.080000e+08             1.484630e+08   \n",
       "max                             2.160335e+12             4.253390e+11   \n",
       "\n",
       "             Assets  LiabilitiesAndStockholdersEquity  \\\n",
       "count  4.402100e+04                      4.402100e+04   \n",
       "mean   5.678808e+10                      8.863828e+10   \n",
       "std    7.519324e+11                      1.226302e+12   \n",
       "min   -2.235260e+11                     -1.437140e+11   \n",
       "25%    1.937000e+09                      1.889513e+09   \n",
       "50%    6.272847e+09                      6.187100e+09   \n",
       "75%    1.859600e+10                      1.905150e+10   \n",
       "max    4.396033e+13                      4.396033e+13   \n",
       "\n",
       "       AccumulatedOtherComprehensiveIncomeLossNetOfTax  \\\n",
       "count                                     4.402100e+04   \n",
       "mean                                     -7.789281e+08   \n",
       "std                                       2.088962e+10   \n",
       "min                                      -1.646078e+12   \n",
       "25%                                      -1.996830e+08   \n",
       "50%                                      -1.678000e+07   \n",
       "75%                                       6.000000e+03   \n",
       "max                                       2.041005e+12   \n",
       "\n",
       "       CashAndCashEquivalentsPeriodIncreaseDecrease  NetIncomeLoss  \\\n",
       "count                                  4.402100e+04   4.402100e+04   \n",
       "mean                                  -5.965086e+07   7.710335e+08   \n",
       "std                                    1.687154e+10   1.456375e+10   \n",
       "min                                   -5.498200e+11  -4.566600e+11   \n",
       "25%                                   -4.026600e+07   0.000000e+00   \n",
       "50%                                    0.000000e+00   8.084200e+07   \n",
       "75%                                    3.905800e+07   3.994200e+08   \n",
       "max                                    8.449270e+11   8.030480e+11   \n",
       "\n",
       "       StockholdersEquity  ComprehensiveIncomeNetOfTax  \\\n",
       "count        4.402100e+04                 4.402100e+04   \n",
       "mean         1.357813e+10                 1.022642e+09   \n",
       "std          1.527490e+11                 1.995403e+10   \n",
       "min         -1.084780e+11                -4.945490e+11   \n",
       "25%          1.387610e+08                 0.000000e+00   \n",
       "50%          1.519800e+09                 6.620000e+07   \n",
       "75%          5.397000e+09                 3.930000e+08   \n",
       "max          7.930338e+12                 1.726176e+12   \n",
       "\n",
       "       RetainedEarningsAccumulatedDeficit  ...  LiabilitiesCurrent  \\\n",
       "count                        4.402100e+04  ...        4.402100e+04   \n",
       "mean                         9.329059e+09  ...        4.233550e+09   \n",
       "std                          1.025633e+11  ...        8.441900e+10   \n",
       "min                         -9.167100e+10  ...       -4.373580e+10   \n",
       "25%                          0.000000e+00  ...        0.000000e+00   \n",
       "50%                          8.080000e+08  ...        4.023580e+08   \n",
       "75%                          4.004000e+09  ...        1.782900e+09   \n",
       "max                          5.758641e+12  ...        4.783614e+12   \n",
       "\n",
       "       DeferredIncomeTaxExpenseBenefit  \\\n",
       "count                     4.402100e+04   \n",
       "mean                      1.666334e+08   \n",
       "std                       4.829767e+09   \n",
       "min                      -5.057300e+10   \n",
       "25%                      -1.400000e+06   \n",
       "50%                       0.000000e+00   \n",
       "75%                       1.372700e+07   \n",
       "max                       3.074210e+11   \n",
       "\n",
       "       PaymentsToAcquirePropertyPlantAndEquipment   Liabilities  \\\n",
       "count                                4.402100e+04  4.402100e+04   \n",
       "mean                                 7.422785e+08  5.042509e+10   \n",
       "std                                  1.258682e+10  1.402831e+12   \n",
       "min                                 -2.366000e+09 -7.888100e+10   \n",
       "25%                                  0.000000e+00  0.000000e+00   \n",
       "50%                                  1.791300e+07  8.847270e+08   \n",
       "75%                                  1.460000e+08  6.019669e+09   \n",
       "max                                  5.359990e+11  1.819299e+14   \n",
       "\n",
       "       StockholdersEquityIncludingPortionAttributableToNoncontrollingInterest  \\\n",
       "count                                       4.402100e+04                        \n",
       "mean                                        1.398538e+10                        \n",
       "std                                         1.655857e+11                        \n",
       "min                                        -1.084780e+11                        \n",
       "25%                                         0.000000e+00                        \n",
       "50%                                         6.574810e+08                        \n",
       "75%                                         4.733000e+09                        \n",
       "max                                         8.189844e+12                        \n",
       "\n",
       "       OtherAssetsNoncurrent  OtherLiabilitiesNoncurrent    ProfitLoss  \\\n",
       "count           4.402100e+04                4.402100e+04  4.402100e+04   \n",
       "mean            1.037545e+09                6.157037e+08  6.841896e+08   \n",
       "std             3.309853e+10                8.217313e+09  1.390628e+10   \n",
       "min            -2.308311e+10               -6.235000e+09 -3.984250e+11   \n",
       "25%             0.000000e+00                0.000000e+00  0.000000e+00   \n",
       "50%             3.755100e+07                3.839300e+07  0.000000e+00   \n",
       "75%             2.470000e+08                2.980000e+08  2.499210e+08   \n",
       "max             2.184014e+12                1.454937e+12  8.302330e+11   \n",
       "\n",
       "       AccountsPayableCurrent  \\\n",
       "count            4.402100e+04   \n",
       "mean             9.050500e+08   \n",
       "std              1.339082e+10   \n",
       "min             -6.286835e+09   \n",
       "25%              0.000000e+00   \n",
       "50%              3.640000e+07   \n",
       "75%              3.529000e+08   \n",
       "max              9.424440e+11   \n",
       "\n",
       "       AccumulatedDepreciationDepletionAndAmortizationPropertyPlantAndEquipment  \n",
       "count                                       4.402100e+04                         \n",
       "mean                                        5.942362e+09                         \n",
       "std                                         9.964050e+10                         \n",
       "min                                        -7.792000e+09                         \n",
       "25%                                         0.000000e+00                         \n",
       "50%                                         2.783860e+08                         \n",
       "75%                                         1.837400e+09                         \n",
       "max                                         4.885546e+12                         \n",
       "\n",
       "[8 rows x 38 columns]"
      ]
     },
     "execution_count": 17,
     "metadata": {},
     "output_type": "execute_result"
    }
   ],
   "source": [
    "X.describe()"
   ]
  },
  {
   "cell_type": "code",
   "execution_count": 18,
   "metadata": {},
   "outputs": [
    {
     "name": "stdout",
     "output_type": "stream",
     "text": [
      "\\begin{itemize}\n",
      "CashAndCashEquivalentsAtCarryingValue\n",
      "IncomeTaxExpenseBenefit\n",
      "Assets\n",
      "LiabilitiesAndStockholdersEquity\n",
      "AccumulatedOtherComprehensiveIncomeLossNetOfTax\n",
      "CashAndCashEquivalentsPeriodIncreaseDecrease\n",
      "NetIncomeLoss\n",
      "StockholdersEquity\n",
      "ComprehensiveIncomeNetOfTax\n",
      "RetainedEarningsAccumulatedDeficit\n",
      "WeightedAverageNumberOfDilutedSharesOutstanding\n",
      "WeightedAverageNumberOfSharesOutstandingBasic\n",
      "EarningsPerShareBasic\n",
      "EarningsPerShareDiluted\n",
      "PropertyPlantAndEquipmentNet\n",
      "InterestExpense\n",
      "NetCashProvidedByUsedInInvestingActivities\n",
      "OperatingIncomeLoss\n",
      "CommonStockValue\n",
      "NetCashProvidedByUsedInFinancingActivities\n",
      "NetCashProvidedByUsedInOperatingActivities\n",
      "Goodwill\n",
      "ShareBasedCompensation\n",
      "CommonStockSharesAuthorized\n",
      "CommonStockParOrStatedValuePerShare\n",
      "CommonStockSharesIssued\n",
      "OtherComprehensiveIncomeLossNetOfTax\n",
      "AssetsCurrent\n",
      "LiabilitiesCurrent\n",
      "DeferredIncomeTaxExpenseBenefit\n",
      "PaymentsToAcquirePropertyPlantAndEquipment\n",
      "Liabilities\n",
      "StockholdersEquityIncludingPortionAttributableToNoncontrollingInterest\n",
      "OtherAssetsNoncurrent\n",
      "OtherLiabilitiesNoncurrent\n",
      "ProfitLoss\n",
      "AccountsPayableCurrent\n",
      "AccumulatedDepreciationDepletionAndAmortizationPropertyPlantAndEquipment\n",
      "\\end{itemize}\n"
     ]
    }
   ],
   "source": [
    "print('\\\\begin{itemize}')\n",
    "for x in X.columns:\n",
    "#     print(f'\\item {x}')\n",
    "    print(x)\n",
    "print('\\\\end{itemize}')"
   ]
  },
  {
   "cell_type": "code",
   "execution_count": 19,
   "metadata": {
    "colab": {
     "base_uri": "https://localhost:8080/"
    },
    "id": "EGlwPIObMEY7",
    "outputId": "d944f9bc-e292-412d-c545-b40af500b8ad"
   },
   "outputs": [
    {
     "name": "stderr",
     "output_type": "stream",
     "text": [
      "/home/fuhr/.venvs/ia/lib/python3.8/site-packages/sklearn/utils/deprecation.py:87: FutureWarning: Function plot_confusion_matrix is deprecated; Function `plot_confusion_matrix` is deprecated in 1.0 and will be removed in 1.2. Use one of the class methods: ConfusionMatrixDisplay.from_predictions or ConfusionMatrixDisplay.from_estimator.\n",
      "  warnings.warn(msg, category=FutureWarning)\n"
     ]
    },
    {
     "name": "stdout",
     "output_type": "stream",
     "text": [
      "{'test_acc': 0.6299689558567426, 'train_acc': 0.6809242552086714, 'test_f1': 0.6280337365009188}\n"
     ]
    },
    {
     "data": {
      "image/png": "[encoded data removed]",
      "text/plain": [
       "<Figure size 432x288 with 2 Axes>"
      ]
     },
     "metadata": {
      "needs_background": "light"
     },
     "output_type": "display_data"
    }
   ],
   "source": [
    "from sklearn.model_selection import train_test_split\n",
    "from sklearn.metrics import plot_confusion_matrix\n",
    "\n",
    "kwa = {}\n",
    "\n",
    "kwa['random_state'] = 43\n",
    "kwa['test_size'] = 0.3\n",
    "\n",
    "X_train, X_test, y_train, y_test = train_test_split(X, y, **kwa)\n",
    "tree = DecisionTreeClassifier(max_depth=10)\n",
    "\n",
    "tree.fit(X_train, y_train)\n",
    "plot_confusion_matrix(tree, X_test, y_test)\n",
    "print(test_clf(tree, X_train, X_test, y_train, y_test))"
   ]
  },
  {
   "cell_type": "code",
   "execution_count": 30,
   "metadata": {},
   "outputs": [
    {
     "name": "stderr",
     "output_type": "stream",
     "text": [
      "/home/fuhr/.venvs/ia/lib/python3.8/site-packages/xgboost/sklearn.py:1224: UserWarning: The use of label encoder in XGBClassifier is deprecated and will be removed in a future release. To remove this warning, do the following: 1) Pass option use_label_encoder=False when constructing XGBClassifier object; and 2) Encode your labels (y) as integers starting with 0, i.e. 0, 1, 2, ..., [num_class - 1].\n",
      "  warnings.warn(label_encoder_deprecation_msg, UserWarning)\n"
     ]
    },
    {
     "name": "stdout",
     "output_type": "stream",
     "text": [
      "[20:58:37] WARNING: ../src/learner.cc:1115: Starting in XGBoost 1.3.0, the default evaluation metric used with the objective 'multi:softprob' was changed from 'merror' to 'mlogloss'. Explicitly set eval_metric if you'd like to restore the old behavior.\n"
     ]
    },
    {
     "data": {
      "text/plain": [
       "{'test_acc': 0.6890285454683123,\n",
       " 'train_acc': 0.8060297267475822,\n",
       " 'test_f1': 0.6870010833603615}"
      ]
     },
     "execution_count": 30,
     "metadata": {},
     "output_type": "execute_result"
    }
   ],
   "source": [
    "from xgboost import XGBClassifier\n",
    "\n",
    "xgb = XGBClassifier()\n",
    "xgb.fit(X_train, y_train)\n",
    "test_clf(xgb, X_train, X_test, y_train, y_test)"
   ]
  },
  {
   "cell_type": "code",
   "execution_count": 40,
   "metadata": {},
   "outputs": [
    {
     "data": {
      "text/plain": [
       "{'test_acc': 0.6632846217914742,\n",
       " 'train_acc': 0.8162523528266372,\n",
       " 'test_f1': 0.6617790804151963}"
      ]
     },
     "execution_count": 40,
     "metadata": {},
     "output_type": "execute_result"
    }
   ],
   "source": [
    "from sklearn.ensemble import RandomForestClassifier\n",
    "\n",
    "rfc = RandomForestClassifier()\n",
    "rfc.fit(X_train, y_train)\n",
    "test_clf(rfc, X_train, X_test, y_train, y_test)"
   ]
  },
  {
   "cell_type": "code",
   "execution_count": 28,
   "metadata": {
    "colab": {
     "base_uri": "https://localhost:8080/",
     "height": 350
    },
    "id": "TG8SUCA4NpvM",
    "outputId": "22c09163-1bf8-460f-8f27-770868102776"
   },
   "outputs": [
    {
     "name": "stderr",
     "output_type": "stream",
     "text": [
      "/home/fuhr/.venvs/ia/lib/python3.8/site-packages/sklearn/utils/deprecation.py:87: FutureWarning: Function plot_confusion_matrix is deprecated; Function `plot_confusion_matrix` is deprecated in 1.0 and will be removed in 1.2. Use one of the class methods: ConfusionMatrixDisplay.from_predictions or ConfusionMatrixDisplay.from_estimator.\n",
      "  warnings.warn(msg, category=FutureWarning)\n"
     ]
    },
    {
     "data": {
      "text/plain": [
       "<sklearn.metrics._plot.confusion_matrix.ConfusionMatrixDisplay at 0x7f4108bf4250>"
      ]
     },
     "execution_count": 28,
     "metadata": {},
     "output_type": "execute_result"
    },
    {
     "data": {
      "image/png": "[encoded data removed]",
      "text/plain": [
       "<Figure size 432x288 with 2 Axes>"
      ]
     },
     "metadata": {
      "needs_background": "light"
     },
     "output_type": "display_data"
    }
   ],
   "source": [
    "from sklearn.metrics import plot_confusion_matrix\n",
    "\n",
    "plot_confusion_matrix(xgb, X_test, y_test)"
   ]
  },
  {
   "cell_type": "code",
   "execution_count": 41,
   "metadata": {
    "id": "8Z4VMiOaQtyj"
   },
   "outputs": [],
   "source": [
    "# Seleção de variáveis:\n",
    "from sklearn.preprocessing import RobustScaler, StandardScaler\n",
    "\n",
    "# Scoring:\n",
    "from sklearn.model_selection import RandomizedSearchCV\n",
    "from sklearn.model_selection import cross_validate\n",
    "from sklearn.metrics import accuracy_score, f1_score, confusion_matrix, recall_score\n",
    "from sklearn.metrics import plot_confusion_matrix\n",
    "\n",
    "# IO libs:\n",
    "import pickle\n",
    "from pprint import pprint\n",
    "import matplotlib.pyplot as plt\n",
    "\n",
    "_SCORING = ['precision_micro']\n",
    "_CV_K_FOLDS = 2\n",
    "_N_OPTIMIZATION_ITERS = 20\n",
    "r_seed = 42\n",
    "\n",
    "class SolutionTester():\n",
    "    def __init__(self, clfs, X, y, name):\n",
    "        self.clfs = clfs\n",
    "        self.name = name\n",
    "        self.X = X\n",
    "        self.y = y\n",
    "        self.history = {}\n",
    "        self.approaches = []\n",
    "        self.SORT_BY = 'test_acc'\n",
    "        self.scalers = {}\n",
    "\n",
    "    def __test_clf(self, clf, X_test, X_train):\n",
    "        y_test_pred = clf.predict(X_test)\n",
    "        y_train_pred = clf.predict(X_train)\n",
    "        score = {}\n",
    "\n",
    "        score['test_acc'] = accuracy_score(self.y_test, y_test_pred)\n",
    "        score['test_recall'] = recall_score(self.y_test, y_test_pred, average='weighted')\n",
    "        score['test_f1'] = f1_score(self.y_test, y_test_pred, average='weighted')\n",
    "\n",
    "        score['train_acc'] = accuracy_score(self.y_train, y_train_pred)\n",
    "        score['train_recall'] = recall_score(self.y_train, y_train_pred, average='weighted')\n",
    "        score['train_f1'] = f1_score(self.y_train, y_train_pred, average='weighted')\n",
    "\n",
    "        return score\n",
    "\n",
    "    def __gen_approaches(self):\n",
    "        if len(self.approaches) > 0:\n",
    "            return\n",
    "        \n",
    "        std_scaler = StandardScaler()\n",
    "        rob_scaler = RobustScaler()\n",
    "\n",
    "        # Dividindo os dados entre treino e teste\n",
    "        kwa = {}\n",
    "\n",
    "        kwa['random_state'] = r_seed\n",
    "        kwa['test_size'] = 0.30 # 30% para o teste e o resto para treino.\n",
    "\n",
    "        X_train, X_test, _y_train, _y_test = train_test_split(X, y, **kwa)\n",
    "        self.y_train, self.y_test = np.ravel(_y_train), np.ravel(_y_test)\n",
    "\n",
    "        # O fit do scaler é feito apenas com os dados de treino.\n",
    "        # Se o fit for feito com todos os dados teremos data leakage.\n",
    "        X_train_scaled = std_scaler.fit_transform(X_train)\n",
    "        X_test_scaled = std_scaler.transform(X_test)\n",
    "\n",
    "        X_train_rob = rob_scaler.fit_transform(X_train)\n",
    "        X_test_rob = rob_scaler.transform(X_test)\n",
    "\n",
    "        self.scalers['Normalização Std'] = std_scaler\n",
    "        self.scalers['Normalização Robusta'] = rob_scaler\n",
    "\n",
    "        self.approaches.append([X_train, X_test, 'Originais'])\n",
    "        self.approaches.append([X_train_scaled, X_test_scaled, 'Normalização Std'])\n",
    "        self.approaches.append([X_train_rob, X_test_rob, 'Normalização Rob'])\n",
    "\n",
    "    def save_progress(self):\n",
    "        if self.name == 'fin_rating_bin':\n",
    "            pickle.dump(self, open('./tcc/models/binary/model_trained.pkl', 'wb'))\n",
    "        else:\n",
    "            pickle.dump(self, open('./tcc/models/multiple/model_trained.pkl', 'wb'))\n",
    "\n",
    "    @staticmethod\n",
    "    def load_progress(name):\n",
    "        if name == 'fin_rating_bin':\n",
    "            return pickle.load(open('./tcc/models/binary/model_trained.pkl', 'rb'))\n",
    "        else:\n",
    "            return pickle.load(open('./tcc/models/multiple/model_trained.pkl', 'rb'))\n",
    "        \n",
    "    def run(self):\n",
    "        self.__gen_approaches()\n",
    "\n",
    "        for _X_train, _X_test, a_name in self.approaches:\n",
    "            for clf, grid_params, clf_id in self.clfs:\n",
    "                if (clf_id, a_name) in self.history:\n",
    "                    continue\n",
    "\n",
    "                hist, kwa = {}, {}\n",
    "\n",
    "                kwa['estimator'] = clf()\n",
    "                kwa['param_distributions'] = grid_params\n",
    "                kwa['cv'] = _CV_K_FOLDS\n",
    "                kwa['n_jobs'] = _CV_K_FOLDS\n",
    "                kwa['n_iter'] = _N_OPTIMIZATION_ITERS\n",
    "                kwa['verbose'] = 1\n",
    "\n",
    "                print(clf, a_name)\n",
    "                model_grid = RandomizedSearchCV(**kwa)\n",
    "                model_grid.fit(_X_train, self.y_train)\n",
    "                clf = model_grid.best_estimator_\n",
    "\n",
    "                hist['name'] = (clf_id, a_name)\n",
    "                hist['score'] = self.__test_clf(clf, _X_test, _X_train)\n",
    "                hist['clf'] = clf\n",
    "                hist['params'] = model_grid.best_params_\n",
    "                hist['X_train'] = _X_train\n",
    "                hist['X_test'] = _X_test\n",
    "\n",
    "                self.history[(clf_id, a_name)] = hist\n",
    "                \n",
    "                self.save_progress()\n",
    "\n",
    "    def get_top_clfs(self, reverse=False):\n",
    "        sort_key = lambda x: x['score'][self.SORT_BY]\n",
    "\n",
    "        return sorted(self.history.values(), key=sort_key, reverse=reverse)\n",
    "\n",
    "    def print_n_best_clfs(self, n):\n",
    "        for clf in self.get_top_clfs()[-n:]:\n",
    "            print(clf['name'])\n",
    "            print(clf['score'])\n",
    "            plot_confusion_matrix(clf['clf'], clf['X_test'], self.y_test)\n",
    "            plt.show()\n",
    "\n",
    "    def best_feat_imp_clf(self):\n",
    "        for hist in self.get_top_clfs(reverse=True):\n",
    "            if hasattr(hist['clf'], 'feature_importances_'):\n",
    "                return hist['name']\n",
    "\n",
    "    def get_imp_feats(self):\n",
    "        f = []\n",
    "        hist = self.history[self.best_feat_imp_clf()]\n",
    "\n",
    "        for i, imp in enumerate(hist['clf'].feature_importances_):\n",
    "            if imp != 0:\n",
    "                f.append((imp, self.X.columns[i]))\n",
    "        \n",
    "        return sorted(f, key=lambda x: x[0])\n",
    "\n",
    "    def print_importance_list(self):\n",
    "        for imp in self.get_imp_feats():\n",
    "            print(f'{imp[1]}: {imp[0]*100:.2f}%')\n",
    "\n",
    "    def plot_imp_features(self):\n",
    "        f = self.get_imp_feats()\n",
    "        hist = self.history[self.best_feat_imp_clf()]\n",
    "\n",
    "        plt.title(f'Importância das Características na modelagem {self.name}.')\n",
    "        plt.barh(range(len(f)), [i[0] for i in f], color='b', align='center')\n",
    "        plt.yticks(range(len(f)), [i[1] for i in f])\n",
    "        plt.xlabel('Importância da característica')\n",
    "        plt.suptitle(f'Acertividade {hist[\"score\"][\"test_acc\"]*100}%')\n",
    "        plt.show()\n"
   ]
  },
  {
   "cell_type": "code",
   "execution_count": 42,
   "metadata": {
    "id": "57bjZMpRQydk"
   },
   "outputs": [],
   "source": [
    "import numpy as np\n",
    "\n",
    "# Modelagem:\n",
    "from sklearn.tree import DecisionTreeClassifier, plot_tree\n",
    "from sklearn.ensemble import RandomForestClassifier\n",
    "from xgboost import XGBClassifier\n",
    "\n",
    "clfs = []\n",
    "grid_params_dt = {\n",
    "    'criterion': ['gini', 'entropy'],\n",
    "    'max_features': ['auto', 'sqrt', 'log2', None],\n",
    "    'max_depth': [3, 5, 8, 10, 15, 20, None],\n",
    "    'min_samples_split': [5, 10, 15, 20, 30, 0.01, 0.02, 0.03, 0.04, 0.05, 0.06, 0.07, 0.08, 0.09, 0.1],\n",
    "    'min_samples_leaf': [3, 4, 6, 8, 10, 15, 20, 25, 30, 0.01, 0.02, 0.03, 0.04, 0.05],\n",
    "    'splitter': ['best', 'random'],\n",
    "    'max_leaf_nodes': [5, 10, 15, 20, 25, 30, 40, 60, None]\n",
    "}\n",
    "clfs.append((DecisionTreeClassifier, grid_params_dt, 'Árvore de decisão'))\n",
    "\n",
    "grid_params_rf = {\n",
    "    'n_estimators': [100, 200, 300, 400, 500, 600, 700, 800, 900, 1000],\n",
    "    'bootstrap': [True, False],\n",
    "    'warm_start': [True, False],\n",
    "    'criterion': ['gini', 'entropy'],\n",
    "    'max_depth': [3, 5, 8, 10, 15, 20, 25, 30, None],\n",
    "    'min_samples_leaf': [3, 4, 6, 8, 10, 15, 20, 25, 30, 0.01, 0.02, 0.03, 0.04, 0.05],\n",
    "    'max_leaf_nodes': [5, 10, 15, 20, 25, 30, 40, None],\n",
    "    'min_samples_split': [5, 10, 15, 20, 30, 0.01, 0.02, 0.03, 0.04, 0.05, 0.06, 0.07, 0.08, 0.09, 0.1],\n",
    "    'max_features': ['auto', 'sqrt', 'log2', None]\n",
    "}\n",
    "clfs.append((RandomForestClassifier, grid_params_rf, 'Floresta Randômica'))\n",
    "\n",
    "grid_params_xgb = {\n",
    "    'min_child_weight': [1, 5, 10],\n",
    "    'gamma': [0.5, 1, 1.5, 2, 5],\n",
    "    'subsample': [0.6, 0.8, 1.0],\n",
    "    'colsample_bytree': [0.6, 0.8, 1.0],\n",
    "    'max_depth': [3, 4, 5],\n",
    "    'n_estimators': [100, 200, 300, 600]\n",
    "}\n",
    "clfs.append((XGBClassifier, grid_params_xgb, 'Gradient Boosting'))"
   ]
  },
  {
   "cell_type": "code",
   "execution_count": 43,
   "metadata": {
    "colab": {
     "base_uri": "https://localhost:8080/"
    },
    "id": "hdghISl9Q5jc",
    "outputId": "0faa5def-2e3b-4458-d7bd-5184d72a72af"
   },
   "outputs": [
    {
     "name": "stdout",
     "output_type": "stream",
     "text": [
      "<class 'sklearn.tree._classes.DecisionTreeClassifier'> Originais\n",
      "Fitting 2 folds for each of 20 candidates, totalling 40 fits\n",
      "<class 'sklearn.ensemble._forest.RandomForestClassifier'> Originais\n",
      "Fitting 2 folds for each of 20 candidates, totalling 40 fits\n",
      "<class 'xgboost.sklearn.XGBClassifier'> Originais\n",
      "Fitting 2 folds for each of 20 candidates, totalling 40 fits\n"
     ]
    },
    {
     "name": "stderr",
     "output_type": "stream",
     "text": [
      "/home/fuhr/.venvs/ia/lib/python3.8/site-packages/xgboost/sklearn.py:1224: UserWarning: The use of label encoder in XGBClassifier is deprecated and will be removed in a future release. To remove this warning, do the following: 1) Pass option use_label_encoder=False when constructing XGBClassifier object; and 2) Encode your labels (y) as integers starting with 0, i.e. 0, 1, 2, ..., [num_class - 1].\n",
      "  warnings.warn(label_encoder_deprecation_msg, UserWarning)\n",
      "/home/fuhr/.venvs/ia/lib/python3.8/site-packages/xgboost/sklearn.py:1224: UserWarning: The use of label encoder in XGBClassifier is deprecated and will be removed in a future release. To remove this warning, do the following: 1) Pass option use_label_encoder=False when constructing XGBClassifier object; and 2) Encode your labels (y) as integers starting with 0, i.e. 0, 1, 2, ..., [num_class - 1].\n",
      "  warnings.warn(label_encoder_deprecation_msg, UserWarning)\n",
      "/home/fuhr/.venvs/ia/lib/python3.8/site-packages/xgboost/sklearn.py:1224: UserWarning: The use of label encoder in XGBClassifier is deprecated and will be removed in a future release. To remove this warning, do the following: 1) Pass option use_label_encoder=False when constructing XGBClassifier object; and 2) Encode your labels (y) as integers starting with 0, i.e. 0, 1, 2, ..., [num_class - 1].\n",
      "  warnings.warn(label_encoder_deprecation_msg, UserWarning)\n",
      "/home/fuhr/.venvs/ia/lib/python3.8/site-packages/xgboost/sklearn.py:1224: UserWarning: The use of label encoder in XGBClassifier is deprecated and will be removed in a future release. To remove this warning, do the following: 1) Pass option use_label_encoder=False when constructing XGBClassifier object; and 2) Encode your labels (y) as integers starting with 0, i.e. 0, 1, 2, ..., [num_class - 1].\n",
      "  warnings.warn(label_encoder_deprecation_msg, UserWarning)\n",
      "/home/fuhr/.venvs/ia/lib/python3.8/site-packages/xgboost/sklearn.py:1224: UserWarning: The use of label encoder in XGBClassifier is deprecated and will be removed in a future release. To remove this warning, do the following: 1) Pass option use_label_encoder=False when constructing XGBClassifier object; and 2) Encode your labels (y) as integers starting with 0, i.e. 0, 1, 2, ..., [num_class - 1].\n",
      "  warnings.warn(label_encoder_deprecation_msg, UserWarning)\n",
      "/home/fuhr/.venvs/ia/lib/python3.8/site-packages/xgboost/sklearn.py:1224: UserWarning: The use of label encoder in XGBClassifier is deprecated and will be removed in a future release. To remove this warning, do the following: 1) Pass option use_label_encoder=False when constructing XGBClassifier object; and 2) Encode your labels (y) as integers starting with 0, i.e. 0, 1, 2, ..., [num_class - 1].\n",
      "  warnings.warn(label_encoder_deprecation_msg, UserWarning)\n",
      "/home/fuhr/.venvs/ia/lib/python3.8/site-packages/xgboost/sklearn.py:1224: UserWarning: The use of label encoder in XGBClassifier is deprecated and will be removed in a future release. To remove this warning, do the following: 1) Pass option use_label_encoder=False when constructing XGBClassifier object; and 2) Encode your labels (y) as integers starting with 0, i.e. 0, 1, 2, ..., [num_class - 1].\n",
      "  warnings.warn(label_encoder_deprecation_msg, UserWarning)\n",
      "/home/fuhr/.venvs/ia/lib/python3.8/site-packages/xgboost/sklearn.py:1224: UserWarning: The use of label encoder in XGBClassifier is deprecated and will be removed in a future release. To remove this warning, do the following: 1) Pass option use_label_encoder=False when constructing XGBClassifier object; and 2) Encode your labels (y) as integers starting with 0, i.e. 0, 1, 2, ..., [num_class - 1].\n",
      "  warnings.warn(label_encoder_deprecation_msg, UserWarning)\n",
      "/home/fuhr/.venvs/ia/lib/python3.8/site-packages/xgboost/sklearn.py:1224: UserWarning: The use of label encoder in XGBClassifier is deprecated and will be removed in a future release. To remove this warning, do the following: 1) Pass option use_label_encoder=False when constructing XGBClassifier object; and 2) Encode your labels (y) as integers starting with 0, i.e. 0, 1, 2, ..., [num_class - 1].\n",
      "  warnings.warn(label_encoder_deprecation_msg, UserWarning)\n",
      "/home/fuhr/.venvs/ia/lib/python3.8/site-packages/xgboost/sklearn.py:1224: UserWarning: The use of label encoder in XGBClassifier is deprecated and will be removed in a future release. To remove this warning, do the following: 1) Pass option use_label_encoder=False when constructing XGBClassifier object; and 2) Encode your labels (y) as integers starting with 0, i.e. 0, 1, 2, ..., [num_class - 1].\n",
      "  warnings.warn(label_encoder_deprecation_msg, UserWarning)\n",
      "/home/fuhr/.venvs/ia/lib/python3.8/site-packages/xgboost/sklearn.py:1224: UserWarning: The use of label encoder in XGBClassifier is deprecated and will be removed in a future release. To remove this warning, do the following: 1) Pass option use_label_encoder=False when constructing XGBClassifier object; and 2) Encode your labels (y) as integers starting with 0, i.e. 0, 1, 2, ..., [num_class - 1].\n",
      "  warnings.warn(label_encoder_deprecation_msg, UserWarning)\n",
      "/home/fuhr/.venvs/ia/lib/python3.8/site-packages/xgboost/sklearn.py:1224: UserWarning: The use of label encoder in XGBClassifier is deprecated and will be removed in a future release. To remove this warning, do the following: 1) Pass option use_label_encoder=False when constructing XGBClassifier object; and 2) Encode your labels (y) as integers starting with 0, i.e. 0, 1, 2, ..., [num_class - 1].\n",
      "  warnings.warn(label_encoder_deprecation_msg, UserWarning)\n",
      "/home/fuhr/.venvs/ia/lib/python3.8/site-packages/xgboost/sklearn.py:1224: UserWarning: The use of label encoder in XGBClassifier is deprecated and will be removed in a future release. To remove this warning, do the following: 1) Pass option use_label_encoder=False when constructing XGBClassifier object; and 2) Encode your labels (y) as integers starting with 0, i.e. 0, 1, 2, ..., [num_class - 1].\n",
      "  warnings.warn(label_encoder_deprecation_msg, UserWarning)\n",
      "/home/fuhr/.venvs/ia/lib/python3.8/site-packages/xgboost/sklearn.py:1224: UserWarning: The use of label encoder in XGBClassifier is deprecated and will be removed in a future release. To remove this warning, do the following: 1) Pass option use_label_encoder=False when constructing XGBClassifier object; and 2) Encode your labels (y) as integers starting with 0, i.e. 0, 1, 2, ..., [num_class - 1].\n",
      "  warnings.warn(label_encoder_deprecation_msg, UserWarning)\n",
      "/home/fuhr/.venvs/ia/lib/python3.8/site-packages/xgboost/sklearn.py:1224: UserWarning: The use of label encoder in XGBClassifier is deprecated and will be removed in a future release. To remove this warning, do the following: 1) Pass option use_label_encoder=False when constructing XGBClassifier object; and 2) Encode your labels (y) as integers starting with 0, i.e. 0, 1, 2, ..., [num_class - 1].\n",
      "  warnings.warn(label_encoder_deprecation_msg, UserWarning)\n",
      "/home/fuhr/.venvs/ia/lib/python3.8/site-packages/xgboost/sklearn.py:1224: UserWarning: The use of label encoder in XGBClassifier is deprecated and will be removed in a future release. To remove this warning, do the following: 1) Pass option use_label_encoder=False when constructing XGBClassifier object; and 2) Encode your labels (y) as integers starting with 0, i.e. 0, 1, 2, ..., [num_class - 1].\n",
      "  warnings.warn(label_encoder_deprecation_msg, UserWarning)\n",
      "/home/fuhr/.venvs/ia/lib/python3.8/site-packages/xgboost/sklearn.py:1224: UserWarning: The use of label encoder in XGBClassifier is deprecated and will be removed in a future release. To remove this warning, do the following: 1) Pass option use_label_encoder=False when constructing XGBClassifier object; and 2) Encode your labels (y) as integers starting with 0, i.e. 0, 1, 2, ..., [num_class - 1].\n",
      "  warnings.warn(label_encoder_deprecation_msg, UserWarning)\n",
      "/home/fuhr/.venvs/ia/lib/python3.8/site-packages/xgboost/sklearn.py:1224: UserWarning: The use of label encoder in XGBClassifier is deprecated and will be removed in a future release. To remove this warning, do the following: 1) Pass option use_label_encoder=False when constructing XGBClassifier object; and 2) Encode your labels (y) as integers starting with 0, i.e. 0, 1, 2, ..., [num_class - 1].\n",
      "  warnings.warn(label_encoder_deprecation_msg, UserWarning)\n",
      "/home/fuhr/.venvs/ia/lib/python3.8/site-packages/xgboost/sklearn.py:1224: UserWarning: The use of label encoder in XGBClassifier is deprecated and will be removed in a future release. To remove this warning, do the following: 1) Pass option use_label_encoder=False when constructing XGBClassifier object; and 2) Encode your labels (y) as integers starting with 0, i.e. 0, 1, 2, ..., [num_class - 1].\n",
      "  warnings.warn(label_encoder_deprecation_msg, UserWarning)\n",
      "/home/fuhr/.venvs/ia/lib/python3.8/site-packages/xgboost/sklearn.py:1224: UserWarning: The use of label encoder in XGBClassifier is deprecated and will be removed in a future release. To remove this warning, do the following: 1) Pass option use_label_encoder=False when constructing XGBClassifier object; and 2) Encode your labels (y) as integers starting with 0, i.e. 0, 1, 2, ..., [num_class - 1].\n",
      "  warnings.warn(label_encoder_deprecation_msg, UserWarning)\n",
      "/home/fuhr/.venvs/ia/lib/python3.8/site-packages/xgboost/sklearn.py:1224: UserWarning: The use of label encoder in XGBClassifier is deprecated and will be removed in a future release. To remove this warning, do the following: 1) Pass option use_label_encoder=False when constructing XGBClassifier object; and 2) Encode your labels (y) as integers starting with 0, i.e. 0, 1, 2, ..., [num_class - 1].\n",
      "  warnings.warn(label_encoder_deprecation_msg, UserWarning)\n",
      "/home/fuhr/.venvs/ia/lib/python3.8/site-packages/xgboost/sklearn.py:1224: UserWarning: The use of label encoder in XGBClassifier is deprecated and will be removed in a future release. To remove this warning, do the following: 1) Pass option use_label_encoder=False when constructing XGBClassifier object; and 2) Encode your labels (y) as integers starting with 0, i.e. 0, 1, 2, ..., [num_class - 1].\n",
      "  warnings.warn(label_encoder_deprecation_msg, UserWarning)\n",
      "/home/fuhr/.venvs/ia/lib/python3.8/site-packages/xgboost/sklearn.py:1224: UserWarning: The use of label encoder in XGBClassifier is deprecated and will be removed in a future release. To remove this warning, do the following: 1) Pass option use_label_encoder=False when constructing XGBClassifier object; and 2) Encode your labels (y) as integers starting with 0, i.e. 0, 1, 2, ..., [num_class - 1].\n",
      "  warnings.warn(label_encoder_deprecation_msg, UserWarning)\n",
      "/home/fuhr/.venvs/ia/lib/python3.8/site-packages/xgboost/sklearn.py:1224: UserWarning: The use of label encoder in XGBClassifier is deprecated and will be removed in a future release. To remove this warning, do the following: 1) Pass option use_label_encoder=False when constructing XGBClassifier object; and 2) Encode your labels (y) as integers starting with 0, i.e. 0, 1, 2, ..., [num_class - 1].\n",
      "  warnings.warn(label_encoder_deprecation_msg, UserWarning)\n",
      "/home/fuhr/.venvs/ia/lib/python3.8/site-packages/xgboost/sklearn.py:1224: UserWarning: The use of label encoder in XGBClassifier is deprecated and will be removed in a future release. To remove this warning, do the following: 1) Pass option use_label_encoder=False when constructing XGBClassifier object; and 2) Encode your labels (y) as integers starting with 0, i.e. 0, 1, 2, ..., [num_class - 1].\n",
      "  warnings.warn(label_encoder_deprecation_msg, UserWarning)\n",
      "/home/fuhr/.venvs/ia/lib/python3.8/site-packages/xgboost/sklearn.py:1224: UserWarning: The use of label encoder in XGBClassifier is deprecated and will be removed in a future release. To remove this warning, do the following: 1) Pass option use_label_encoder=False when constructing XGBClassifier object; and 2) Encode your labels (y) as integers starting with 0, i.e. 0, 1, 2, ..., [num_class - 1].\n",
      "  warnings.warn(label_encoder_deprecation_msg, UserWarning)\n",
      "/home/fuhr/.venvs/ia/lib/python3.8/site-packages/xgboost/sklearn.py:1224: UserWarning: The use of label encoder in XGBClassifier is deprecated and will be removed in a future release. To remove this warning, do the following: 1) Pass option use_label_encoder=False when constructing XGBClassifier object; and 2) Encode your labels (y) as integers starting with 0, i.e. 0, 1, 2, ..., [num_class - 1].\n",
      "  warnings.warn(label_encoder_deprecation_msg, UserWarning)\n",
      "/home/fuhr/.venvs/ia/lib/python3.8/site-packages/xgboost/sklearn.py:1224: UserWarning: The use of label encoder in XGBClassifier is deprecated and will be removed in a future release. To remove this warning, do the following: 1) Pass option use_label_encoder=False when constructing XGBClassifier object; and 2) Encode your labels (y) as integers starting with 0, i.e. 0, 1, 2, ..., [num_class - 1].\n",
      "  warnings.warn(label_encoder_deprecation_msg, UserWarning)\n",
      "/home/fuhr/.venvs/ia/lib/python3.8/site-packages/xgboost/sklearn.py:1224: UserWarning: The use of label encoder in XGBClassifier is deprecated and will be removed in a future release. To remove this warning, do the following: 1) Pass option use_label_encoder=False when constructing XGBClassifier object; and 2) Encode your labels (y) as integers starting with 0, i.e. 0, 1, 2, ..., [num_class - 1].\n",
      "  warnings.warn(label_encoder_deprecation_msg, UserWarning)\n",
      "/home/fuhr/.venvs/ia/lib/python3.8/site-packages/xgboost/sklearn.py:1224: UserWarning: The use of label encoder in XGBClassifier is deprecated and will be removed in a future release. To remove this warning, do the following: 1) Pass option use_label_encoder=False when constructing XGBClassifier object; and 2) Encode your labels (y) as integers starting with 0, i.e. 0, 1, 2, ..., [num_class - 1].\n",
      "  warnings.warn(label_encoder_deprecation_msg, UserWarning)\n",
      "/home/fuhr/.venvs/ia/lib/python3.8/site-packages/xgboost/sklearn.py:1224: UserWarning: The use of label encoder in XGBClassifier is deprecated and will be removed in a future release. To remove this warning, do the following: 1) Pass option use_label_encoder=False when constructing XGBClassifier object; and 2) Encode your labels (y) as integers starting with 0, i.e. 0, 1, 2, ..., [num_class - 1].\n",
      "  warnings.warn(label_encoder_deprecation_msg, UserWarning)\n",
      "/home/fuhr/.venvs/ia/lib/python3.8/site-packages/xgboost/sklearn.py:1224: UserWarning: The use of label encoder in XGBClassifier is deprecated and will be removed in a future release. To remove this warning, do the following: 1) Pass option use_label_encoder=False when constructing XGBClassifier object; and 2) Encode your labels (y) as integers starting with 0, i.e. 0, 1, 2, ..., [num_class - 1].\n",
      "  warnings.warn(label_encoder_deprecation_msg, UserWarning)\n",
      "/home/fuhr/.venvs/ia/lib/python3.8/site-packages/xgboost/sklearn.py:1224: UserWarning: The use of label encoder in XGBClassifier is deprecated and will be removed in a future release. To remove this warning, do the following: 1) Pass option use_label_encoder=False when constructing XGBClassifier object; and 2) Encode your labels (y) as integers starting with 0, i.e. 0, 1, 2, ..., [num_class - 1].\n",
      "  warnings.warn(label_encoder_deprecation_msg, UserWarning)\n",
      "/home/fuhr/.venvs/ia/lib/python3.8/site-packages/xgboost/sklearn.py:1224: UserWarning: The use of label encoder in XGBClassifier is deprecated and will be removed in a future release. To remove this warning, do the following: 1) Pass option use_label_encoder=False when constructing XGBClassifier object; and 2) Encode your labels (y) as integers starting with 0, i.e. 0, 1, 2, ..., [num_class - 1].\n",
      "  warnings.warn(label_encoder_deprecation_msg, UserWarning)\n",
      "/home/fuhr/.venvs/ia/lib/python3.8/site-packages/xgboost/sklearn.py:1224: UserWarning: The use of label encoder in XGBClassifier is deprecated and will be removed in a future release. To remove this warning, do the following: 1) Pass option use_label_encoder=False when constructing XGBClassifier object; and 2) Encode your labels (y) as integers starting with 0, i.e. 0, 1, 2, ..., [num_class - 1].\n",
      "  warnings.warn(label_encoder_deprecation_msg, UserWarning)\n"
     ]
    },
    {
     "name": "stdout",
     "output_type": "stream",
     "text": [
      "[23:26:15] WARNING: ../src/learner.cc:1115: Starting in XGBoost 1.3.0, the default evaluation metric used with the objective 'multi:softprob' was changed from 'merror' to 'mlogloss'. Explicitly set eval_metric if you'd like to restore the old behavior.\n",
      "<class 'sklearn.tree._classes.DecisionTreeClassifier'> Normalização Std\n",
      "Fitting 2 folds for each of 20 candidates, totalling 40 fits\n",
      "<class 'sklearn.ensemble._forest.RandomForestClassifier'> Normalização Std\n",
      "Fitting 2 folds for each of 20 candidates, totalling 40 fits\n",
      "<class 'xgboost.sklearn.XGBClassifier'> Normalização Std\n",
      "Fitting 2 folds for each of 20 candidates, totalling 40 fits\n",
      "[21:21:18] WARNING: ../src/learner.cc:1115: Starting in XGBoost 1.3.0, the default evaluation metric used with the objective 'multi:softprob' was changed from 'merror' to 'mlogloss'. Explicitly set eval_metric if you'd like to restore the old behavior.\n",
      "[21:28:13] WARNING: ../src/learner.cc:1115: Starting in XGBoost 1.3.0, the default evaluation metric used with the objective 'multi:softprob' was changed from 'merror' to 'mlogloss'. Explicitly set eval_metric if you'd like to restore the old behavior.\n",
      "[21:39:29] WARNING: ../src/learner.cc:1115: Starting in XGBoost 1.3.0, the default evaluation metric used with the objective 'multi:softprob' was changed from 'merror' to 'mlogloss'. Explicitly set eval_metric if you'd like to restore the old behavior.\n",
      "[21:41:29] WARNING: ../src/learner.cc:1115: Starting in XGBoost 1.3.0, the default evaluation metric used with the objective 'multi:softprob' was changed from 'merror' to 'mlogloss'. Explicitly set eval_metric if you'd like to restore the old behavior.\n",
      "[21:44:51] WARNING: ../src/learner.cc:1115: Starting in XGBoost 1.3.0, the default evaluation metric used with the objective 'multi:softprob' was changed from 'merror' to 'mlogloss'. Explicitly set eval_metric if you'd like to restore the old behavior.\n",
      "[21:59:33] WARNING: ../src/learner.cc:1115: Starting in XGBoost 1.3.0, the default evaluation metric used with the objective 'multi:softprob' was changed from 'merror' to 'mlogloss'. Explicitly set eval_metric if you'd like to restore the old behavior.\n",
      "[22:01:56] WARNING: ../src/learner.cc:1115: Starting in XGBoost 1.3.0, the default evaluation metric used with the objective 'multi:softprob' was changed from 'merror' to 'mlogloss'. Explicitly set eval_metric if you'd like to restore the old behavior.\n",
      "[22:05:17] WARNING: ../src/learner.cc:1115: Starting in XGBoost 1.3.0, the default evaluation metric used with the objective 'multi:softprob' was changed from 'merror' to 'mlogloss'. Explicitly set eval_metric if you'd like to restore the old behavior.\n",
      "[22:10:19] WARNING: ../src/learner.cc:1115: Starting in XGBoost 1.3.0, the default evaluation metric used with the objective 'multi:softprob' was changed from 'merror' to 'mlogloss'. Explicitly set eval_metric if you'd like to restore the old behavior.\n",
      "[22:14:02] WARNING: ../src/learner.cc:1115: Starting in XGBoost 1.3.0, the default evaluation metric used with the objective 'multi:softprob' was changed from 'merror' to 'mlogloss'. Explicitly set eval_metric if you'd like to restore the old behavior.\n",
      "[22:18:56] WARNING: ../src/learner.cc:1115: Starting in XGBoost 1.3.0, the default evaluation metric used with the objective 'multi:softprob' was changed from 'merror' to 'mlogloss'. Explicitly set eval_metric if you'd like to restore the old behavior.\n",
      "[22:34:40] WARNING: ../src/learner.cc:1115: Starting in XGBoost 1.3.0, the default evaluation metric used with the objective 'multi:softprob' was changed from 'merror' to 'mlogloss'. Explicitly set eval_metric if you'd like to restore the old behavior.\n",
      "[22:44:01] WARNING: ../src/learner.cc:1115: Starting in XGBoost 1.3.0, the default evaluation metric used with the objective 'multi:softprob' was changed from 'merror' to 'mlogloss'. Explicitly set eval_metric if you'd like to restore the old behavior.\n",
      "[22:51:18] WARNING: ../src/learner.cc:1115: Starting in XGBoost 1.3.0, the default evaluation metric used with the objective 'multi:softprob' was changed from 'merror' to 'mlogloss'. Explicitly set eval_metric if you'd like to restore the old behavior.\n",
      "[22:54:01] WARNING: ../src/learner.cc:1115: Starting in XGBoost 1.3.0, the default evaluation metric used with the objective 'multi:softprob' was changed from 'merror' to 'mlogloss'. Explicitly set eval_metric if you'd like to restore the old behavior.\n",
      "[22:58:10] WARNING: ../src/learner.cc:1115: Starting in XGBoost 1.3.0, the default evaluation metric used with the objective 'multi:softprob' was changed from 'merror' to 'mlogloss'. Explicitly set eval_metric if you'd like to restore the old behavior.\n",
      "[23:01:56] WARNING: ../src/learner.cc:1115: Starting in XGBoost 1.3.0, the default evaluation metric used with the objective 'multi:softprob' was changed from 'merror' to 'mlogloss'. Explicitly set eval_metric if you'd like to restore the old behavior.\n",
      "[23:04:27] WARNING: ../src/learner.cc:1115: Starting in XGBoost 1.3.0, the default evaluation metric used with the objective 'multi:softprob' was changed from 'merror' to 'mlogloss'. Explicitly set eval_metric if you'd like to restore the old behavior.\n",
      "[23:16:22] WARNING: ../src/learner.cc:1115: Starting in XGBoost 1.3.0, the default evaluation metric used with the objective 'multi:softprob' was changed from 'merror' to 'mlogloss'. Explicitly set eval_metric if you'd like to restore the old behavior.\n",
      "[23:18:26] WARNING: ../src/learner.cc:1115: Starting in XGBoost 1.3.0, the default evaluation metric used with the objective 'multi:softprob' was changed from 'merror' to 'mlogloss'. Explicitly set eval_metric if you'd like to restore the old behavior.\n",
      "[23:42:50] WARNING: ../src/learner.cc:1115: Starting in XGBoost 1.3.0, the default evaluation metric used with the objective 'multi:softprob' was changed from 'merror' to 'mlogloss'. Explicitly set eval_metric if you'd like to restore the old behavior.\n",
      "[23:47:01] WARNING: ../src/learner.cc:1115: Starting in XGBoost 1.3.0, the default evaluation metric used with the objective 'multi:softprob' was changed from 'merror' to 'mlogloss'. Explicitly set eval_metric if you'd like to restore the old behavior.\n",
      "[23:49:42] WARNING: ../src/learner.cc:1115: Starting in XGBoost 1.3.0, the default evaluation metric used with the objective 'multi:softprob' was changed from 'merror' to 'mlogloss'. Explicitly set eval_metric if you'd like to restore the old behavior.\n",
      "[23:53:44] WARNING: ../src/learner.cc:1115: Starting in XGBoost 1.3.0, the default evaluation metric used with the objective 'multi:softprob' was changed from 'merror' to 'mlogloss'. Explicitly set eval_metric if you'd like to restore the old behavior.\n",
      "[23:59:06] WARNING: ../src/learner.cc:1115: Starting in XGBoost 1.3.0, the default evaluation metric used with the objective 'multi:softprob' was changed from 'merror' to 'mlogloss'. Explicitly set eval_metric if you'd like to restore the old behavior.\n",
      "[00:02:55] WARNING: ../src/learner.cc:1115: Starting in XGBoost 1.3.0, the default evaluation metric used with the objective 'multi:softprob' was changed from 'merror' to 'mlogloss'. Explicitly set eval_metric if you'd like to restore the old behavior.\n",
      "[00:05:32] WARNING: ../src/learner.cc:1115: Starting in XGBoost 1.3.0, the default evaluation metric used with the objective 'multi:softprob' was changed from 'merror' to 'mlogloss'. Explicitly set eval_metric if you'd like to restore the old behavior.\n",
      "[00:10:14] WARNING: ../src/learner.cc:1115: Starting in XGBoost 1.3.0, the default evaluation metric used with the objective 'multi:softprob' was changed from 'merror' to 'mlogloss'. Explicitly set eval_metric if you'd like to restore the old behavior.\n",
      "[00:13:13] WARNING: ../src/learner.cc:1115: Starting in XGBoost 1.3.0, the default evaluation metric used with the objective 'multi:softprob' was changed from 'merror' to 'mlogloss'. Explicitly set eval_metric if you'd like to restore the old behavior.\n",
      "[00:27:26] WARNING: ../src/learner.cc:1115: Starting in XGBoost 1.3.0, the default evaluation metric used with the objective 'multi:softprob' was changed from 'merror' to 'mlogloss'. Explicitly set eval_metric if you'd like to restore the old behavior.\n",
      "[00:29:27] WARNING: ../src/learner.cc:1115: Starting in XGBoost 1.3.0, the default evaluation metric used with the objective 'multi:softprob' was changed from 'merror' to 'mlogloss'. Explicitly set eval_metric if you'd like to restore the old behavior.\n",
      "[00:34:14] WARNING: ../src/learner.cc:1115: Starting in XGBoost 1.3.0, the default evaluation metric used with the objective 'multi:softprob' was changed from 'merror' to 'mlogloss'. Explicitly set eval_metric if you'd like to restore the old behavior.\n",
      "[21:21:17] WARNING: ../src/learner.cc:1115: Starting in XGBoost 1.3.0, the default evaluation metric used with the objective 'multi:softprob' was changed from 'merror' to 'mlogloss'. Explicitly set eval_metric if you'd like to restore the old behavior.\n",
      "[21:27:59] WARNING: ../src/learner.cc:1115: Starting in XGBoost 1.3.0, the default evaluation metric used with the objective 'multi:softprob' was changed from 'merror' to 'mlogloss'. Explicitly set eval_metric if you'd like to restore the old behavior.\n",
      "[21:39:31] WARNING: ../src/learner.cc:1115: Starting in XGBoost 1.3.0, the default evaluation metric used with the objective 'multi:softprob' was changed from 'merror' to 'mlogloss'. Explicitly set eval_metric if you'd like to restore the old behavior.\n",
      "[21:41:29] WARNING: ../src/learner.cc:1115: Starting in XGBoost 1.3.0, the default evaluation metric used with the objective 'multi:softprob' was changed from 'merror' to 'mlogloss'. Explicitly set eval_metric if you'd like to restore the old behavior.\n",
      "[21:44:49] WARNING: ../src/learner.cc:1115: Starting in XGBoost 1.3.0, the default evaluation metric used with the objective 'multi:softprob' was changed from 'merror' to 'mlogloss'. Explicitly set eval_metric if you'd like to restore the old behavior.\n",
      "[21:59:12] WARNING: ../src/learner.cc:1115: Starting in XGBoost 1.3.0, the default evaluation metric used with the objective 'multi:softprob' was changed from 'merror' to 'mlogloss'. Explicitly set eval_metric if you'd like to restore the old behavior.\n",
      "[22:01:38] WARNING: ../src/learner.cc:1115: Starting in XGBoost 1.3.0, the default evaluation metric used with the objective 'multi:softprob' was changed from 'merror' to 'mlogloss'. Explicitly set eval_metric if you'd like to restore the old behavior.\n",
      "[22:05:08] WARNING: ../src/learner.cc:1115: Starting in XGBoost 1.3.0, the default evaluation metric used with the objective 'multi:softprob' was changed from 'merror' to 'mlogloss'. Explicitly set eval_metric if you'd like to restore the old behavior.\n",
      "[22:09:59] WARNING: ../src/learner.cc:1115: Starting in XGBoost 1.3.0, the default evaluation metric used with the objective 'multi:softprob' was changed from 'merror' to 'mlogloss'. Explicitly set eval_metric if you'd like to restore the old behavior.\n",
      "[22:13:40] WARNING: ../src/learner.cc:1115: Starting in XGBoost 1.3.0, the default evaluation metric used with the objective 'multi:softprob' was changed from 'merror' to 'mlogloss'. Explicitly set eval_metric if you'd like to restore the old behavior.\n",
      "[22:18:20] WARNING: ../src/learner.cc:1115: Starting in XGBoost 1.3.0, the default evaluation metric used with the objective 'multi:softprob' was changed from 'merror' to 'mlogloss'. Explicitly set eval_metric if you'd like to restore the old behavior.\n",
      "[22:33:53] WARNING: ../src/learner.cc:1115: Starting in XGBoost 1.3.0, the default evaluation metric used with the objective 'multi:softprob' was changed from 'merror' to 'mlogloss'. Explicitly set eval_metric if you'd like to restore the old behavior.\n",
      "[22:43:06] WARNING: ../src/learner.cc:1115: Starting in XGBoost 1.3.0, the default evaluation metric used with the objective 'multi:softprob' was changed from 'merror' to 'mlogloss'. Explicitly set eval_metric if you'd like to restore the old behavior.\n",
      "[22:50:08] WARNING: ../src/learner.cc:1115: Starting in XGBoost 1.3.0, the default evaluation metric used with the objective 'multi:softprob' was changed from 'merror' to 'mlogloss'. Explicitly set eval_metric if you'd like to restore the old behavior.\n",
      "[22:53:06] WARNING: ../src/learner.cc:1115: Starting in XGBoost 1.3.0, the default evaluation metric used with the objective 'multi:softprob' was changed from 'merror' to 'mlogloss'. Explicitly set eval_metric if you'd like to restore the old behavior.\n",
      "[22:57:15] WARNING: ../src/learner.cc:1115: Starting in XGBoost 1.3.0, the default evaluation metric used with the objective 'multi:softprob' was changed from 'merror' to 'mlogloss'. Explicitly set eval_metric if you'd like to restore the old behavior.\n",
      "[23:01:13] WARNING: ../src/learner.cc:1115: Starting in XGBoost 1.3.0, the default evaluation metric used with the objective 'multi:softprob' was changed from 'merror' to 'mlogloss'. Explicitly set eval_metric if you'd like to restore the old behavior.\n",
      "[23:03:55] WARNING: ../src/learner.cc:1115: Starting in XGBoost 1.3.0, the default evaluation metric used with the objective 'multi:softprob' was changed from 'merror' to 'mlogloss'. Explicitly set eval_metric if you'd like to restore the old behavior.\n",
      "[23:15:43] WARNING: ../src/learner.cc:1115: Starting in XGBoost 1.3.0, the default evaluation metric used with the objective 'multi:softprob' was changed from 'merror' to 'mlogloss'. Explicitly set eval_metric if you'd like to restore the old behavior.\n",
      "[23:17:52] WARNING: ../src/learner.cc:1115: Starting in XGBoost 1.3.0, the default evaluation metric used with the objective 'multi:softprob' was changed from 'merror' to 'mlogloss'. Explicitly set eval_metric if you'd like to restore the old behavior.\n",
      "[23:42:50] WARNING: ../src/learner.cc:1115: Starting in XGBoost 1.3.0, the default evaluation metric used with the objective 'multi:softprob' was changed from 'merror' to 'mlogloss'. Explicitly set eval_metric if you'd like to restore the old behavior.\n",
      "[23:47:00] WARNING: ../src/learner.cc:1115: Starting in XGBoost 1.3.0, the default evaluation metric used with the objective 'multi:softprob' was changed from 'merror' to 'mlogloss'. Explicitly set eval_metric if you'd like to restore the old behavior.\n",
      "[23:49:44] WARNING: ../src/learner.cc:1115: Starting in XGBoost 1.3.0, the default evaluation metric used with the objective 'multi:softprob' was changed from 'merror' to 'mlogloss'. Explicitly set eval_metric if you'd like to restore the old behavior.\n",
      "[23:53:49] WARNING: ../src/learner.cc:1115: Starting in XGBoost 1.3.0, the default evaluation metric used with the objective 'multi:softprob' was changed from 'merror' to 'mlogloss'. Explicitly set eval_metric if you'd like to restore the old behavior.\n",
      "[23:59:19] WARNING: ../src/learner.cc:1115: Starting in XGBoost 1.3.0, the default evaluation metric used with the objective 'multi:softprob' was changed from 'merror' to 'mlogloss'. Explicitly set eval_metric if you'd like to restore the old behavior.\n",
      "[00:03:04] WARNING: ../src/learner.cc:1115: Starting in XGBoost 1.3.0, the default evaluation metric used with the objective 'multi:softprob' was changed from 'merror' to 'mlogloss'. Explicitly set eval_metric if you'd like to restore the old behavior.\n",
      "[00:05:42] WARNING: ../src/learner.cc:1115: Starting in XGBoost 1.3.0, the default evaluation metric used with the objective 'multi:softprob' was changed from 'merror' to 'mlogloss'. Explicitly set eval_metric if you'd like to restore the old behavior.\n",
      "[00:10:25] WARNING: ../src/learner.cc:1115: Starting in XGBoost 1.3.0, the default evaluation metric used with the objective 'multi:softprob' was changed from 'merror' to 'mlogloss'. Explicitly set eval_metric if you'd like to restore the old behavior.\n",
      "[00:13:21] WARNING: ../src/learner.cc:1115: Starting in XGBoost 1.3.0, the default evaluation metric used with the objective 'multi:softprob' was changed from 'merror' to 'mlogloss'. Explicitly set eval_metric if you'd like to restore the old behavior.\n",
      "[00:27:43] WARNING: ../src/learner.cc:1115: Starting in XGBoost 1.3.0, the default evaluation metric used with the objective 'multi:softprob' was changed from 'merror' to 'mlogloss'. Explicitly set eval_metric if you'd like to restore the old behavior.\n",
      "[00:29:55] WARNING: ../src/learner.cc:1115: Starting in XGBoost 1.3.0, the default evaluation metric used with the objective 'multi:softprob' was changed from 'merror' to 'mlogloss'. Explicitly set eval_metric if you'd like to restore the old behavior.\n",
      "[00:34:34] WARNING: ../src/learner.cc:1115: Starting in XGBoost 1.3.0, the default evaluation metric used with the objective 'multi:softprob' was changed from 'merror' to 'mlogloss'. Explicitly set eval_metric if you'd like to restore the old behavior.\n"
     ]
    },
    {
     "name": "stderr",
     "output_type": "stream",
     "text": [
      "/home/fuhr/.venvs/ia/lib/python3.8/site-packages/xgboost/sklearn.py:1224: UserWarning: The use of label encoder in XGBClassifier is deprecated and will be removed in a future release. To remove this warning, do the following: 1) Pass option use_label_encoder=False when constructing XGBClassifier object; and 2) Encode your labels (y) as integers starting with 0, i.e. 0, 1, 2, ..., [num_class - 1].\n",
      "  warnings.warn(label_encoder_deprecation_msg, UserWarning)\n",
      "/home/fuhr/.venvs/ia/lib/python3.8/site-packages/xgboost/sklearn.py:1224: UserWarning: The use of label encoder in XGBClassifier is deprecated and will be removed in a future release. To remove this warning, do the following: 1) Pass option use_label_encoder=False when constructing XGBClassifier object; and 2) Encode your labels (y) as integers starting with 0, i.e. 0, 1, 2, ..., [num_class - 1].\n",
      "  warnings.warn(label_encoder_deprecation_msg, UserWarning)\n",
      "/home/fuhr/.venvs/ia/lib/python3.8/site-packages/xgboost/sklearn.py:1224: UserWarning: The use of label encoder in XGBClassifier is deprecated and will be removed in a future release. To remove this warning, do the following: 1) Pass option use_label_encoder=False when constructing XGBClassifier object; and 2) Encode your labels (y) as integers starting with 0, i.e. 0, 1, 2, ..., [num_class - 1].\n",
      "  warnings.warn(label_encoder_deprecation_msg, UserWarning)\n",
      "/home/fuhr/.venvs/ia/lib/python3.8/site-packages/xgboost/sklearn.py:1224: UserWarning: The use of label encoder in XGBClassifier is deprecated and will be removed in a future release. To remove this warning, do the following: 1) Pass option use_label_encoder=False when constructing XGBClassifier object; and 2) Encode your labels (y) as integers starting with 0, i.e. 0, 1, 2, ..., [num_class - 1].\n",
      "  warnings.warn(label_encoder_deprecation_msg, UserWarning)\n",
      "/home/fuhr/.venvs/ia/lib/python3.8/site-packages/xgboost/sklearn.py:1224: UserWarning: The use of label encoder in XGBClassifier is deprecated and will be removed in a future release. To remove this warning, do the following: 1) Pass option use_label_encoder=False when constructing XGBClassifier object; and 2) Encode your labels (y) as integers starting with 0, i.e. 0, 1, 2, ..., [num_class - 1].\n",
      "  warnings.warn(label_encoder_deprecation_msg, UserWarning)\n",
      "/home/fuhr/.venvs/ia/lib/python3.8/site-packages/xgboost/sklearn.py:1224: UserWarning: The use of label encoder in XGBClassifier is deprecated and will be removed in a future release. To remove this warning, do the following: 1) Pass option use_label_encoder=False when constructing XGBClassifier object; and 2) Encode your labels (y) as integers starting with 0, i.e. 0, 1, 2, ..., [num_class - 1].\n",
      "  warnings.warn(label_encoder_deprecation_msg, UserWarning)\n",
      "/home/fuhr/.venvs/ia/lib/python3.8/site-packages/xgboost/sklearn.py:1224: UserWarning: The use of label encoder in XGBClassifier is deprecated and will be removed in a future release. To remove this warning, do the following: 1) Pass option use_label_encoder=False when constructing XGBClassifier object; and 2) Encode your labels (y) as integers starting with 0, i.e. 0, 1, 2, ..., [num_class - 1].\n",
      "  warnings.warn(label_encoder_deprecation_msg, UserWarning)\n",
      "/home/fuhr/.venvs/ia/lib/python3.8/site-packages/xgboost/sklearn.py:1224: UserWarning: The use of label encoder in XGBClassifier is deprecated and will be removed in a future release. To remove this warning, do the following: 1) Pass option use_label_encoder=False when constructing XGBClassifier object; and 2) Encode your labels (y) as integers starting with 0, i.e. 0, 1, 2, ..., [num_class - 1].\n",
      "  warnings.warn(label_encoder_deprecation_msg, UserWarning)\n",
      "/home/fuhr/.venvs/ia/lib/python3.8/site-packages/xgboost/sklearn.py:1224: UserWarning: The use of label encoder in XGBClassifier is deprecated and will be removed in a future release. To remove this warning, do the following: 1) Pass option use_label_encoder=False when constructing XGBClassifier object; and 2) Encode your labels (y) as integers starting with 0, i.e. 0, 1, 2, ..., [num_class - 1].\n",
      "  warnings.warn(label_encoder_deprecation_msg, UserWarning)\n",
      "/home/fuhr/.venvs/ia/lib/python3.8/site-packages/xgboost/sklearn.py:1224: UserWarning: The use of label encoder in XGBClassifier is deprecated and will be removed in a future release. To remove this warning, do the following: 1) Pass option use_label_encoder=False when constructing XGBClassifier object; and 2) Encode your labels (y) as integers starting with 0, i.e. 0, 1, 2, ..., [num_class - 1].\n",
      "  warnings.warn(label_encoder_deprecation_msg, UserWarning)\n",
      "/home/fuhr/.venvs/ia/lib/python3.8/site-packages/xgboost/sklearn.py:1224: UserWarning: The use of label encoder in XGBClassifier is deprecated and will be removed in a future release. To remove this warning, do the following: 1) Pass option use_label_encoder=False when constructing XGBClassifier object; and 2) Encode your labels (y) as integers starting with 0, i.e. 0, 1, 2, ..., [num_class - 1].\n",
      "  warnings.warn(label_encoder_deprecation_msg, UserWarning)\n",
      "/home/fuhr/.venvs/ia/lib/python3.8/site-packages/xgboost/sklearn.py:1224: UserWarning: The use of label encoder in XGBClassifier is deprecated and will be removed in a future release. To remove this warning, do the following: 1) Pass option use_label_encoder=False when constructing XGBClassifier object; and 2) Encode your labels (y) as integers starting with 0, i.e. 0, 1, 2, ..., [num_class - 1].\n",
      "  warnings.warn(label_encoder_deprecation_msg, UserWarning)\n",
      "/home/fuhr/.venvs/ia/lib/python3.8/site-packages/xgboost/sklearn.py:1224: UserWarning: The use of label encoder in XGBClassifier is deprecated and will be removed in a future release. To remove this warning, do the following: 1) Pass option use_label_encoder=False when constructing XGBClassifier object; and 2) Encode your labels (y) as integers starting with 0, i.e. 0, 1, 2, ..., [num_class - 1].\n",
      "  warnings.warn(label_encoder_deprecation_msg, UserWarning)\n",
      "/home/fuhr/.venvs/ia/lib/python3.8/site-packages/xgboost/sklearn.py:1224: UserWarning: The use of label encoder in XGBClassifier is deprecated and will be removed in a future release. To remove this warning, do the following: 1) Pass option use_label_encoder=False when constructing XGBClassifier object; and 2) Encode your labels (y) as integers starting with 0, i.e. 0, 1, 2, ..., [num_class - 1].\n",
      "  warnings.warn(label_encoder_deprecation_msg, UserWarning)\n",
      "/home/fuhr/.venvs/ia/lib/python3.8/site-packages/xgboost/sklearn.py:1224: UserWarning: The use of label encoder in XGBClassifier is deprecated and will be removed in a future release. To remove this warning, do the following: 1) Pass option use_label_encoder=False when constructing XGBClassifier object; and 2) Encode your labels (y) as integers starting with 0, i.e. 0, 1, 2, ..., [num_class - 1].\n",
      "  warnings.warn(label_encoder_deprecation_msg, UserWarning)\n",
      "/home/fuhr/.venvs/ia/lib/python3.8/site-packages/xgboost/sklearn.py:1224: UserWarning: The use of label encoder in XGBClassifier is deprecated and will be removed in a future release. To remove this warning, do the following: 1) Pass option use_label_encoder=False when constructing XGBClassifier object; and 2) Encode your labels (y) as integers starting with 0, i.e. 0, 1, 2, ..., [num_class - 1].\n",
      "  warnings.warn(label_encoder_deprecation_msg, UserWarning)\n",
      "/home/fuhr/.venvs/ia/lib/python3.8/site-packages/xgboost/sklearn.py:1224: UserWarning: The use of label encoder in XGBClassifier is deprecated and will be removed in a future release. To remove this warning, do the following: 1) Pass option use_label_encoder=False when constructing XGBClassifier object; and 2) Encode your labels (y) as integers starting with 0, i.e. 0, 1, 2, ..., [num_class - 1].\n",
      "  warnings.warn(label_encoder_deprecation_msg, UserWarning)\n",
      "/home/fuhr/.venvs/ia/lib/python3.8/site-packages/xgboost/sklearn.py:1224: UserWarning: The use of label encoder in XGBClassifier is deprecated and will be removed in a future release. To remove this warning, do the following: 1) Pass option use_label_encoder=False when constructing XGBClassifier object; and 2) Encode your labels (y) as integers starting with 0, i.e. 0, 1, 2, ..., [num_class - 1].\n",
      "  warnings.warn(label_encoder_deprecation_msg, UserWarning)\n",
      "/home/fuhr/.venvs/ia/lib/python3.8/site-packages/xgboost/sklearn.py:1224: UserWarning: The use of label encoder in XGBClassifier is deprecated and will be removed in a future release. To remove this warning, do the following: 1) Pass option use_label_encoder=False when constructing XGBClassifier object; and 2) Encode your labels (y) as integers starting with 0, i.e. 0, 1, 2, ..., [num_class - 1].\n",
      "  warnings.warn(label_encoder_deprecation_msg, UserWarning)\n",
      "/home/fuhr/.venvs/ia/lib/python3.8/site-packages/xgboost/sklearn.py:1224: UserWarning: The use of label encoder in XGBClassifier is deprecated and will be removed in a future release. To remove this warning, do the following: 1) Pass option use_label_encoder=False when constructing XGBClassifier object; and 2) Encode your labels (y) as integers starting with 0, i.e. 0, 1, 2, ..., [num_class - 1].\n",
      "  warnings.warn(label_encoder_deprecation_msg, UserWarning)\n",
      "/home/fuhr/.venvs/ia/lib/python3.8/site-packages/xgboost/sklearn.py:1224: UserWarning: The use of label encoder in XGBClassifier is deprecated and will be removed in a future release. To remove this warning, do the following: 1) Pass option use_label_encoder=False when constructing XGBClassifier object; and 2) Encode your labels (y) as integers starting with 0, i.e. 0, 1, 2, ..., [num_class - 1].\n",
      "  warnings.warn(label_encoder_deprecation_msg, UserWarning)\n",
      "/home/fuhr/.venvs/ia/lib/python3.8/site-packages/xgboost/sklearn.py:1224: UserWarning: The use of label encoder in XGBClassifier is deprecated and will be removed in a future release. To remove this warning, do the following: 1) Pass option use_label_encoder=False when constructing XGBClassifier object; and 2) Encode your labels (y) as integers starting with 0, i.e. 0, 1, 2, ..., [num_class - 1].\n",
      "  warnings.warn(label_encoder_deprecation_msg, UserWarning)\n",
      "/home/fuhr/.venvs/ia/lib/python3.8/site-packages/xgboost/sklearn.py:1224: UserWarning: The use of label encoder in XGBClassifier is deprecated and will be removed in a future release. To remove this warning, do the following: 1) Pass option use_label_encoder=False when constructing XGBClassifier object; and 2) Encode your labels (y) as integers starting with 0, i.e. 0, 1, 2, ..., [num_class - 1].\n",
      "  warnings.warn(label_encoder_deprecation_msg, UserWarning)\n",
      "/home/fuhr/.venvs/ia/lib/python3.8/site-packages/xgboost/sklearn.py:1224: UserWarning: The use of label encoder in XGBClassifier is deprecated and will be removed in a future release. To remove this warning, do the following: 1) Pass option use_label_encoder=False when constructing XGBClassifier object; and 2) Encode your labels (y) as integers starting with 0, i.e. 0, 1, 2, ..., [num_class - 1].\n",
      "  warnings.warn(label_encoder_deprecation_msg, UserWarning)\n",
      "/home/fuhr/.venvs/ia/lib/python3.8/site-packages/xgboost/sklearn.py:1224: UserWarning: The use of label encoder in XGBClassifier is deprecated and will be removed in a future release. To remove this warning, do the following: 1) Pass option use_label_encoder=False when constructing XGBClassifier object; and 2) Encode your labels (y) as integers starting with 0, i.e. 0, 1, 2, ..., [num_class - 1].\n",
      "  warnings.warn(label_encoder_deprecation_msg, UserWarning)\n",
      "/home/fuhr/.venvs/ia/lib/python3.8/site-packages/xgboost/sklearn.py:1224: UserWarning: The use of label encoder in XGBClassifier is deprecated and will be removed in a future release. To remove this warning, do the following: 1) Pass option use_label_encoder=False when constructing XGBClassifier object; and 2) Encode your labels (y) as integers starting with 0, i.e. 0, 1, 2, ..., [num_class - 1].\n",
      "  warnings.warn(label_encoder_deprecation_msg, UserWarning)\n",
      "/home/fuhr/.venvs/ia/lib/python3.8/site-packages/xgboost/sklearn.py:1224: UserWarning: The use of label encoder in XGBClassifier is deprecated and will be removed in a future release. To remove this warning, do the following: 1) Pass option use_label_encoder=False when constructing XGBClassifier object; and 2) Encode your labels (y) as integers starting with 0, i.e. 0, 1, 2, ..., [num_class - 1].\n",
      "  warnings.warn(label_encoder_deprecation_msg, UserWarning)\n",
      "/home/fuhr/.venvs/ia/lib/python3.8/site-packages/xgboost/sklearn.py:1224: UserWarning: The use of label encoder in XGBClassifier is deprecated and will be removed in a future release. To remove this warning, do the following: 1) Pass option use_label_encoder=False when constructing XGBClassifier object; and 2) Encode your labels (y) as integers starting with 0, i.e. 0, 1, 2, ..., [num_class - 1].\n",
      "  warnings.warn(label_encoder_deprecation_msg, UserWarning)\n",
      "/home/fuhr/.venvs/ia/lib/python3.8/site-packages/xgboost/sklearn.py:1224: UserWarning: The use of label encoder in XGBClassifier is deprecated and will be removed in a future release. To remove this warning, do the following: 1) Pass option use_label_encoder=False when constructing XGBClassifier object; and 2) Encode your labels (y) as integers starting with 0, i.e. 0, 1, 2, ..., [num_class - 1].\n",
      "  warnings.warn(label_encoder_deprecation_msg, UserWarning)\n",
      "/home/fuhr/.venvs/ia/lib/python3.8/site-packages/xgboost/sklearn.py:1224: UserWarning: The use of label encoder in XGBClassifier is deprecated and will be removed in a future release. To remove this warning, do the following: 1) Pass option use_label_encoder=False when constructing XGBClassifier object; and 2) Encode your labels (y) as integers starting with 0, i.e. 0, 1, 2, ..., [num_class - 1].\n",
      "  warnings.warn(label_encoder_deprecation_msg, UserWarning)\n",
      "/home/fuhr/.venvs/ia/lib/python3.8/site-packages/xgboost/sklearn.py:1224: UserWarning: The use of label encoder in XGBClassifier is deprecated and will be removed in a future release. To remove this warning, do the following: 1) Pass option use_label_encoder=False when constructing XGBClassifier object; and 2) Encode your labels (y) as integers starting with 0, i.e. 0, 1, 2, ..., [num_class - 1].\n",
      "  warnings.warn(label_encoder_deprecation_msg, UserWarning)\n",
      "/home/fuhr/.venvs/ia/lib/python3.8/site-packages/xgboost/sklearn.py:1224: UserWarning: The use of label encoder in XGBClassifier is deprecated and will be removed in a future release. To remove this warning, do the following: 1) Pass option use_label_encoder=False when constructing XGBClassifier object; and 2) Encode your labels (y) as integers starting with 0, i.e. 0, 1, 2, ..., [num_class - 1].\n",
      "  warnings.warn(label_encoder_deprecation_msg, UserWarning)\n",
      "/home/fuhr/.venvs/ia/lib/python3.8/site-packages/xgboost/sklearn.py:1224: UserWarning: The use of label encoder in XGBClassifier is deprecated and will be removed in a future release. To remove this warning, do the following: 1) Pass option use_label_encoder=False when constructing XGBClassifier object; and 2) Encode your labels (y) as integers starting with 0, i.e. 0, 1, 2, ..., [num_class - 1].\n",
      "  warnings.warn(label_encoder_deprecation_msg, UserWarning)\n",
      "/home/fuhr/.venvs/ia/lib/python3.8/site-packages/xgboost/sklearn.py:1224: UserWarning: The use of label encoder in XGBClassifier is deprecated and will be removed in a future release. To remove this warning, do the following: 1) Pass option use_label_encoder=False when constructing XGBClassifier object; and 2) Encode your labels (y) as integers starting with 0, i.e. 0, 1, 2, ..., [num_class - 1].\n",
      "  warnings.warn(label_encoder_deprecation_msg, UserWarning)\n",
      "/home/fuhr/.venvs/ia/lib/python3.8/site-packages/xgboost/sklearn.py:1224: UserWarning: The use of label encoder in XGBClassifier is deprecated and will be removed in a future release. To remove this warning, do the following: 1) Pass option use_label_encoder=False when constructing XGBClassifier object; and 2) Encode your labels (y) as integers starting with 0, i.e. 0, 1, 2, ..., [num_class - 1].\n",
      "  warnings.warn(label_encoder_deprecation_msg, UserWarning)\n"
     ]
    },
    {
     "name": "stdout",
     "output_type": "stream",
     "text": [
      "[01:26:22] WARNING: ../src/learner.cc:1115: Starting in XGBoost 1.3.0, the default evaluation metric used with the objective 'multi:softprob' was changed from 'merror' to 'mlogloss'. Explicitly set eval_metric if you'd like to restore the old behavior.\n",
      "<class 'sklearn.tree._classes.DecisionTreeClassifier'> Normalização Rob\n",
      "Fitting 2 folds for each of 20 candidates, totalling 40 fits\n",
      "<class 'sklearn.ensemble._forest.RandomForestClassifier'> Normalização Rob\n",
      "Fitting 2 folds for each of 20 candidates, totalling 40 fits\n",
      "<class 'xgboost.sklearn.XGBClassifier'> Normalização Rob\n",
      "Fitting 2 folds for each of 20 candidates, totalling 40 fits\n"
     ]
    },
    {
     "name": "stderr",
     "output_type": "stream",
     "text": [
      "/home/fuhr/.venvs/ia/lib/python3.8/site-packages/xgboost/sklearn.py:1224: UserWarning: The use of label encoder in XGBClassifier is deprecated and will be removed in a future release. To remove this warning, do the following: 1) Pass option use_label_encoder=False when constructing XGBClassifier object; and 2) Encode your labels (y) as integers starting with 0, i.e. 0, 1, 2, ..., [num_class - 1].\n",
      "  warnings.warn(label_encoder_deprecation_msg, UserWarning)\n",
      "/home/fuhr/.venvs/ia/lib/python3.8/site-packages/xgboost/sklearn.py:1224: UserWarning: The use of label encoder in XGBClassifier is deprecated and will be removed in a future release. To remove this warning, do the following: 1) Pass option use_label_encoder=False when constructing XGBClassifier object; and 2) Encode your labels (y) as integers starting with 0, i.e. 0, 1, 2, ..., [num_class - 1].\n",
      "  warnings.warn(label_encoder_deprecation_msg, UserWarning)\n",
      "/home/fuhr/.venvs/ia/lib/python3.8/site-packages/xgboost/sklearn.py:1224: UserWarning: The use of label encoder in XGBClassifier is deprecated and will be removed in a future release. To remove this warning, do the following: 1) Pass option use_label_encoder=False when constructing XGBClassifier object; and 2) Encode your labels (y) as integers starting with 0, i.e. 0, 1, 2, ..., [num_class - 1].\n",
      "  warnings.warn(label_encoder_deprecation_msg, UserWarning)\n",
      "/home/fuhr/.venvs/ia/lib/python3.8/site-packages/xgboost/sklearn.py:1224: UserWarning: The use of label encoder in XGBClassifier is deprecated and will be removed in a future release. To remove this warning, do the following: 1) Pass option use_label_encoder=False when constructing XGBClassifier object; and 2) Encode your labels (y) as integers starting with 0, i.e. 0, 1, 2, ..., [num_class - 1].\n",
      "  warnings.warn(label_encoder_deprecation_msg, UserWarning)\n",
      "/home/fuhr/.venvs/ia/lib/python3.8/site-packages/xgboost/sklearn.py:1224: UserWarning: The use of label encoder in XGBClassifier is deprecated and will be removed in a future release. To remove this warning, do the following: 1) Pass option use_label_encoder=False when constructing XGBClassifier object; and 2) Encode your labels (y) as integers starting with 0, i.e. 0, 1, 2, ..., [num_class - 1].\n",
      "  warnings.warn(label_encoder_deprecation_msg, UserWarning)\n",
      "/home/fuhr/.venvs/ia/lib/python3.8/site-packages/xgboost/sklearn.py:1224: UserWarning: The use of label encoder in XGBClassifier is deprecated and will be removed in a future release. To remove this warning, do the following: 1) Pass option use_label_encoder=False when constructing XGBClassifier object; and 2) Encode your labels (y) as integers starting with 0, i.e. 0, 1, 2, ..., [num_class - 1].\n",
      "  warnings.warn(label_encoder_deprecation_msg, UserWarning)\n",
      "/home/fuhr/.venvs/ia/lib/python3.8/site-packages/xgboost/sklearn.py:1224: UserWarning: The use of label encoder in XGBClassifier is deprecated and will be removed in a future release. To remove this warning, do the following: 1) Pass option use_label_encoder=False when constructing XGBClassifier object; and 2) Encode your labels (y) as integers starting with 0, i.e. 0, 1, 2, ..., [num_class - 1].\n",
      "  warnings.warn(label_encoder_deprecation_msg, UserWarning)\n",
      "/home/fuhr/.venvs/ia/lib/python3.8/site-packages/xgboost/sklearn.py:1224: UserWarning: The use of label encoder in XGBClassifier is deprecated and will be removed in a future release. To remove this warning, do the following: 1) Pass option use_label_encoder=False when constructing XGBClassifier object; and 2) Encode your labels (y) as integers starting with 0, i.e. 0, 1, 2, ..., [num_class - 1].\n",
      "  warnings.warn(label_encoder_deprecation_msg, UserWarning)\n",
      "/home/fuhr/.venvs/ia/lib/python3.8/site-packages/xgboost/sklearn.py:1224: UserWarning: The use of label encoder in XGBClassifier is deprecated and will be removed in a future release. To remove this warning, do the following: 1) Pass option use_label_encoder=False when constructing XGBClassifier object; and 2) Encode your labels (y) as integers starting with 0, i.e. 0, 1, 2, ..., [num_class - 1].\n",
      "  warnings.warn(label_encoder_deprecation_msg, UserWarning)\n",
      "/home/fuhr/.venvs/ia/lib/python3.8/site-packages/xgboost/sklearn.py:1224: UserWarning: The use of label encoder in XGBClassifier is deprecated and will be removed in a future release. To remove this warning, do the following: 1) Pass option use_label_encoder=False when constructing XGBClassifier object; and 2) Encode your labels (y) as integers starting with 0, i.e. 0, 1, 2, ..., [num_class - 1].\n",
      "  warnings.warn(label_encoder_deprecation_msg, UserWarning)\n",
      "/home/fuhr/.venvs/ia/lib/python3.8/site-packages/xgboost/sklearn.py:1224: UserWarning: The use of label encoder in XGBClassifier is deprecated and will be removed in a future release. To remove this warning, do the following: 1) Pass option use_label_encoder=False when constructing XGBClassifier object; and 2) Encode your labels (y) as integers starting with 0, i.e. 0, 1, 2, ..., [num_class - 1].\n",
      "  warnings.warn(label_encoder_deprecation_msg, UserWarning)\n",
      "/home/fuhr/.venvs/ia/lib/python3.8/site-packages/xgboost/sklearn.py:1224: UserWarning: The use of label encoder in XGBClassifier is deprecated and will be removed in a future release. To remove this warning, do the following: 1) Pass option use_label_encoder=False when constructing XGBClassifier object; and 2) Encode your labels (y) as integers starting with 0, i.e. 0, 1, 2, ..., [num_class - 1].\n",
      "  warnings.warn(label_encoder_deprecation_msg, UserWarning)\n",
      "/home/fuhr/.venvs/ia/lib/python3.8/site-packages/xgboost/sklearn.py:1224: UserWarning: The use of label encoder in XGBClassifier is deprecated and will be removed in a future release. To remove this warning, do the following: 1) Pass option use_label_encoder=False when constructing XGBClassifier object; and 2) Encode your labels (y) as integers starting with 0, i.e. 0, 1, 2, ..., [num_class - 1].\n",
      "  warnings.warn(label_encoder_deprecation_msg, UserWarning)\n",
      "/home/fuhr/.venvs/ia/lib/python3.8/site-packages/xgboost/sklearn.py:1224: UserWarning: The use of label encoder in XGBClassifier is deprecated and will be removed in a future release. To remove this warning, do the following: 1) Pass option use_label_encoder=False when constructing XGBClassifier object; and 2) Encode your labels (y) as integers starting with 0, i.e. 0, 1, 2, ..., [num_class - 1].\n",
      "  warnings.warn(label_encoder_deprecation_msg, UserWarning)\n",
      "/home/fuhr/.venvs/ia/lib/python3.8/site-packages/xgboost/sklearn.py:1224: UserWarning: The use of label encoder in XGBClassifier is deprecated and will be removed in a future release. To remove this warning, do the following: 1) Pass option use_label_encoder=False when constructing XGBClassifier object; and 2) Encode your labels (y) as integers starting with 0, i.e. 0, 1, 2, ..., [num_class - 1].\n",
      "  warnings.warn(label_encoder_deprecation_msg, UserWarning)\n",
      "/home/fuhr/.venvs/ia/lib/python3.8/site-packages/xgboost/sklearn.py:1224: UserWarning: The use of label encoder in XGBClassifier is deprecated and will be removed in a future release. To remove this warning, do the following: 1) Pass option use_label_encoder=False when constructing XGBClassifier object; and 2) Encode your labels (y) as integers starting with 0, i.e. 0, 1, 2, ..., [num_class - 1].\n",
      "  warnings.warn(label_encoder_deprecation_msg, UserWarning)\n",
      "/home/fuhr/.venvs/ia/lib/python3.8/site-packages/xgboost/sklearn.py:1224: UserWarning: The use of label encoder in XGBClassifier is deprecated and will be removed in a future release. To remove this warning, do the following: 1) Pass option use_label_encoder=False when constructing XGBClassifier object; and 2) Encode your labels (y) as integers starting with 0, i.e. 0, 1, 2, ..., [num_class - 1].\n",
      "  warnings.warn(label_encoder_deprecation_msg, UserWarning)\n",
      "/home/fuhr/.venvs/ia/lib/python3.8/site-packages/xgboost/sklearn.py:1224: UserWarning: The use of label encoder in XGBClassifier is deprecated and will be removed in a future release. To remove this warning, do the following: 1) Pass option use_label_encoder=False when constructing XGBClassifier object; and 2) Encode your labels (y) as integers starting with 0, i.e. 0, 1, 2, ..., [num_class - 1].\n",
      "  warnings.warn(label_encoder_deprecation_msg, UserWarning)\n",
      "/home/fuhr/.venvs/ia/lib/python3.8/site-packages/xgboost/sklearn.py:1224: UserWarning: The use of label encoder in XGBClassifier is deprecated and will be removed in a future release. To remove this warning, do the following: 1) Pass option use_label_encoder=False when constructing XGBClassifier object; and 2) Encode your labels (y) as integers starting with 0, i.e. 0, 1, 2, ..., [num_class - 1].\n",
      "  warnings.warn(label_encoder_deprecation_msg, UserWarning)\n",
      "/home/fuhr/.venvs/ia/lib/python3.8/site-packages/xgboost/sklearn.py:1224: UserWarning: The use of label encoder in XGBClassifier is deprecated and will be removed in a future release. To remove this warning, do the following: 1) Pass option use_label_encoder=False when constructing XGBClassifier object; and 2) Encode your labels (y) as integers starting with 0, i.e. 0, 1, 2, ..., [num_class - 1].\n",
      "  warnings.warn(label_encoder_deprecation_msg, UserWarning)\n",
      "/home/fuhr/.venvs/ia/lib/python3.8/site-packages/xgboost/sklearn.py:1224: UserWarning: The use of label encoder in XGBClassifier is deprecated and will be removed in a future release. To remove this warning, do the following: 1) Pass option use_label_encoder=False when constructing XGBClassifier object; and 2) Encode your labels (y) as integers starting with 0, i.e. 0, 1, 2, ..., [num_class - 1].\n",
      "  warnings.warn(label_encoder_deprecation_msg, UserWarning)\n",
      "/home/fuhr/.venvs/ia/lib/python3.8/site-packages/xgboost/sklearn.py:1224: UserWarning: The use of label encoder in XGBClassifier is deprecated and will be removed in a future release. To remove this warning, do the following: 1) Pass option use_label_encoder=False when constructing XGBClassifier object; and 2) Encode your labels (y) as integers starting with 0, i.e. 0, 1, 2, ..., [num_class - 1].\n",
      "  warnings.warn(label_encoder_deprecation_msg, UserWarning)\n",
      "/home/fuhr/.venvs/ia/lib/python3.8/site-packages/xgboost/sklearn.py:1224: UserWarning: The use of label encoder in XGBClassifier is deprecated and will be removed in a future release. To remove this warning, do the following: 1) Pass option use_label_encoder=False when constructing XGBClassifier object; and 2) Encode your labels (y) as integers starting with 0, i.e. 0, 1, 2, ..., [num_class - 1].\n",
      "  warnings.warn(label_encoder_deprecation_msg, UserWarning)\n",
      "/home/fuhr/.venvs/ia/lib/python3.8/site-packages/xgboost/sklearn.py:1224: UserWarning: The use of label encoder in XGBClassifier is deprecated and will be removed in a future release. To remove this warning, do the following: 1) Pass option use_label_encoder=False when constructing XGBClassifier object; and 2) Encode your labels (y) as integers starting with 0, i.e. 0, 1, 2, ..., [num_class - 1].\n",
      "  warnings.warn(label_encoder_deprecation_msg, UserWarning)\n",
      "/home/fuhr/.venvs/ia/lib/python3.8/site-packages/xgboost/sklearn.py:1224: UserWarning: The use of label encoder in XGBClassifier is deprecated and will be removed in a future release. To remove this warning, do the following: 1) Pass option use_label_encoder=False when constructing XGBClassifier object; and 2) Encode your labels (y) as integers starting with 0, i.e. 0, 1, 2, ..., [num_class - 1].\n",
      "  warnings.warn(label_encoder_deprecation_msg, UserWarning)\n",
      "/home/fuhr/.venvs/ia/lib/python3.8/site-packages/xgboost/sklearn.py:1224: UserWarning: The use of label encoder in XGBClassifier is deprecated and will be removed in a future release. To remove this warning, do the following: 1) Pass option use_label_encoder=False when constructing XGBClassifier object; and 2) Encode your labels (y) as integers starting with 0, i.e. 0, 1, 2, ..., [num_class - 1].\n",
      "  warnings.warn(label_encoder_deprecation_msg, UserWarning)\n",
      "/home/fuhr/.venvs/ia/lib/python3.8/site-packages/xgboost/sklearn.py:1224: UserWarning: The use of label encoder in XGBClassifier is deprecated and will be removed in a future release. To remove this warning, do the following: 1) Pass option use_label_encoder=False when constructing XGBClassifier object; and 2) Encode your labels (y) as integers starting with 0, i.e. 0, 1, 2, ..., [num_class - 1].\n",
      "  warnings.warn(label_encoder_deprecation_msg, UserWarning)\n",
      "/home/fuhr/.venvs/ia/lib/python3.8/site-packages/xgboost/sklearn.py:1224: UserWarning: The use of label encoder in XGBClassifier is deprecated and will be removed in a future release. To remove this warning, do the following: 1) Pass option use_label_encoder=False when constructing XGBClassifier object; and 2) Encode your labels (y) as integers starting with 0, i.e. 0, 1, 2, ..., [num_class - 1].\n",
      "  warnings.warn(label_encoder_deprecation_msg, UserWarning)\n",
      "/home/fuhr/.venvs/ia/lib/python3.8/site-packages/xgboost/sklearn.py:1224: UserWarning: The use of label encoder in XGBClassifier is deprecated and will be removed in a future release. To remove this warning, do the following: 1) Pass option use_label_encoder=False when constructing XGBClassifier object; and 2) Encode your labels (y) as integers starting with 0, i.e. 0, 1, 2, ..., [num_class - 1].\n",
      "  warnings.warn(label_encoder_deprecation_msg, UserWarning)\n",
      "/home/fuhr/.venvs/ia/lib/python3.8/site-packages/xgboost/sklearn.py:1224: UserWarning: The use of label encoder in XGBClassifier is deprecated and will be removed in a future release. To remove this warning, do the following: 1) Pass option use_label_encoder=False when constructing XGBClassifier object; and 2) Encode your labels (y) as integers starting with 0, i.e. 0, 1, 2, ..., [num_class - 1].\n",
      "  warnings.warn(label_encoder_deprecation_msg, UserWarning)\n",
      "/home/fuhr/.venvs/ia/lib/python3.8/site-packages/xgboost/sklearn.py:1224: UserWarning: The use of label encoder in XGBClassifier is deprecated and will be removed in a future release. To remove this warning, do the following: 1) Pass option use_label_encoder=False when constructing XGBClassifier object; and 2) Encode your labels (y) as integers starting with 0, i.e. 0, 1, 2, ..., [num_class - 1].\n",
      "  warnings.warn(label_encoder_deprecation_msg, UserWarning)\n",
      "/home/fuhr/.venvs/ia/lib/python3.8/site-packages/xgboost/sklearn.py:1224: UserWarning: The use of label encoder in XGBClassifier is deprecated and will be removed in a future release. To remove this warning, do the following: 1) Pass option use_label_encoder=False when constructing XGBClassifier object; and 2) Encode your labels (y) as integers starting with 0, i.e. 0, 1, 2, ..., [num_class - 1].\n",
      "  warnings.warn(label_encoder_deprecation_msg, UserWarning)\n",
      "/home/fuhr/.venvs/ia/lib/python3.8/site-packages/xgboost/sklearn.py:1224: UserWarning: The use of label encoder in XGBClassifier is deprecated and will be removed in a future release. To remove this warning, do the following: 1) Pass option use_label_encoder=False when constructing XGBClassifier object; and 2) Encode your labels (y) as integers starting with 0, i.e. 0, 1, 2, ..., [num_class - 1].\n",
      "  warnings.warn(label_encoder_deprecation_msg, UserWarning)\n",
      "/home/fuhr/.venvs/ia/lib/python3.8/site-packages/xgboost/sklearn.py:1224: UserWarning: The use of label encoder in XGBClassifier is deprecated and will be removed in a future release. To remove this warning, do the following: 1) Pass option use_label_encoder=False when constructing XGBClassifier object; and 2) Encode your labels (y) as integers starting with 0, i.e. 0, 1, 2, ..., [num_class - 1].\n",
      "  warnings.warn(label_encoder_deprecation_msg, UserWarning)\n",
      "/home/fuhr/.venvs/ia/lib/python3.8/site-packages/xgboost/sklearn.py:1224: UserWarning: The use of label encoder in XGBClassifier is deprecated and will be removed in a future release. To remove this warning, do the following: 1) Pass option use_label_encoder=False when constructing XGBClassifier object; and 2) Encode your labels (y) as integers starting with 0, i.e. 0, 1, 2, ..., [num_class - 1].\n",
      "  warnings.warn(label_encoder_deprecation_msg, UserWarning)\n"
     ]
    },
    {
     "name": "stdout",
     "output_type": "stream",
     "text": [
      "[03:44:15] WARNING: ../src/learner.cc:1115: Starting in XGBoost 1.3.0, the default evaluation metric used with the objective 'multi:softprob' was changed from 'merror' to 'mlogloss'. Explicitly set eval_metric if you'd like to restore the old behavior.\n"
     ]
    },
    {
     "name": "stderr",
     "output_type": "stream",
     "text": [
      "/home/fuhr/.venvs/ia/lib/python3.8/site-packages/xgboost/sklearn.py:1224: UserWarning: The use of label encoder in XGBClassifier is deprecated and will be removed in a future release. To remove this warning, do the following: 1) Pass option use_label_encoder=False when constructing XGBClassifier object; and 2) Encode your labels (y) as integers starting with 0, i.e. 0, 1, 2, ..., [num_class - 1].\n",
      "  warnings.warn(label_encoder_deprecation_msg, UserWarning)\n",
      "/home/fuhr/.venvs/ia/lib/python3.8/site-packages/xgboost/sklearn.py:1224: UserWarning: The use of label encoder in XGBClassifier is deprecated and will be removed in a future release. To remove this warning, do the following: 1) Pass option use_label_encoder=False when constructing XGBClassifier object; and 2) Encode your labels (y) as integers starting with 0, i.e. 0, 1, 2, ..., [num_class - 1].\n",
      "  warnings.warn(label_encoder_deprecation_msg, UserWarning)\n",
      "/home/fuhr/.venvs/ia/lib/python3.8/site-packages/xgboost/sklearn.py:1224: UserWarning: The use of label encoder in XGBClassifier is deprecated and will be removed in a future release. To remove this warning, do the following: 1) Pass option use_label_encoder=False when constructing XGBClassifier object; and 2) Encode your labels (y) as integers starting with 0, i.e. 0, 1, 2, ..., [num_class - 1].\n",
      "  warnings.warn(label_encoder_deprecation_msg, UserWarning)\n",
      "/home/fuhr/.venvs/ia/lib/python3.8/site-packages/xgboost/sklearn.py:1224: UserWarning: The use of label encoder in XGBClassifier is deprecated and will be removed in a future release. To remove this warning, do the following: 1) Pass option use_label_encoder=False when constructing XGBClassifier object; and 2) Encode your labels (y) as integers starting with 0, i.e. 0, 1, 2, ..., [num_class - 1].\n",
      "  warnings.warn(label_encoder_deprecation_msg, UserWarning)\n",
      "/home/fuhr/.venvs/ia/lib/python3.8/site-packages/xgboost/sklearn.py:1224: UserWarning: The use of label encoder in XGBClassifier is deprecated and will be removed in a future release. To remove this warning, do the following: 1) Pass option use_label_encoder=False when constructing XGBClassifier object; and 2) Encode your labels (y) as integers starting with 0, i.e. 0, 1, 2, ..., [num_class - 1].\n",
      "  warnings.warn(label_encoder_deprecation_msg, UserWarning)\n",
      "/home/fuhr/.venvs/ia/lib/python3.8/site-packages/xgboost/sklearn.py:1224: UserWarning: The use of label encoder in XGBClassifier is deprecated and will be removed in a future release. To remove this warning, do the following: 1) Pass option use_label_encoder=False when constructing XGBClassifier object; and 2) Encode your labels (y) as integers starting with 0, i.e. 0, 1, 2, ..., [num_class - 1].\n",
      "  warnings.warn(label_encoder_deprecation_msg, UserWarning)\n",
      "/home/fuhr/.venvs/ia/lib/python3.8/site-packages/xgboost/sklearn.py:1224: UserWarning: The use of label encoder in XGBClassifier is deprecated and will be removed in a future release. To remove this warning, do the following: 1) Pass option use_label_encoder=False when constructing XGBClassifier object; and 2) Encode your labels (y) as integers starting with 0, i.e. 0, 1, 2, ..., [num_class - 1].\n",
      "  warnings.warn(label_encoder_deprecation_msg, UserWarning)\n",
      "/home/fuhr/.venvs/ia/lib/python3.8/site-packages/xgboost/sklearn.py:1224: UserWarning: The use of label encoder in XGBClassifier is deprecated and will be removed in a future release. To remove this warning, do the following: 1) Pass option use_label_encoder=False when constructing XGBClassifier object; and 2) Encode your labels (y) as integers starting with 0, i.e. 0, 1, 2, ..., [num_class - 1].\n",
      "  warnings.warn(label_encoder_deprecation_msg, UserWarning)\n",
      "/home/fuhr/.venvs/ia/lib/python3.8/site-packages/xgboost/sklearn.py:1224: UserWarning: The use of label encoder in XGBClassifier is deprecated and will be removed in a future release. To remove this warning, do the following: 1) Pass option use_label_encoder=False when constructing XGBClassifier object; and 2) Encode your labels (y) as integers starting with 0, i.e. 0, 1, 2, ..., [num_class - 1].\n",
      "  warnings.warn(label_encoder_deprecation_msg, UserWarning)\n"
     ]
    },
    {
     "name": "stdout",
     "output_type": "stream",
     "text": [
      "[00:39:37] WARNING: ../src/learner.cc:1115: Starting in XGBoost 1.3.0, the default evaluation metric used with the objective 'multi:softprob' was changed from 'merror' to 'mlogloss'. Explicitly set eval_metric if you'd like to restore the old behavior.\n",
      "[00:47:28] WARNING: ../src/learner.cc:1115: Starting in XGBoost 1.3.0, the default evaluation metric used with the objective 'multi:softprob' was changed from 'merror' to 'mlogloss'. Explicitly set eval_metric if you'd like to restore the old behavior.\n",
      "[00:48:51] WARNING: ../src/learner.cc:1115: Starting in XGBoost 1.3.0, the default evaluation metric used with the objective 'multi:softprob' was changed from 'merror' to 'mlogloss'. Explicitly set eval_metric if you'd like to restore the old behavior.\n",
      "[00:52:53] WARNING: ../src/learner.cc:1115: Starting in XGBoost 1.3.0, the default evaluation metric used with the objective 'multi:softprob' was changed from 'merror' to 'mlogloss'. Explicitly set eval_metric if you'd like to restore the old behavior.\n",
      "[01:03:39] WARNING: ../src/learner.cc:1115: Starting in XGBoost 1.3.0, the default evaluation metric used with the objective 'multi:softprob' was changed from 'merror' to 'mlogloss'. Explicitly set eval_metric if you'd like to restore the old behavior.\n",
      "[01:07:54] WARNING: ../src/learner.cc:1115: Starting in XGBoost 1.3.0, the default evaluation metric used with the objective 'multi:softprob' was changed from 'merror' to 'mlogloss'. Explicitly set eval_metric if you'd like to restore the old behavior.\n",
      "[01:15:35] WARNING: ../src/learner.cc:1115: Starting in XGBoost 1.3.0, the default evaluation metric used with the objective 'multi:softprob' was changed from 'merror' to 'mlogloss'. Explicitly set eval_metric if you'd like to restore the old behavior.\n",
      "[01:23:43] WARNING: ../src/learner.cc:1115: Starting in XGBoost 1.3.0, the default evaluation metric used with the objective 'multi:softprob' was changed from 'merror' to 'mlogloss'. Explicitly set eval_metric if you'd like to restore the old behavior.\n",
      "[01:34:48] WARNING: ../src/learner.cc:1115: Starting in XGBoost 1.3.0, the default evaluation metric used with the objective 'multi:softprob' was changed from 'merror' to 'mlogloss'. Explicitly set eval_metric if you'd like to restore the old behavior.\n",
      "[01:38:52] WARNING: ../src/learner.cc:1115: Starting in XGBoost 1.3.0, the default evaluation metric used with the objective 'multi:softprob' was changed from 'merror' to 'mlogloss'. Explicitly set eval_metric if you'd like to restore the old behavior.\n",
      "[01:40:17] WARNING: ../src/learner.cc:1115: Starting in XGBoost 1.3.0, the default evaluation metric used with the objective 'multi:softprob' was changed from 'merror' to 'mlogloss'. Explicitly set eval_metric if you'd like to restore the old behavior.\n",
      "[01:52:20] WARNING: ../src/learner.cc:1115: Starting in XGBoost 1.3.0, the default evaluation metric used with the objective 'multi:softprob' was changed from 'merror' to 'mlogloss'. Explicitly set eval_metric if you'd like to restore the old behavior.\n",
      "[02:07:48] WARNING: ../src/learner.cc:1115: Starting in XGBoost 1.3.0, the default evaluation metric used with the objective 'multi:softprob' was changed from 'merror' to 'mlogloss'. Explicitly set eval_metric if you'd like to restore the old behavior.\n",
      "[02:14:32] WARNING: ../src/learner.cc:1115: Starting in XGBoost 1.3.0, the default evaluation metric used with the objective 'multi:softprob' was changed from 'merror' to 'mlogloss'. Explicitly set eval_metric if you'd like to restore the old behavior.\n",
      "[02:25:37] WARNING: ../src/learner.cc:1115: Starting in XGBoost 1.3.0, the default evaluation metric used with the objective 'multi:softprob' was changed from 'merror' to 'mlogloss'. Explicitly set eval_metric if you'd like to restore the old behavior.\n",
      "[02:33:15] WARNING: ../src/learner.cc:1115: Starting in XGBoost 1.3.0, the default evaluation metric used with the objective 'multi:softprob' was changed from 'merror' to 'mlogloss'. Explicitly set eval_metric if you'd like to restore the old behavior.\n",
      "[02:44:47] WARNING: ../src/learner.cc:1115: Starting in XGBoost 1.3.0, the default evaluation metric used with the objective 'multi:softprob' was changed from 'merror' to 'mlogloss'. Explicitly set eval_metric if you'd like to restore the old behavior.\n",
      "[02:46:04] WARNING: ../src/learner.cc:1115: Starting in XGBoost 1.3.0, the default evaluation metric used with the objective 'multi:softprob' was changed from 'merror' to 'mlogloss'. Explicitly set eval_metric if you'd like to restore the old behavior.\n",
      "[02:51:20] WARNING: ../src/learner.cc:1115: Starting in XGBoost 1.3.0, the default evaluation metric used with the objective 'multi:softprob' was changed from 'merror' to 'mlogloss'. Explicitly set eval_metric if you'd like to restore the old behavior.\n",
      "[02:58:38] WARNING: ../src/learner.cc:1115: Starting in XGBoost 1.3.0, the default evaluation metric used with the objective 'multi:softprob' was changed from 'merror' to 'mlogloss'. Explicitly set eval_metric if you'd like to restore the old behavior.\n",
      "[03:06:12] WARNING: ../src/learner.cc:1115: Starting in XGBoost 1.3.0, the default evaluation metric used with the objective 'multi:softprob' was changed from 'merror' to 'mlogloss'. Explicitly set eval_metric if you'd like to restore the old behavior.\n",
      "[03:08:19] WARNING: ../src/learner.cc:1115: Starting in XGBoost 1.3.0, the default evaluation metric used with the objective 'multi:softprob' was changed from 'merror' to 'mlogloss'. Explicitly set eval_metric if you'd like to restore the old behavior.\n",
      "[03:13:22] WARNING: ../src/learner.cc:1115: Starting in XGBoost 1.3.0, the default evaluation metric used with the objective 'multi:softprob' was changed from 'merror' to 'mlogloss'. Explicitly set eval_metric if you'd like to restore the old behavior.\n",
      "[03:15:44] WARNING: ../src/learner.cc:1115: Starting in XGBoost 1.3.0, the default evaluation metric used with the objective 'multi:softprob' was changed from 'merror' to 'mlogloss'. Explicitly set eval_metric if you'd like to restore the old behavior.\n",
      "[03:20:01] WARNING: ../src/learner.cc:1115: Starting in XGBoost 1.3.0, the default evaluation metric used with the objective 'multi:softprob' was changed from 'merror' to 'mlogloss'. Explicitly set eval_metric if you'd like to restore the old behavior.\n",
      "[03:27:39] WARNING: ../src/learner.cc:1115: Starting in XGBoost 1.3.0, the default evaluation metric used with the objective 'multi:softprob' was changed from 'merror' to 'mlogloss'. Explicitly set eval_metric if you'd like to restore the old behavior.\n",
      "[03:29:25] WARNING: ../src/learner.cc:1115: Starting in XGBoost 1.3.0, the default evaluation metric used with the objective 'multi:softprob' was changed from 'merror' to 'mlogloss'. Explicitly set eval_metric if you'd like to restore the old behavior.\n",
      "[03:36:28] WARNING: ../src/learner.cc:1115: Starting in XGBoost 1.3.0, the default evaluation metric used with the objective 'multi:softprob' was changed from 'merror' to 'mlogloss'. Explicitly set eval_metric if you'd like to restore the old behavior.\n"
     ]
    },
    {
     "name": "stderr",
     "output_type": "stream",
     "text": [
      "/home/fuhr/.venvs/ia/lib/python3.8/site-packages/xgboost/sklearn.py:1224: UserWarning: The use of label encoder in XGBClassifier is deprecated and will be removed in a future release. To remove this warning, do the following: 1) Pass option use_label_encoder=False when constructing XGBClassifier object; and 2) Encode your labels (y) as integers starting with 0, i.e. 0, 1, 2, ..., [num_class - 1].\n",
      "  warnings.warn(label_encoder_deprecation_msg, UserWarning)\n",
      "/home/fuhr/.venvs/ia/lib/python3.8/site-packages/xgboost/sklearn.py:1224: UserWarning: The use of label encoder in XGBClassifier is deprecated and will be removed in a future release. To remove this warning, do the following: 1) Pass option use_label_encoder=False when constructing XGBClassifier object; and 2) Encode your labels (y) as integers starting with 0, i.e. 0, 1, 2, ..., [num_class - 1].\n",
      "  warnings.warn(label_encoder_deprecation_msg, UserWarning)\n",
      "/home/fuhr/.venvs/ia/lib/python3.8/site-packages/xgboost/sklearn.py:1224: UserWarning: The use of label encoder in XGBClassifier is deprecated and will be removed in a future release. To remove this warning, do the following: 1) Pass option use_label_encoder=False when constructing XGBClassifier object; and 2) Encode your labels (y) as integers starting with 0, i.e. 0, 1, 2, ..., [num_class - 1].\n",
      "  warnings.warn(label_encoder_deprecation_msg, UserWarning)\n",
      "/home/fuhr/.venvs/ia/lib/python3.8/site-packages/xgboost/sklearn.py:1224: UserWarning: The use of label encoder in XGBClassifier is deprecated and will be removed in a future release. To remove this warning, do the following: 1) Pass option use_label_encoder=False when constructing XGBClassifier object; and 2) Encode your labels (y) as integers starting with 0, i.e. 0, 1, 2, ..., [num_class - 1].\n",
      "  warnings.warn(label_encoder_deprecation_msg, UserWarning)\n",
      "/home/fuhr/.venvs/ia/lib/python3.8/site-packages/xgboost/sklearn.py:1224: UserWarning: The use of label encoder in XGBClassifier is deprecated and will be removed in a future release. To remove this warning, do the following: 1) Pass option use_label_encoder=False when constructing XGBClassifier object; and 2) Encode your labels (y) as integers starting with 0, i.e. 0, 1, 2, ..., [num_class - 1].\n",
      "  warnings.warn(label_encoder_deprecation_msg, UserWarning)\n",
      "/home/fuhr/.venvs/ia/lib/python3.8/site-packages/xgboost/sklearn.py:1224: UserWarning: The use of label encoder in XGBClassifier is deprecated and will be removed in a future release. To remove this warning, do the following: 1) Pass option use_label_encoder=False when constructing XGBClassifier object; and 2) Encode your labels (y) as integers starting with 0, i.e. 0, 1, 2, ..., [num_class - 1].\n",
      "  warnings.warn(label_encoder_deprecation_msg, UserWarning)\n",
      "/home/fuhr/.venvs/ia/lib/python3.8/site-packages/xgboost/sklearn.py:1224: UserWarning: The use of label encoder in XGBClassifier is deprecated and will be removed in a future release. To remove this warning, do the following: 1) Pass option use_label_encoder=False when constructing XGBClassifier object; and 2) Encode your labels (y) as integers starting with 0, i.e. 0, 1, 2, ..., [num_class - 1].\n",
      "  warnings.warn(label_encoder_deprecation_msg, UserWarning)\n",
      "/home/fuhr/.venvs/ia/lib/python3.8/site-packages/xgboost/sklearn.py:1224: UserWarning: The use of label encoder in XGBClassifier is deprecated and will be removed in a future release. To remove this warning, do the following: 1) Pass option use_label_encoder=False when constructing XGBClassifier object; and 2) Encode your labels (y) as integers starting with 0, i.e. 0, 1, 2, ..., [num_class - 1].\n",
      "  warnings.warn(label_encoder_deprecation_msg, UserWarning)\n",
      "/home/fuhr/.venvs/ia/lib/python3.8/site-packages/xgboost/sklearn.py:1224: UserWarning: The use of label encoder in XGBClassifier is deprecated and will be removed in a future release. To remove this warning, do the following: 1) Pass option use_label_encoder=False when constructing XGBClassifier object; and 2) Encode your labels (y) as integers starting with 0, i.e. 0, 1, 2, ..., [num_class - 1].\n",
      "  warnings.warn(label_encoder_deprecation_msg, UserWarning)\n"
     ]
    },
    {
     "name": "stdout",
     "output_type": "stream",
     "text": [
      "[00:40:12] WARNING: ../src/learner.cc:1115: Starting in XGBoost 1.3.0, the default evaluation metric used with the objective 'multi:softprob' was changed from 'merror' to 'mlogloss'. Explicitly set eval_metric if you'd like to restore the old behavior.\n",
      "[00:48:01] WARNING: ../src/learner.cc:1115: Starting in XGBoost 1.3.0, the default evaluation metric used with the objective 'multi:softprob' was changed from 'merror' to 'mlogloss'. Explicitly set eval_metric if you'd like to restore the old behavior.\n",
      "[00:49:14] WARNING: ../src/learner.cc:1115: Starting in XGBoost 1.3.0, the default evaluation metric used with the objective 'multi:softprob' was changed from 'merror' to 'mlogloss'. Explicitly set eval_metric if you'd like to restore the old behavior.\n",
      "[00:53:31] WARNING: ../src/learner.cc:1115: Starting in XGBoost 1.3.0, the default evaluation metric used with the objective 'multi:softprob' was changed from 'merror' to 'mlogloss'. Explicitly set eval_metric if you'd like to restore the old behavior.\n",
      "[01:04:06] WARNING: ../src/learner.cc:1115: Starting in XGBoost 1.3.0, the default evaluation metric used with the objective 'multi:softprob' was changed from 'merror' to 'mlogloss'. Explicitly set eval_metric if you'd like to restore the old behavior.\n",
      "[01:08:20] WARNING: ../src/learner.cc:1115: Starting in XGBoost 1.3.0, the default evaluation metric used with the objective 'multi:softprob' was changed from 'merror' to 'mlogloss'. Explicitly set eval_metric if you'd like to restore the old behavior.\n",
      "[01:15:59] WARNING: ../src/learner.cc:1115: Starting in XGBoost 1.3.0, the default evaluation metric used with the objective 'multi:softprob' was changed from 'merror' to 'mlogloss'. Explicitly set eval_metric if you'd like to restore the old behavior.\n",
      "[01:23:50] WARNING: ../src/learner.cc:1115: Starting in XGBoost 1.3.0, the default evaluation metric used with the objective 'multi:softprob' was changed from 'merror' to 'mlogloss'. Explicitly set eval_metric if you'd like to restore the old behavior.\n",
      "[01:34:48] WARNING: ../src/learner.cc:1115: Starting in XGBoost 1.3.0, the default evaluation metric used with the objective 'multi:softprob' was changed from 'merror' to 'mlogloss'. Explicitly set eval_metric if you'd like to restore the old behavior.\n",
      "[01:39:09] WARNING: ../src/learner.cc:1115: Starting in XGBoost 1.3.0, the default evaluation metric used with the objective 'multi:softprob' was changed from 'merror' to 'mlogloss'. Explicitly set eval_metric if you'd like to restore the old behavior.\n",
      "[01:40:28] WARNING: ../src/learner.cc:1115: Starting in XGBoost 1.3.0, the default evaluation metric used with the objective 'multi:softprob' was changed from 'merror' to 'mlogloss'. Explicitly set eval_metric if you'd like to restore the old behavior.\n",
      "[01:52:39] WARNING: ../src/learner.cc:1115: Starting in XGBoost 1.3.0, the default evaluation metric used with the objective 'multi:softprob' was changed from 'merror' to 'mlogloss'. Explicitly set eval_metric if you'd like to restore the old behavior.\n",
      "[02:08:15] WARNING: ../src/learner.cc:1115: Starting in XGBoost 1.3.0, the default evaluation metric used with the objective 'multi:softprob' was changed from 'merror' to 'mlogloss'. Explicitly set eval_metric if you'd like to restore the old behavior.\n",
      "[02:15:15] WARNING: ../src/learner.cc:1115: Starting in XGBoost 1.3.0, the default evaluation metric used with the objective 'multi:softprob' was changed from 'merror' to 'mlogloss'. Explicitly set eval_metric if you'd like to restore the old behavior.\n",
      "[02:26:36] WARNING: ../src/learner.cc:1115: Starting in XGBoost 1.3.0, the default evaluation metric used with the objective 'multi:softprob' was changed from 'merror' to 'mlogloss'. Explicitly set eval_metric if you'd like to restore the old behavior.\n",
      "[02:34:16] WARNING: ../src/learner.cc:1115: Starting in XGBoost 1.3.0, the default evaluation metric used with the objective 'multi:softprob' was changed from 'merror' to 'mlogloss'. Explicitly set eval_metric if you'd like to restore the old behavior.\n",
      "[02:45:36] WARNING: ../src/learner.cc:1115: Starting in XGBoost 1.3.0, the default evaluation metric used with the objective 'multi:softprob' was changed from 'merror' to 'mlogloss'. Explicitly set eval_metric if you'd like to restore the old behavior.\n",
      "[02:47:02] WARNING: ../src/learner.cc:1115: Starting in XGBoost 1.3.0, the default evaluation metric used with the objective 'multi:softprob' was changed from 'merror' to 'mlogloss'. Explicitly set eval_metric if you'd like to restore the old behavior.\n",
      "[02:52:21] WARNING: ../src/learner.cc:1115: Starting in XGBoost 1.3.0, the default evaluation metric used with the objective 'multi:softprob' was changed from 'merror' to 'mlogloss'. Explicitly set eval_metric if you'd like to restore the old behavior.\n",
      "[02:59:43] WARNING: ../src/learner.cc:1115: Starting in XGBoost 1.3.0, the default evaluation metric used with the objective 'multi:softprob' was changed from 'merror' to 'mlogloss'. Explicitly set eval_metric if you'd like to restore the old behavior.\n",
      "[03:07:14] WARNING: ../src/learner.cc:1115: Starting in XGBoost 1.3.0, the default evaluation metric used with the objective 'multi:softprob' was changed from 'merror' to 'mlogloss'. Explicitly set eval_metric if you'd like to restore the old behavior.\n",
      "[03:09:31] WARNING: ../src/learner.cc:1115: Starting in XGBoost 1.3.0, the default evaluation metric used with the objective 'multi:softprob' was changed from 'merror' to 'mlogloss'. Explicitly set eval_metric if you'd like to restore the old behavior.\n",
      "[03:14:27] WARNING: ../src/learner.cc:1115: Starting in XGBoost 1.3.0, the default evaluation metric used with the objective 'multi:softprob' was changed from 'merror' to 'mlogloss'. Explicitly set eval_metric if you'd like to restore the old behavior.\n",
      "[03:16:41] WARNING: ../src/learner.cc:1115: Starting in XGBoost 1.3.0, the default evaluation metric used with the objective 'multi:softprob' was changed from 'merror' to 'mlogloss'. Explicitly set eval_metric if you'd like to restore the old behavior.\n",
      "[03:20:41] WARNING: ../src/learner.cc:1115: Starting in XGBoost 1.3.0, the default evaluation metric used with the objective 'multi:softprob' was changed from 'merror' to 'mlogloss'. Explicitly set eval_metric if you'd like to restore the old behavior.\n",
      "[03:28:35] WARNING: ../src/learner.cc:1115: Starting in XGBoost 1.3.0, the default evaluation metric used with the objective 'multi:softprob' was changed from 'merror' to 'mlogloss'. Explicitly set eval_metric if you'd like to restore the old behavior.\n",
      "[03:30:33] WARNING: ../src/learner.cc:1115: Starting in XGBoost 1.3.0, the default evaluation metric used with the objective 'multi:softprob' was changed from 'merror' to 'mlogloss'. Explicitly set eval_metric if you'd like to restore the old behavior.\n",
      "[03:37:23] WARNING: ../src/learner.cc:1115: Starting in XGBoost 1.3.0, the default evaluation metric used with the objective 'multi:softprob' was changed from 'merror' to 'mlogloss'. Explicitly set eval_metric if you'd like to restore the old behavior.\n"
     ]
    }
   ],
   "source": [
    "rating = SolutionTester(clfs, X, y, 'fin_rating_multiple')\n",
    "\n",
    "rating.run()"
   ]
  },
  {
   "cell_type": "code",
   "execution_count": 44,
   "metadata": {},
   "outputs": [
    {
     "name": "stdout",
     "output_type": "stream",
     "text": [
      "nome;abordagem;test_f1;test_acc;test_recall;train_f1;train_acc;train_recall\n",
      "fin_rating_multiple;Árvore de decisão-Normalização Rob;0,448;0,484;0,484;0,455;0,49;0,49\n",
      "fin_rating_multiple;Árvore de decisão-Originais;0,461;0,481;0,481;0,468;0,488;0,488\n",
      "fin_rating_multiple;Árvore de decisão-Normalização Std;0,493;0,508;0,508;0,511;0,525;0,525\n",
      "fin_rating_multiple;Floresta Randômica-Normalização Rob;0,53;0,553;0,553;0,54;0,564;0,564\n",
      "fin_rating_multiple;Floresta Randômica-Normalização Std;0,582;0,598;0,598;0,603;0,618;0,618\n",
      "fin_rating_multiple;Floresta Randômica-Originais;0,588;0,603;0,603;0,617;0,632;0,632\n",
      "fin_rating_multiple;Gradient Boosting-Normalização Std;0,7;0,703;0,703;0,789;0,79;0,79\n",
      "fin_rating_multiple;Gradient Boosting-Originais;0,701;0,703;0,703;0,787;0,788;0,788\n",
      "fin_rating_multiple;Gradient Boosting-Normalização Rob;0,701;0,704;0,704;0,783;0,785;0,785\n"
     ]
    }
   ],
   "source": [
    "_SEP = ';'\n",
    "\n",
    "def print_all_metrics_csv(modelagem, metrica_para_ordenar):\n",
    "    header = ['nome', 'abordagem', 'test_f1', 'test_acc', 'test_recall', 'train_f1', 'train_acc', 'train_recall']\n",
    "    results = []\n",
    "\n",
    "    for model in modelagem.history.values():\n",
    "        dic = {}\n",
    "\n",
    "        dic['nome'] = modelagem.name\n",
    "        dic['abordagem'] = '-'.join(model['name'])\n",
    "\n",
    "        dic['test_f1'] = round(model['score']['test_f1'], 3)\n",
    "        dic['test_acc'] = round(model['score']['test_acc'], 3)\n",
    "        dic['test_recall'] = round(model['score']['test_recall'], 3)\n",
    "        dic['train_f1'] = round(model['score']['train_f1'], 3)\n",
    "        dic['train_acc'] = round(model['score']['train_acc'], 3)\n",
    "        dic['train_recall'] = round(model['score']['train_recall'], 3)\n",
    "\n",
    "        results.append(dic)\n",
    "\n",
    "    print(_SEP.join(header)) # Header do CSV.\n",
    "\n",
    "    results.sort(key=lambda x: x[metrica_para_ordenar])\n",
    "\n",
    "    for dic in results:\n",
    "        print(_SEP.join(str(dic[k]).replace('.', ',') for k in header))\n",
    "\n",
    "print_all_metrics_csv(rating, 'test_f1')"
   ]
  },
  {
   "cell_type": "code",
   "execution_count": 45,
   "metadata": {
    "colab": {
     "base_uri": "https://localhost:8080/",
     "height": 699
    },
    "id": "6HfybwIKRDj9",
    "outputId": "7df634df-ec86-429f-9d5f-7162757f0e87"
   },
   "outputs": [
    {
     "name": "stdout",
     "output_type": "stream",
     "text": [
      "('Floresta Randômica', 'Normalização Std')\n",
      "{'test_acc': 0.5979404861058529, 'test_recall': 0.5979404861058529, 'test_f1': 0.5818949086554625, 'train_acc': 0.6184851041734276, 'train_recall': 0.6184851041734276, 'train_f1': 0.6031955413084108}\n"
     ]
    },
    {
     "name": "stderr",
     "output_type": "stream",
     "text": [
      "/home/fuhr/.venvs/ia/lib/python3.8/site-packages/sklearn/utils/deprecation.py:87: FutureWarning: Function plot_confusion_matrix is deprecated; Function `plot_confusion_matrix` is deprecated in 1.0 and will be removed in 1.2. Use one of the class methods: ConfusionMatrixDisplay.from_predictions or ConfusionMatrixDisplay.from_estimator.\n",
      "  warnings.warn(msg, category=FutureWarning)\n"
     ]
    },
    {
     "data": {
      "image/png": "[encoded data removed]",
      "text/plain": [
       "<Figure size 432x288 with 2 Axes>"
      ]
     },
     "metadata": {
      "needs_background": "light"
     },
     "output_type": "display_data"
    },
    {
     "name": "stdout",
     "output_type": "stream",
     "text": [
      "('Floresta Randômica', 'Originais')\n",
      "{'test_acc': 0.6033164231089574, 'test_recall': 0.6033164231089574, 'test_f1': 0.5877562818131409, 'train_acc': 0.6322450834036477, 'train_recall': 0.6322450834036477, 'train_f1': 0.6172930065789237}\n"
     ]
    },
    {
     "name": "stderr",
     "output_type": "stream",
     "text": [
      "/home/fuhr/.venvs/ia/lib/python3.8/site-packages/sklearn/utils/deprecation.py:87: FutureWarning: Function plot_confusion_matrix is deprecated; Function `plot_confusion_matrix` is deprecated in 1.0 and will be removed in 1.2. Use one of the class methods: ConfusionMatrixDisplay.from_predictions or ConfusionMatrixDisplay.from_estimator.\n",
      "  warnings.warn(msg, category=FutureWarning)\n"
     ]
    },
    {
     "data": {
      "image/png": "[encoded data removed]",
      "text/plain": [
       "<Figure size 432x288 with 2 Axes>"
      ]
     },
     "metadata": {
      "needs_background": "light"
     },
     "output_type": "display_data"
    },
    {
     "name": "stdout",
     "output_type": "stream",
     "text": [
      "('Gradient Boosting', 'Normalização Std')\n",
      "{'test_acc': 0.7028091163776785, 'test_recall': 0.7028091163776785, 'test_f1': 0.7001845548806442, 'train_acc': 0.7902252223015512, 'train_recall': 0.7902252223015512, 'train_f1': 0.7889919293928946}\n"
     ]
    },
    {
     "name": "stderr",
     "output_type": "stream",
     "text": [
      "/home/fuhr/.venvs/ia/lib/python3.8/site-packages/sklearn/utils/deprecation.py:87: FutureWarning: Function plot_confusion_matrix is deprecated; Function `plot_confusion_matrix` is deprecated in 1.0 and will be removed in 1.2. Use one of the class methods: ConfusionMatrixDisplay.from_predictions or ConfusionMatrixDisplay.from_estimator.\n",
      "  warnings.warn(msg, category=FutureWarning)\n"
     ]
    },
    {
     "data": {
      "image/png": "[encoded data removed]",
      "text/plain": [
       "<Figure size 432x288 with 2 Axes>"
      ]
     },
     "metadata": {
      "needs_background": "light"
     },
     "output_type": "display_data"
    },
    {
     "name": "stdout",
     "output_type": "stream",
     "text": [
      "('Gradient Boosting', 'Originais')\n",
      "{'test_acc': 0.7032634209131521, 'test_recall': 0.7032634209131521, 'test_f1': 0.7008844785201943, 'train_acc': 0.7880184331797235, 'train_recall': 0.7880184331797235, 'train_f1': 0.7868095143614807}\n"
     ]
    },
    {
     "name": "stderr",
     "output_type": "stream",
     "text": [
      "/home/fuhr/.venvs/ia/lib/python3.8/site-packages/sklearn/utils/deprecation.py:87: FutureWarning: Function plot_confusion_matrix is deprecated; Function `plot_confusion_matrix` is deprecated in 1.0 and will be removed in 1.2. Use one of the class methods: ConfusionMatrixDisplay.from_predictions or ConfusionMatrixDisplay.from_estimator.\n",
      "  warnings.warn(msg, category=FutureWarning)\n"
     ]
    },
    {
     "data": {
      "image/png": "[encoded data removed]",
      "text/plain": [
       "<Figure size 432x288 with 2 Axes>"
      ]
     },
     "metadata": {
      "needs_background": "light"
     },
     "output_type": "display_data"
    },
    {
     "name": "stdout",
     "output_type": "stream",
     "text": [
      "('Gradient Boosting', 'Normalização Rob')\n",
      "{'test_acc': 0.7037177254486258, 'test_recall': 0.7037177254486258, 'test_f1': 0.7009940721056098, 'train_acc': 0.7846757967157786, 'train_recall': 0.7846757967157786, 'train_f1': 0.7832753800242807}\n"
     ]
    },
    {
     "name": "stderr",
     "output_type": "stream",
     "text": [
      "/home/fuhr/.venvs/ia/lib/python3.8/site-packages/sklearn/utils/deprecation.py:87: FutureWarning: Function plot_confusion_matrix is deprecated; Function `plot_confusion_matrix` is deprecated in 1.0 and will be removed in 1.2. Use one of the class methods: ConfusionMatrixDisplay.from_predictions or ConfusionMatrixDisplay.from_estimator.\n",
      "  warnings.warn(msg, category=FutureWarning)\n"
     ]
    },
    {
     "data": {
      "image/png": "[encoded data removed]",
      "text/plain": [
       "<Figure size 432x288 with 2 Axes>"
      ]
     },
     "metadata": {
      "needs_background": "light"
     },
     "output_type": "display_data"
    }
   ],
   "source": [
    "rating.print_n_best_clfs(5)"
   ]
  },
  {
   "cell_type": "code",
   "execution_count": 479,
   "metadata": {},
   "outputs": [
    {
     "data": {
      "image/png": "[encoded data removed]",
      "text/plain": [
       "<Figure size 432x288 with 1 Axes>"
      ]
     },
     "metadata": {
      "needs_background": "light"
     },
     "output_type": "display_data"
    }
   ],
   "source": [
    "rating.plot_imp_features()"
   ]
  },
  {
   "cell_type": "code",
   "execution_count": 443,
   "metadata": {
    "colab": {
     "base_uri": "https://localhost:8080/"
    },
    "id": "EUCoMoQ_RhL6",
    "outputId": "c1c9f98f-c5f5-459d-ed7f-d54e4f69c90d"
   },
   "outputs": [
    {
     "data": {
      "text/plain": [
       "3    15520\n",
       "4    10309\n",
       "2     6189\n",
       "5     5953\n",
       "6     2872\n",
       "1     1794\n",
       "Name: rating_step, dtype: int64"
      ]
     },
     "execution_count": 443,
     "metadata": {},
     "output_type": "execute_result"
    }
   ],
   "source": [
    "y.value_counts()"
   ]
  },
  {
   "cell_type": "code",
   "execution_count": null,
   "metadata": {
    "colab": {
     "base_uri": "https://localhost:8080/"
    },
    "id": "1fga0_bZ0Npi",
    "outputId": "afa7f367-7fd0-41da-de7f-8bd681e2b8f7"
   },
   "outputs": [],
   "source": [
    "len(y)"
   ]
  },
  {
   "cell_type": "code",
   "execution_count": null,
   "metadata": {
    "colab": {
     "base_uri": "https://localhost:8080/",
     "height": 442
    },
    "id": "3uNje-Qp0QaP",
    "outputId": "784ade38-f8f5-42bd-f165-96ac73637ca6"
   },
   "outputs": [],
   "source": [
    "rating = SolutionTester(clfs, X, y, 'fin_rating')\n",
    "\n",
    "rating.run()"
   ]
  },
  {
   "cell_type": "code",
   "execution_count": null,
   "metadata": {
    "id": "x8x7Aq7rg5Jd"
   },
   "outputs": [],
   "source": [
    "dataset_clean['rating_step'].value_counts()"
   ]
  },
  {
   "cell_type": "code",
   "execution_count": null,
   "metadata": {
    "colab": {
     "base_uri": "https://localhost:8080/"
    },
    "id": "yXtQRfZZX0iq",
    "outputId": "3aad6a66-1456-4114-e272-63aa3e70a901"
   },
   "outputs": [],
   "source": [
    "\n",
    "from sklearn.model_selection import train_test_split\n",
    "\n",
    "kwa = {}\n",
    "\n",
    "kwa['random_state'] = 43\n",
    "kwa['test_size'] = 0.2\n",
    "\n",
    "X_train, X_test, y_train, y_test = train_test_split(X, y, **kwa)\n",
    "xgb = XGBClassifier()\n",
    "\n",
    "xgb.fit(X_train, y_train)\n",
    "test_clf(xgb, X_train, X_test, y_train, y_test)"
   ]
  },
  {
   "cell_type": "code",
   "execution_count": null,
   "metadata": {
    "colab": {
     "base_uri": "https://localhost:8080/"
    },
    "id": "mTx2vWVBfnRS",
    "outputId": "5765c9cb-fc2d-4d79-e3e3-683cfd21e745"
   },
   "outputs": [],
   "source": [
    "['rating_step'].value_counts()"
   ]
  },
  {
   "cell_type": "code",
   "execution_count": null,
   "metadata": {
    "colab": {
     "base_uri": "https://localhost:8080/"
    },
    "id": "vG6vyzbYgE8S",
    "outputId": "1f1e80da-04dc-4ead-afae-cc8ae3ba39e5"
   },
   "outputs": [],
   "source": [
    "dataset_clean.shape"
   ]
  },
  {
   "cell_type": "code",
   "execution_count": null,
   "metadata": {
    "colab": {
     "base_uri": "https://localhost:8080/"
    },
    "id": "pVBDCk6phJTs",
    "outputId": "6542fc8d-1d48-469c-a58a-6300ca3d1bc5"
   },
   "outputs": [],
   "source": []
  },
  {
   "cell_type": "code",
   "execution_count": null,
   "metadata": {
    "id": "aUybLrPohLYN"
   },
   "outputs": [],
   "source": []
  },
  {
   "cell_type": "code",
   "execution_count": null,
   "metadata": {},
   "outputs": [],
   "source": []
  },
  {
   "cell_type": "code",
   "execution_count": null,
   "metadata": {},
   "outputs": [],
   "source": []
  }
 ],
 "metadata": {
  "colab": {
   "collapsed_sections": [],
   "name": "Use of Machine Learning to classify companies credit through financial statements",
   "provenance": []
  },
  "kernelspec": {
   "display_name": "Python 3 (ipykernel)",
   "language": "python",
   "name": "python3"
  },
  "language_info": {
   "codemirror_mode": {
    "name": "ipython",
    "version": 3
   },
   "file_extension": ".py",
   "mimetype": "text/x-python",
   "name": "python",
   "nbconvert_exporter": "python",
   "pygments_lexer": "ipython3",
   "version": "3.8.10"
  }
 },
 "nbformat": 4,
 "nbformat_minor": 4
}
